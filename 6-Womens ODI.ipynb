{
 "cells": [
  {
   "cell_type": "code",
   "execution_count": 7,
   "metadata": {},
   "outputs": [],
   "source": [
    "from selenium import webdriver\n",
    "from bs4 import BeautifulSoup\n",
    "import pandas as pd"
   ]
  },
  {
   "cell_type": "markdown",
   "metadata": {},
   "source": [
    "# Top 10 ODI teams in women’s cricket along with the records for matches, points and rating."
   ]
  },
  {
   "cell_type": "code",
   "execution_count": 8,
   "metadata": {},
   "outputs": [],
   "source": [
    "path= r\"C:\\Users\\verma\\Desktop\\Selenium\\chromedriver.exe\""
   ]
  },
  {
   "cell_type": "code",
   "execution_count": 9,
   "metadata": {},
   "outputs": [],
   "source": [
    "driver= webdriver.Chrome(path)"
   ]
  },
  {
   "cell_type": "code",
   "execution_count": 76,
   "metadata": {},
   "outputs": [],
   "source": [
    "driver.get('https://www.icc-cricket.com/rankings/womens/team-rankings/odi')"
   ]
  },
  {
   "cell_type": "code",
   "execution_count": 77,
   "metadata": {},
   "outputs": [
    {
     "name": "stdout",
     "output_type": "stream",
     "text": [
      "15\n",
      "1\n",
      "1\n",
      "1\n"
     ]
    }
   ],
   "source": [
    "content=driver.page_source\n",
    "soup=BeautifulSoup(content)\n",
    "names=soup.findAll('span',attrs={'class':'u-show-phablet'})\n",
    "print(len(names))\n",
    "matches=soup.findAll('td',attrs={'class':'rankings-block__banner--matches'})\n",
    "print(len(matches))\n",
    "points=soup.findAll('td',attrs={'class':'rankings-block__banner--points'})\n",
    "print(len(points))\n",
    "rating=soup.findAll('td',attrs={'class':'rankings-block__banner--rating u-text-right'})\n",
    "print(len(rating))"
   ]
  },
  {
   "cell_type": "code",
   "execution_count": 78,
   "metadata": {},
   "outputs": [
    {
     "data": {
      "text/plain": [
       "[<span class=\"u-show-phablet\">AUS</span>,\n",
       " <span class=\"u-show-phablet\">IND</span>,\n",
       " <span class=\"u-show-phablet\">ENG</span>,\n",
       " <span class=\"u-show-phablet\">SA</span>,\n",
       " <span class=\"u-show-phablet\">NZ</span>,\n",
       " <span class=\"u-show-phablet\">WI</span>,\n",
       " <span class=\"u-show-phablet\">PAK</span>,\n",
       " <span class=\"u-show-phablet\">BAN</span>,\n",
       " <span class=\"u-show-phablet\">SL</span>,\n",
       " <span class=\"u-show-phablet\">IRE</span>,\n",
       " <span class=\"icn icn-facebook-circle-small u-show-phablet\"></span>,\n",
       " <span class=\"icn icn-twitter-circle-small u-show-phablet\"></span>,\n",
       " <span class=\"icn icn-instagram-circle-small u-show-phablet\"></span>,\n",
       " <span class=\"icn icn-youtube-circle-small u-show-phablet\"></span>,\n",
       " <span class=\"icn icn-tiktok-circle-small u-show-phablet\"></span>]"
      ]
     },
     "execution_count": 78,
     "metadata": {},
     "output_type": "execute_result"
    }
   ],
   "source": [
    "names"
   ]
  },
  {
   "cell_type": "code",
   "execution_count": 79,
   "metadata": {},
   "outputs": [],
   "source": [
    "Names=[]\n",
    "Matches=[]\n",
    "Matches1=[]\n",
    "Points=[]\n",
    "Points1=[]\n",
    "Rating=[]\n",
    "Rating1=[]"
   ]
  },
  {
   "cell_type": "code",
   "execution_count": 80,
   "metadata": {},
   "outputs": [
    {
     "data": {
      "text/plain": [
       "['AUS',\n",
       " 'IND',\n",
       " 'ENG',\n",
       " 'SA',\n",
       " 'NZ',\n",
       " 'WI',\n",
       " 'PAK',\n",
       " 'BAN',\n",
       " 'SL',\n",
       " 'IRE',\n",
       " '',\n",
       " '',\n",
       " '',\n",
       " '',\n",
       " '']"
      ]
     },
     "execution_count": 80,
     "metadata": {},
     "output_type": "execute_result"
    }
   ],
   "source": [
    "for i in names:\n",
    "    Names.append(i.text)\n",
    "Names"
   ]
  },
  {
   "cell_type": "code",
   "execution_count": 81,
   "metadata": {},
   "outputs": [
    {
     "data": {
      "text/html": [
       "<div>\n",
       "<style scoped>\n",
       "    .dataframe tbody tr th:only-of-type {\n",
       "        vertical-align: middle;\n",
       "    }\n",
       "\n",
       "    .dataframe tbody tr th {\n",
       "        vertical-align: top;\n",
       "    }\n",
       "\n",
       "    .dataframe thead th {\n",
       "        text-align: right;\n",
       "    }\n",
       "</style>\n",
       "<table border=\"1\" class=\"dataframe\">\n",
       "  <thead>\n",
       "    <tr style=\"text-align: right;\">\n",
       "      <th></th>\n",
       "      <th>Team</th>\n",
       "    </tr>\n",
       "  </thead>\n",
       "  <tbody>\n",
       "    <tr>\n",
       "      <th>0</th>\n",
       "      <td>AUS</td>\n",
       "    </tr>\n",
       "    <tr>\n",
       "      <th>1</th>\n",
       "      <td>IND</td>\n",
       "    </tr>\n",
       "    <tr>\n",
       "      <th>2</th>\n",
       "      <td>ENG</td>\n",
       "    </tr>\n",
       "    <tr>\n",
       "      <th>3</th>\n",
       "      <td>SA</td>\n",
       "    </tr>\n",
       "    <tr>\n",
       "      <th>4</th>\n",
       "      <td>NZ</td>\n",
       "    </tr>\n",
       "    <tr>\n",
       "      <th>5</th>\n",
       "      <td>WI</td>\n",
       "    </tr>\n",
       "    <tr>\n",
       "      <th>6</th>\n",
       "      <td>PAK</td>\n",
       "    </tr>\n",
       "    <tr>\n",
       "      <th>7</th>\n",
       "      <td>BAN</td>\n",
       "    </tr>\n",
       "    <tr>\n",
       "      <th>8</th>\n",
       "      <td>SL</td>\n",
       "    </tr>\n",
       "    <tr>\n",
       "      <th>9</th>\n",
       "      <td>IRE</td>\n",
       "    </tr>\n",
       "  </tbody>\n",
       "</table>\n",
       "</div>"
      ],
      "text/plain": [
       "  Team\n",
       "0  AUS\n",
       "1  IND\n",
       "2  ENG\n",
       "3   SA\n",
       "4   NZ\n",
       "5   WI\n",
       "6  PAK\n",
       "7  BAN\n",
       "8   SL\n",
       "9  IRE"
      ]
     },
     "execution_count": 81,
     "metadata": {},
     "output_type": "execute_result"
    }
   ],
   "source": [
    "df=pd.DataFrame(Names)\n",
    "df=df.rename({0:'Team'},axis=1)\n",
    "df=df.iloc[0:10]\n",
    "df"
   ]
  },
  {
   "cell_type": "code",
   "execution_count": 82,
   "metadata": {},
   "outputs": [
    {
     "data": {
      "text/plain": [
       "['15']"
      ]
     },
     "execution_count": 82,
     "metadata": {},
     "output_type": "execute_result"
    }
   ],
   "source": [
    "for i in matches:\n",
    "    Matches.append(i.text)\n",
    "Matches"
   ]
  },
  {
   "cell_type": "code",
   "execution_count": 83,
   "metadata": {},
   "outputs": [
    {
     "data": {
      "text/html": [
       "<div>\n",
       "<style scoped>\n",
       "    .dataframe tbody tr th:only-of-type {\n",
       "        vertical-align: middle;\n",
       "    }\n",
       "\n",
       "    .dataframe tbody tr th {\n",
       "        vertical-align: top;\n",
       "    }\n",
       "\n",
       "    .dataframe thead th {\n",
       "        text-align: right;\n",
       "    }\n",
       "</style>\n",
       "<table border=\"1\" class=\"dataframe\">\n",
       "  <thead>\n",
       "    <tr style=\"text-align: right;\">\n",
       "      <th></th>\n",
       "      <th>Matches</th>\n",
       "    </tr>\n",
       "  </thead>\n",
       "  <tbody>\n",
       "    <tr>\n",
       "      <th>0</th>\n",
       "      <td>15</td>\n",
       "    </tr>\n",
       "  </tbody>\n",
       "</table>\n",
       "</div>"
      ],
      "text/plain": [
       "  Matches\n",
       "0      15"
      ]
     },
     "execution_count": 83,
     "metadata": {},
     "output_type": "execute_result"
    }
   ],
   "source": [
    "df1=pd.DataFrame(Matches)\n",
    "df1=df1.rename({0:'Matches'},axis=1)\n",
    "df1"
   ]
  },
  {
   "cell_type": "code",
   "execution_count": 84,
   "metadata": {},
   "outputs": [
    {
     "data": {
      "text/plain": [
       "['2,436']"
      ]
     },
     "execution_count": 84,
     "metadata": {},
     "output_type": "execute_result"
    }
   ],
   "source": [
    "for i in points:\n",
    "    Points.append(i.text)\n",
    "Points"
   ]
  },
  {
   "cell_type": "code",
   "execution_count": 85,
   "metadata": {},
   "outputs": [
    {
     "data": {
      "text/html": [
       "<div>\n",
       "<style scoped>\n",
       "    .dataframe tbody tr th:only-of-type {\n",
       "        vertical-align: middle;\n",
       "    }\n",
       "\n",
       "    .dataframe tbody tr th {\n",
       "        vertical-align: top;\n",
       "    }\n",
       "\n",
       "    .dataframe thead th {\n",
       "        text-align: right;\n",
       "    }\n",
       "</style>\n",
       "<table border=\"1\" class=\"dataframe\">\n",
       "  <thead>\n",
       "    <tr style=\"text-align: right;\">\n",
       "      <th></th>\n",
       "      <th>Points</th>\n",
       "    </tr>\n",
       "  </thead>\n",
       "  <tbody>\n",
       "    <tr>\n",
       "      <th>0</th>\n",
       "      <td>2,436</td>\n",
       "    </tr>\n",
       "  </tbody>\n",
       "</table>\n",
       "</div>"
      ],
      "text/plain": [
       "  Points\n",
       "0  2,436"
      ]
     },
     "execution_count": 85,
     "metadata": {},
     "output_type": "execute_result"
    }
   ],
   "source": [
    "df2=pd.DataFrame(Points)\n",
    "df2=df2.rename({0:'Points'},axis=1)\n",
    "df2"
   ]
  },
  {
   "cell_type": "code",
   "execution_count": 86,
   "metadata": {},
   "outputs": [
    {
     "data": {
      "text/plain": [
       "['\\n                            162\\n                            \\n\\n']"
      ]
     },
     "execution_count": 86,
     "metadata": {},
     "output_type": "execute_result"
    }
   ],
   "source": [
    "for i in rating:\n",
    "    Rating.append(i.text)\n",
    "Rating"
   ]
  },
  {
   "cell_type": "code",
   "execution_count": 87,
   "metadata": {},
   "outputs": [
    {
     "data": {
      "text/plain": [
       "0                                162\n",
       "Name: Rating, dtype: object"
      ]
     },
     "execution_count": 87,
     "metadata": {},
     "output_type": "execute_result"
    }
   ],
   "source": [
    "df3=pd.DataFrame(Rating)\n",
    "df3=df3.rename({0:'Rating'},axis=1)\n",
    "df3=df3['Rating'].str.split('\\n').str[1]\n",
    "df3"
   ]
  },
  {
   "cell_type": "code",
   "execution_count": 88,
   "metadata": {},
   "outputs": [
    {
     "data": {
      "text/html": [
       "<div>\n",
       "<style scoped>\n",
       "    .dataframe tbody tr th:only-of-type {\n",
       "        vertical-align: middle;\n",
       "    }\n",
       "\n",
       "    .dataframe tbody tr th {\n",
       "        vertical-align: top;\n",
       "    }\n",
       "\n",
       "    .dataframe thead th {\n",
       "        text-align: right;\n",
       "    }\n",
       "</style>\n",
       "<table border=\"1\" class=\"dataframe\">\n",
       "  <thead>\n",
       "    <tr style=\"text-align: right;\">\n",
       "      <th></th>\n",
       "      <th>Rating</th>\n",
       "    </tr>\n",
       "  </thead>\n",
       "  <tbody>\n",
       "    <tr>\n",
       "      <th>0</th>\n",
       "      <td>162</td>\n",
       "    </tr>\n",
       "  </tbody>\n",
       "</table>\n",
       "</div>"
      ],
      "text/plain": [
       "                            Rating\n",
       "0                              162"
      ]
     },
     "execution_count": 88,
     "metadata": {},
     "output_type": "execute_result"
    }
   ],
   "source": [
    "df4=pd.DataFrame(df3)\n",
    "df4"
   ]
  },
  {
   "cell_type": "code",
   "execution_count": 89,
   "metadata": {},
   "outputs": [
    {
     "data": {
      "text/html": [
       "<div>\n",
       "<style scoped>\n",
       "    .dataframe tbody tr th:only-of-type {\n",
       "        vertical-align: middle;\n",
       "    }\n",
       "\n",
       "    .dataframe tbody tr th {\n",
       "        vertical-align: top;\n",
       "    }\n",
       "\n",
       "    .dataframe thead th {\n",
       "        text-align: right;\n",
       "    }\n",
       "</style>\n",
       "<table border=\"1\" class=\"dataframe\">\n",
       "  <thead>\n",
       "    <tr style=\"text-align: right;\">\n",
       "      <th></th>\n",
       "      <th>Matches</th>\n",
       "      <th>Points</th>\n",
       "      <th>Rating</th>\n",
       "    </tr>\n",
       "  </thead>\n",
       "  <tbody>\n",
       "    <tr>\n",
       "      <th>0</th>\n",
       "      <td>15</td>\n",
       "      <td>2,436</td>\n",
       "      <td>162</td>\n",
       "    </tr>\n",
       "  </tbody>\n",
       "</table>\n",
       "</div>"
      ],
      "text/plain": [
       "  Matches Points                           Rating\n",
       "0      15  2,436                              162"
      ]
     },
     "execution_count": 89,
     "metadata": {},
     "output_type": "execute_result"
    }
   ],
   "source": [
    "Aus=pd.concat([df1,df2,df4],axis=1)\n",
    "Aus"
   ]
  },
  {
   "cell_type": "code",
   "execution_count": 90,
   "metadata": {},
   "outputs": [
    {
     "name": "stdout",
     "output_type": "stream",
     "text": [
      "18\n",
      "18\n",
      "9\n"
     ]
    }
   ],
   "source": [
    "content=driver.page_source\n",
    "soup= BeautifulSoup(content)\n",
    "\n",
    "matches1=soup.findAll('td',attrs={'class':'table-body__cell u-center-text'})\n",
    "print(len(matches1))\n",
    "points1=soup.findAll('td',attrs={'class':'table-body__cell u-center-text'})\n",
    "print(len(points1))\n",
    "rating1=soup.findAll('td',attrs={'class':'table-body__cell u-text-right rating'})\n",
    "print(len(rating1))\n"
   ]
  },
  {
   "cell_type": "code",
   "execution_count": 92,
   "metadata": {},
   "outputs": [
    {
     "data": {
      "text/plain": [
       "[<td class=\"table-body__cell u-center-text\">15</td>,\n",
       " <td class=\"table-body__cell u-center-text\">1,812</td>,\n",
       " <td class=\"table-body__cell u-center-text\">14</td>,\n",
       " <td class=\"table-body__cell u-center-text\">1,670</td>,\n",
       " <td class=\"table-body__cell u-center-text\">16</td>,\n",
       " <td class=\"table-body__cell u-center-text\">1,713</td>,\n",
       " <td class=\"table-body__cell u-center-text\">15</td>,\n",
       " <td class=\"table-body__cell u-center-text\">1,384</td>,\n",
       " <td class=\"table-body__cell u-center-text\">12</td>,\n",
       " <td class=\"table-body__cell u-center-text\">1,025</td>,\n",
       " <td class=\"table-body__cell u-center-text\">12</td>,\n",
       " <td class=\"table-body__cell u-center-text\">927</td>,\n",
       " <td class=\"table-body__cell u-center-text\">5</td>,\n",
       " <td class=\"table-body__cell u-center-text\">306</td>,\n",
       " <td class=\"table-body__cell u-center-text\">11</td>,\n",
       " <td class=\"table-body__cell u-center-text\">519</td>,\n",
       " <td class=\"table-body__cell u-center-text\">2</td>,\n",
       " <td class=\"table-body__cell u-center-text\">25</td>]"
      ]
     },
     "execution_count": 92,
     "metadata": {},
     "output_type": "execute_result"
    }
   ],
   "source": [
    "matches1"
   ]
  },
  {
   "cell_type": "code",
   "execution_count": 93,
   "metadata": {},
   "outputs": [
    {
     "data": {
      "text/plain": [
       "[<td class=\"table-body__cell u-center-text\">15</td>,\n",
       " <td class=\"table-body__cell u-center-text\">1,812</td>,\n",
       " <td class=\"table-body__cell u-center-text\">14</td>,\n",
       " <td class=\"table-body__cell u-center-text\">1,670</td>,\n",
       " <td class=\"table-body__cell u-center-text\">16</td>,\n",
       " <td class=\"table-body__cell u-center-text\">1,713</td>,\n",
       " <td class=\"table-body__cell u-center-text\">15</td>,\n",
       " <td class=\"table-body__cell u-center-text\">1,384</td>,\n",
       " <td class=\"table-body__cell u-center-text\">12</td>,\n",
       " <td class=\"table-body__cell u-center-text\">1,025</td>,\n",
       " <td class=\"table-body__cell u-center-text\">12</td>,\n",
       " <td class=\"table-body__cell u-center-text\">927</td>,\n",
       " <td class=\"table-body__cell u-center-text\">5</td>,\n",
       " <td class=\"table-body__cell u-center-text\">306</td>,\n",
       " <td class=\"table-body__cell u-center-text\">11</td>,\n",
       " <td class=\"table-body__cell u-center-text\">519</td>,\n",
       " <td class=\"table-body__cell u-center-text\">2</td>,\n",
       " <td class=\"table-body__cell u-center-text\">25</td>]"
      ]
     },
     "execution_count": 93,
     "metadata": {},
     "output_type": "execute_result"
    }
   ],
   "source": [
    "points1"
   ]
  },
  {
   "cell_type": "code",
   "execution_count": 94,
   "metadata": {},
   "outputs": [
    {
     "data": {
      "text/plain": [
       "['15',\n",
       " '1,812',\n",
       " '14',\n",
       " '1,670',\n",
       " '16',\n",
       " '1,713',\n",
       " '15',\n",
       " '1,384',\n",
       " '12',\n",
       " '1,025',\n",
       " '12',\n",
       " '927',\n",
       " '5',\n",
       " '306',\n",
       " '11',\n",
       " '519',\n",
       " '2',\n",
       " '25']"
      ]
     },
     "execution_count": 94,
     "metadata": {},
     "output_type": "execute_result"
    }
   ],
   "source": [
    "for i in matches1:\n",
    "    Matches1.append(i.text)\n",
    "Matches1"
   ]
  },
  {
   "cell_type": "code",
   "execution_count": 97,
   "metadata": {},
   "outputs": [
    {
     "data": {
      "text/html": [
       "<div>\n",
       "<style scoped>\n",
       "    .dataframe tbody tr th:only-of-type {\n",
       "        vertical-align: middle;\n",
       "    }\n",
       "\n",
       "    .dataframe tbody tr th {\n",
       "        vertical-align: top;\n",
       "    }\n",
       "\n",
       "    .dataframe thead th {\n",
       "        text-align: right;\n",
       "    }\n",
       "</style>\n",
       "<table border=\"1\" class=\"dataframe\">\n",
       "  <thead>\n",
       "    <tr style=\"text-align: right;\">\n",
       "      <th></th>\n",
       "      <th>Matches</th>\n",
       "    </tr>\n",
       "  </thead>\n",
       "  <tbody>\n",
       "    <tr>\n",
       "      <th>0</th>\n",
       "      <td>15</td>\n",
       "    </tr>\n",
       "    <tr>\n",
       "      <th>1</th>\n",
       "      <td>14</td>\n",
       "    </tr>\n",
       "    <tr>\n",
       "      <th>2</th>\n",
       "      <td>16</td>\n",
       "    </tr>\n",
       "    <tr>\n",
       "      <th>3</th>\n",
       "      <td>15</td>\n",
       "    </tr>\n",
       "    <tr>\n",
       "      <th>4</th>\n",
       "      <td>12</td>\n",
       "    </tr>\n",
       "    <tr>\n",
       "      <th>5</th>\n",
       "      <td>12</td>\n",
       "    </tr>\n",
       "    <tr>\n",
       "      <th>6</th>\n",
       "      <td>5</td>\n",
       "    </tr>\n",
       "    <tr>\n",
       "      <th>7</th>\n",
       "      <td>11</td>\n",
       "    </tr>\n",
       "    <tr>\n",
       "      <th>8</th>\n",
       "      <td>2</td>\n",
       "    </tr>\n",
       "  </tbody>\n",
       "</table>\n",
       "</div>"
      ],
      "text/plain": [
       "  Matches\n",
       "0      15\n",
       "1      14\n",
       "2      16\n",
       "3      15\n",
       "4      12\n",
       "5      12\n",
       "6       5\n",
       "7      11\n",
       "8       2"
      ]
     },
     "execution_count": 97,
     "metadata": {},
     "output_type": "execute_result"
    }
   ],
   "source": [
    "df5=pd.DataFrame(Matches1)\n",
    "df6=df5.iloc[0:18:2]\n",
    "df6.index=range(9)\n",
    "df6=df6.rename({0: 'Matches'},axis=1)\n",
    "df6=df6.iloc[0:9]\n",
    "df6"
   ]
  },
  {
   "cell_type": "code",
   "execution_count": 98,
   "metadata": {},
   "outputs": [
    {
     "data": {
      "text/plain": [
       "['15',\n",
       " '1,812',\n",
       " '14',\n",
       " '1,670',\n",
       " '16',\n",
       " '1,713',\n",
       " '15',\n",
       " '1,384',\n",
       " '12',\n",
       " '1,025',\n",
       " '12',\n",
       " '927',\n",
       " '5',\n",
       " '306',\n",
       " '11',\n",
       " '519',\n",
       " '2',\n",
       " '25']"
      ]
     },
     "execution_count": 98,
     "metadata": {},
     "output_type": "execute_result"
    }
   ],
   "source": [
    "for i in points1:\n",
    "    Points1.append(i.text)\n",
    "Points1"
   ]
  },
  {
   "cell_type": "code",
   "execution_count": 99,
   "metadata": {},
   "outputs": [
    {
     "data": {
      "text/html": [
       "<div>\n",
       "<style scoped>\n",
       "    .dataframe tbody tr th:only-of-type {\n",
       "        vertical-align: middle;\n",
       "    }\n",
       "\n",
       "    .dataframe tbody tr th {\n",
       "        vertical-align: top;\n",
       "    }\n",
       "\n",
       "    .dataframe thead th {\n",
       "        text-align: right;\n",
       "    }\n",
       "</style>\n",
       "<table border=\"1\" class=\"dataframe\">\n",
       "  <thead>\n",
       "    <tr style=\"text-align: right;\">\n",
       "      <th></th>\n",
       "      <th>Points</th>\n",
       "    </tr>\n",
       "  </thead>\n",
       "  <tbody>\n",
       "    <tr>\n",
       "      <th>0</th>\n",
       "      <td>1,812</td>\n",
       "    </tr>\n",
       "    <tr>\n",
       "      <th>1</th>\n",
       "      <td>1,670</td>\n",
       "    </tr>\n",
       "    <tr>\n",
       "      <th>2</th>\n",
       "      <td>1,713</td>\n",
       "    </tr>\n",
       "    <tr>\n",
       "      <th>3</th>\n",
       "      <td>1,384</td>\n",
       "    </tr>\n",
       "    <tr>\n",
       "      <th>4</th>\n",
       "      <td>1,025</td>\n",
       "    </tr>\n",
       "    <tr>\n",
       "      <th>5</th>\n",
       "      <td>927</td>\n",
       "    </tr>\n",
       "    <tr>\n",
       "      <th>6</th>\n",
       "      <td>306</td>\n",
       "    </tr>\n",
       "    <tr>\n",
       "      <th>7</th>\n",
       "      <td>519</td>\n",
       "    </tr>\n",
       "    <tr>\n",
       "      <th>8</th>\n",
       "      <td>25</td>\n",
       "    </tr>\n",
       "  </tbody>\n",
       "</table>\n",
       "</div>"
      ],
      "text/plain": [
       "  Points\n",
       "0  1,812\n",
       "1  1,670\n",
       "2  1,713\n",
       "3  1,384\n",
       "4  1,025\n",
       "5    927\n",
       "6    306\n",
       "7    519\n",
       "8     25"
      ]
     },
     "execution_count": 99,
     "metadata": {},
     "output_type": "execute_result"
    }
   ],
   "source": [
    "df7=pd.DataFrame(Points1)\n",
    "df8=df7.iloc[1:18:2]\n",
    "df8.index=range(9)\n",
    "df8=df8.rename({0: 'Points'},axis=1)\n",
    "df8=df8.iloc[0:9]\n",
    "df8"
   ]
  },
  {
   "cell_type": "code",
   "execution_count": 100,
   "metadata": {},
   "outputs": [
    {
     "data": {
      "text/plain": [
       "['121', '119', '107', '92', '85', '77', '61', '47', '13']"
      ]
     },
     "execution_count": 100,
     "metadata": {},
     "output_type": "execute_result"
    }
   ],
   "source": [
    "for i in rating1:\n",
    "    Rating1.append(i.text)\n",
    "Rating1"
   ]
  },
  {
   "cell_type": "code",
   "execution_count": 109,
   "metadata": {},
   "outputs": [
    {
     "data": {
      "text/html": [
       "<div>\n",
       "<style scoped>\n",
       "    .dataframe tbody tr th:only-of-type {\n",
       "        vertical-align: middle;\n",
       "    }\n",
       "\n",
       "    .dataframe tbody tr th {\n",
       "        vertical-align: top;\n",
       "    }\n",
       "\n",
       "    .dataframe thead th {\n",
       "        text-align: right;\n",
       "    }\n",
       "</style>\n",
       "<table border=\"1\" class=\"dataframe\">\n",
       "  <thead>\n",
       "    <tr style=\"text-align: right;\">\n",
       "      <th></th>\n",
       "      <th>Rating</th>\n",
       "    </tr>\n",
       "  </thead>\n",
       "  <tbody>\n",
       "    <tr>\n",
       "      <th>0</th>\n",
       "      <td>121</td>\n",
       "    </tr>\n",
       "    <tr>\n",
       "      <th>1</th>\n",
       "      <td>119</td>\n",
       "    </tr>\n",
       "    <tr>\n",
       "      <th>2</th>\n",
       "      <td>107</td>\n",
       "    </tr>\n",
       "    <tr>\n",
       "      <th>3</th>\n",
       "      <td>92</td>\n",
       "    </tr>\n",
       "    <tr>\n",
       "      <th>4</th>\n",
       "      <td>85</td>\n",
       "    </tr>\n",
       "    <tr>\n",
       "      <th>5</th>\n",
       "      <td>77</td>\n",
       "    </tr>\n",
       "    <tr>\n",
       "      <th>6</th>\n",
       "      <td>61</td>\n",
       "    </tr>\n",
       "    <tr>\n",
       "      <th>7</th>\n",
       "      <td>47</td>\n",
       "    </tr>\n",
       "    <tr>\n",
       "      <th>8</th>\n",
       "      <td>13</td>\n",
       "    </tr>\n",
       "  </tbody>\n",
       "</table>\n",
       "</div>"
      ],
      "text/plain": [
       "  Rating\n",
       "0    121\n",
       "1    119\n",
       "2    107\n",
       "3     92\n",
       "4     85\n",
       "5     77\n",
       "6     61\n",
       "7     47\n",
       "8     13"
      ]
     },
     "execution_count": 109,
     "metadata": {},
     "output_type": "execute_result"
    }
   ],
   "source": [
    "df9=pd.DataFrame(Rating1)\n",
    "df9=df9.rename({0:'Rating'},axis=1)\n",
    "df9"
   ]
  },
  {
   "cell_type": "code",
   "execution_count": 110,
   "metadata": {},
   "outputs": [
    {
     "data": {
      "text/html": [
       "<div>\n",
       "<style scoped>\n",
       "    .dataframe tbody tr th:only-of-type {\n",
       "        vertical-align: middle;\n",
       "    }\n",
       "\n",
       "    .dataframe tbody tr th {\n",
       "        vertical-align: top;\n",
       "    }\n",
       "\n",
       "    .dataframe thead th {\n",
       "        text-align: right;\n",
       "    }\n",
       "</style>\n",
       "<table border=\"1\" class=\"dataframe\">\n",
       "  <thead>\n",
       "    <tr style=\"text-align: right;\">\n",
       "      <th></th>\n",
       "      <th>Matches</th>\n",
       "      <th>Points</th>\n",
       "      <th>Rating</th>\n",
       "    </tr>\n",
       "  </thead>\n",
       "  <tbody>\n",
       "    <tr>\n",
       "      <th>0</th>\n",
       "      <td>15</td>\n",
       "      <td>1,812</td>\n",
       "      <td>121</td>\n",
       "    </tr>\n",
       "    <tr>\n",
       "      <th>1</th>\n",
       "      <td>14</td>\n",
       "      <td>1,670</td>\n",
       "      <td>119</td>\n",
       "    </tr>\n",
       "    <tr>\n",
       "      <th>2</th>\n",
       "      <td>16</td>\n",
       "      <td>1,713</td>\n",
       "      <td>107</td>\n",
       "    </tr>\n",
       "    <tr>\n",
       "      <th>3</th>\n",
       "      <td>15</td>\n",
       "      <td>1,384</td>\n",
       "      <td>92</td>\n",
       "    </tr>\n",
       "    <tr>\n",
       "      <th>4</th>\n",
       "      <td>12</td>\n",
       "      <td>1,025</td>\n",
       "      <td>85</td>\n",
       "    </tr>\n",
       "    <tr>\n",
       "      <th>5</th>\n",
       "      <td>12</td>\n",
       "      <td>927</td>\n",
       "      <td>77</td>\n",
       "    </tr>\n",
       "    <tr>\n",
       "      <th>6</th>\n",
       "      <td>5</td>\n",
       "      <td>306</td>\n",
       "      <td>61</td>\n",
       "    </tr>\n",
       "    <tr>\n",
       "      <th>7</th>\n",
       "      <td>11</td>\n",
       "      <td>519</td>\n",
       "      <td>47</td>\n",
       "    </tr>\n",
       "    <tr>\n",
       "      <th>8</th>\n",
       "      <td>2</td>\n",
       "      <td>25</td>\n",
       "      <td>13</td>\n",
       "    </tr>\n",
       "  </tbody>\n",
       "</table>\n",
       "</div>"
      ],
      "text/plain": [
       "  Matches Points Rating\n",
       "0      15  1,812    121\n",
       "1      14  1,670    119\n",
       "2      16  1,713    107\n",
       "3      15  1,384     92\n",
       "4      12  1,025     85\n",
       "5      12    927     77\n",
       "6       5    306     61\n",
       "7      11    519     47\n",
       "8       2     25     13"
      ]
     },
     "execution_count": 110,
     "metadata": {},
     "output_type": "execute_result"
    }
   ],
   "source": [
    "ODI=pd.concat([df6,df8,df9],axis=1)\n",
    "ODI"
   ]
  },
  {
   "cell_type": "code",
   "execution_count": 111,
   "metadata": {},
   "outputs": [
    {
     "data": {
      "text/html": [
       "<div>\n",
       "<style scoped>\n",
       "    .dataframe tbody tr th:only-of-type {\n",
       "        vertical-align: middle;\n",
       "    }\n",
       "\n",
       "    .dataframe tbody tr th {\n",
       "        vertical-align: top;\n",
       "    }\n",
       "\n",
       "    .dataframe thead th {\n",
       "        text-align: right;\n",
       "    }\n",
       "</style>\n",
       "<table border=\"1\" class=\"dataframe\">\n",
       "  <thead>\n",
       "    <tr style=\"text-align: right;\">\n",
       "      <th></th>\n",
       "      <th>Matches</th>\n",
       "      <th>Points</th>\n",
       "      <th>Rating</th>\n",
       "    </tr>\n",
       "  </thead>\n",
       "  <tbody>\n",
       "    <tr>\n",
       "      <th>0</th>\n",
       "      <td>15</td>\n",
       "      <td>2,436</td>\n",
       "      <td>162</td>\n",
       "    </tr>\n",
       "    <tr>\n",
       "      <th>1</th>\n",
       "      <td>15</td>\n",
       "      <td>1,812</td>\n",
       "      <td>121</td>\n",
       "    </tr>\n",
       "    <tr>\n",
       "      <th>2</th>\n",
       "      <td>14</td>\n",
       "      <td>1,670</td>\n",
       "      <td>119</td>\n",
       "    </tr>\n",
       "    <tr>\n",
       "      <th>3</th>\n",
       "      <td>16</td>\n",
       "      <td>1,713</td>\n",
       "      <td>107</td>\n",
       "    </tr>\n",
       "    <tr>\n",
       "      <th>4</th>\n",
       "      <td>15</td>\n",
       "      <td>1,384</td>\n",
       "      <td>92</td>\n",
       "    </tr>\n",
       "    <tr>\n",
       "      <th>5</th>\n",
       "      <td>12</td>\n",
       "      <td>1,025</td>\n",
       "      <td>85</td>\n",
       "    </tr>\n",
       "    <tr>\n",
       "      <th>6</th>\n",
       "      <td>12</td>\n",
       "      <td>927</td>\n",
       "      <td>77</td>\n",
       "    </tr>\n",
       "    <tr>\n",
       "      <th>7</th>\n",
       "      <td>5</td>\n",
       "      <td>306</td>\n",
       "      <td>61</td>\n",
       "    </tr>\n",
       "    <tr>\n",
       "      <th>8</th>\n",
       "      <td>11</td>\n",
       "      <td>519</td>\n",
       "      <td>47</td>\n",
       "    </tr>\n",
       "    <tr>\n",
       "      <th>9</th>\n",
       "      <td>2</td>\n",
       "      <td>25</td>\n",
       "      <td>13</td>\n",
       "    </tr>\n",
       "  </tbody>\n",
       "</table>\n",
       "</div>"
      ],
      "text/plain": [
       "  Matches Points                           Rating\n",
       "0      15  2,436                              162\n",
       "1      15  1,812                              121\n",
       "2      14  1,670                              119\n",
       "3      16  1,713                              107\n",
       "4      15  1,384                               92\n",
       "5      12  1,025                               85\n",
       "6      12    927                               77\n",
       "7       5    306                               61\n",
       "8      11    519                               47\n",
       "9       2     25                               13"
      ]
     },
     "execution_count": 111,
     "metadata": {},
     "output_type": "execute_result"
    }
   ],
   "source": [
    "ODI1=pd.concat([Aus,ODI],axis=0)\n",
    "ODI1.index=range(10)\n",
    "ODI1"
   ]
  },
  {
   "cell_type": "code",
   "execution_count": 112,
   "metadata": {},
   "outputs": [
    {
     "data": {
      "text/html": [
       "<div>\n",
       "<style scoped>\n",
       "    .dataframe tbody tr th:only-of-type {\n",
       "        vertical-align: middle;\n",
       "    }\n",
       "\n",
       "    .dataframe tbody tr th {\n",
       "        vertical-align: top;\n",
       "    }\n",
       "\n",
       "    .dataframe thead th {\n",
       "        text-align: right;\n",
       "    }\n",
       "</style>\n",
       "<table border=\"1\" class=\"dataframe\">\n",
       "  <thead>\n",
       "    <tr style=\"text-align: right;\">\n",
       "      <th></th>\n",
       "      <th>Team</th>\n",
       "      <th>Matches</th>\n",
       "      <th>Points</th>\n",
       "      <th>Rating</th>\n",
       "    </tr>\n",
       "  </thead>\n",
       "  <tbody>\n",
       "    <tr>\n",
       "      <th>0</th>\n",
       "      <td>AUS</td>\n",
       "      <td>15</td>\n",
       "      <td>2,436</td>\n",
       "      <td>162</td>\n",
       "    </tr>\n",
       "    <tr>\n",
       "      <th>1</th>\n",
       "      <td>IND</td>\n",
       "      <td>15</td>\n",
       "      <td>1,812</td>\n",
       "      <td>121</td>\n",
       "    </tr>\n",
       "    <tr>\n",
       "      <th>2</th>\n",
       "      <td>ENG</td>\n",
       "      <td>14</td>\n",
       "      <td>1,670</td>\n",
       "      <td>119</td>\n",
       "    </tr>\n",
       "    <tr>\n",
       "      <th>3</th>\n",
       "      <td>SA</td>\n",
       "      <td>16</td>\n",
       "      <td>1,713</td>\n",
       "      <td>107</td>\n",
       "    </tr>\n",
       "    <tr>\n",
       "      <th>4</th>\n",
       "      <td>NZ</td>\n",
       "      <td>15</td>\n",
       "      <td>1,384</td>\n",
       "      <td>92</td>\n",
       "    </tr>\n",
       "    <tr>\n",
       "      <th>5</th>\n",
       "      <td>WI</td>\n",
       "      <td>12</td>\n",
       "      <td>1,025</td>\n",
       "      <td>85</td>\n",
       "    </tr>\n",
       "    <tr>\n",
       "      <th>6</th>\n",
       "      <td>PAK</td>\n",
       "      <td>12</td>\n",
       "      <td>927</td>\n",
       "      <td>77</td>\n",
       "    </tr>\n",
       "    <tr>\n",
       "      <th>7</th>\n",
       "      <td>BAN</td>\n",
       "      <td>5</td>\n",
       "      <td>306</td>\n",
       "      <td>61</td>\n",
       "    </tr>\n",
       "    <tr>\n",
       "      <th>8</th>\n",
       "      <td>SL</td>\n",
       "      <td>11</td>\n",
       "      <td>519</td>\n",
       "      <td>47</td>\n",
       "    </tr>\n",
       "    <tr>\n",
       "      <th>9</th>\n",
       "      <td>IRE</td>\n",
       "      <td>2</td>\n",
       "      <td>25</td>\n",
       "      <td>13</td>\n",
       "    </tr>\n",
       "  </tbody>\n",
       "</table>\n",
       "</div>"
      ],
      "text/plain": [
       "  Team Matches Points                           Rating\n",
       "0  AUS      15  2,436                              162\n",
       "1  IND      15  1,812                              121\n",
       "2  ENG      14  1,670                              119\n",
       "3   SA      16  1,713                              107\n",
       "4   NZ      15  1,384                               92\n",
       "5   WI      12  1,025                               85\n",
       "6  PAK      12    927                               77\n",
       "7  BAN       5    306                               61\n",
       "8   SL      11    519                               47\n",
       "9  IRE       2     25                               13"
      ]
     },
     "execution_count": 112,
     "metadata": {},
     "output_type": "execute_result"
    }
   ],
   "source": [
    "Womens_ODI=pd.concat([df,ODI1],axis=1)\n",
    "Womens_ODI"
   ]
  },
  {
   "cell_type": "markdown",
   "metadata": {},
   "source": [
    "# Top 10 women’s ODI players along with the records of their team and rating. \n"
   ]
  },
  {
   "cell_type": "code",
   "execution_count": 113,
   "metadata": {},
   "outputs": [],
   "source": [
    "path = r\"C:\\Users\\verma\\Desktop\\Selenium\\chromedriver.exe\""
   ]
  },
  {
   "cell_type": "code",
   "execution_count": 114,
   "metadata": {},
   "outputs": [],
   "source": [
    "driver = webdriver.Chrome(path)"
   ]
  },
  {
   "cell_type": "code",
   "execution_count": 115,
   "metadata": {},
   "outputs": [],
   "source": [
    "driver.get('https://www.icc-cricket.com/rankings/womens/player-rankings/odi/batting')"
   ]
  },
  {
   "cell_type": "code",
   "execution_count": 120,
   "metadata": {},
   "outputs": [
    {
     "name": "stdout",
     "output_type": "stream",
     "text": [
      "1\n",
      "1\n",
      "1\n"
     ]
    }
   ],
   "source": [
    "content=driver.page_source\n",
    "soup=BeautifulSoup(content)\n",
    "names=soup.findAll('div',attrs={'class':'rankings-block__banner--name-large'})\n",
    "print(len(names))\n",
    "team=soup.findAll('div',attrs={'class':'rankings-block__banner--nationality'})\n",
    "print(len(team))\n",
    "rating=soup.findAll('div',attrs={'class':'rankings-block__banner--rating'})\n",
    "print(len(rating))"
   ]
  },
  {
   "cell_type": "code",
   "execution_count": 121,
   "metadata": {},
   "outputs": [],
   "source": [
    "Names=[]\n",
    "Names1=[]\n",
    "Team=[]\n",
    "Team1=[]\n",
    "Rating=[]\n",
    "Rating1=[]"
   ]
  },
  {
   "cell_type": "code",
   "execution_count": 122,
   "metadata": {},
   "outputs": [
    {
     "data": {
      "text/plain": [
       "['Meg Lanning']"
      ]
     },
     "execution_count": 122,
     "metadata": {},
     "output_type": "execute_result"
    }
   ],
   "source": [
    "for i in names:\n",
    "    Names.append(i.text)\n",
    "Names"
   ]
  },
  {
   "cell_type": "code",
   "execution_count": 123,
   "metadata": {},
   "outputs": [
    {
     "data": {
      "text/html": [
       "<div>\n",
       "<style scoped>\n",
       "    .dataframe tbody tr th:only-of-type {\n",
       "        vertical-align: middle;\n",
       "    }\n",
       "\n",
       "    .dataframe tbody tr th {\n",
       "        vertical-align: top;\n",
       "    }\n",
       "\n",
       "    .dataframe thead th {\n",
       "        text-align: right;\n",
       "    }\n",
       "</style>\n",
       "<table border=\"1\" class=\"dataframe\">\n",
       "  <thead>\n",
       "    <tr style=\"text-align: right;\">\n",
       "      <th></th>\n",
       "      <th>Batsman Name</th>\n",
       "    </tr>\n",
       "  </thead>\n",
       "  <tbody>\n",
       "    <tr>\n",
       "      <th>0</th>\n",
       "      <td>Meg Lanning</td>\n",
       "    </tr>\n",
       "  </tbody>\n",
       "</table>\n",
       "</div>"
      ],
      "text/plain": [
       "  Batsman Name\n",
       "0  Meg Lanning"
      ]
     },
     "execution_count": 123,
     "metadata": {},
     "output_type": "execute_result"
    }
   ],
   "source": [
    "df10=pd.DataFrame(Names)\n",
    "df11=df10.rename({0:'Batsman Name'},axis=1)\n",
    "df11"
   ]
  },
  {
   "cell_type": "code",
   "execution_count": 124,
   "metadata": {},
   "outputs": [
    {
     "data": {
      "text/plain": [
       "['\\n\\nAUS\\n                    ']"
      ]
     },
     "execution_count": 124,
     "metadata": {},
     "output_type": "execute_result"
    }
   ],
   "source": [
    "for i in team:\n",
    "    Team.append(i.text)\n",
    "Team"
   ]
  },
  {
   "cell_type": "code",
   "execution_count": 125,
   "metadata": {},
   "outputs": [
    {
     "data": {
      "text/html": [
       "<div>\n",
       "<style scoped>\n",
       "    .dataframe tbody tr th:only-of-type {\n",
       "        vertical-align: middle;\n",
       "    }\n",
       "\n",
       "    .dataframe tbody tr th {\n",
       "        vertical-align: top;\n",
       "    }\n",
       "\n",
       "    .dataframe thead th {\n",
       "        text-align: right;\n",
       "    }\n",
       "</style>\n",
       "<table border=\"1\" class=\"dataframe\">\n",
       "  <thead>\n",
       "    <tr style=\"text-align: right;\">\n",
       "      <th></th>\n",
       "      <th>Team</th>\n",
       "    </tr>\n",
       "  </thead>\n",
       "  <tbody>\n",
       "    <tr>\n",
       "      <th>0</th>\n",
       "      <td>AUS</td>\n",
       "    </tr>\n",
       "  </tbody>\n",
       "</table>\n",
       "</div>"
      ],
      "text/plain": [
       "                         Team\n",
       "0    AUS                     "
      ]
     },
     "execution_count": 125,
     "metadata": {},
     "output_type": "execute_result"
    }
   ],
   "source": [
    "df12=pd.DataFrame(Team)\n",
    "df12[0] =df12[0].str.replace('\\n',' ')\n",
    "df12=df12.rename({0:'Team'},axis=1)\n",
    "df12"
   ]
  },
  {
   "cell_type": "code",
   "execution_count": 126,
   "metadata": {},
   "outputs": [
    {
     "data": {
      "text/plain": [
       "['749']"
      ]
     },
     "execution_count": 126,
     "metadata": {},
     "output_type": "execute_result"
    }
   ],
   "source": [
    "for i in rating:\n",
    "    Rating.append(i.text)\n",
    "Rating"
   ]
  },
  {
   "cell_type": "code",
   "execution_count": 127,
   "metadata": {},
   "outputs": [
    {
     "data": {
      "text/html": [
       "<div>\n",
       "<style scoped>\n",
       "    .dataframe tbody tr th:only-of-type {\n",
       "        vertical-align: middle;\n",
       "    }\n",
       "\n",
       "    .dataframe tbody tr th {\n",
       "        vertical-align: top;\n",
       "    }\n",
       "\n",
       "    .dataframe thead th {\n",
       "        text-align: right;\n",
       "    }\n",
       "</style>\n",
       "<table border=\"1\" class=\"dataframe\">\n",
       "  <thead>\n",
       "    <tr style=\"text-align: right;\">\n",
       "      <th></th>\n",
       "      <th>Rating</th>\n",
       "    </tr>\n",
       "  </thead>\n",
       "  <tbody>\n",
       "    <tr>\n",
       "      <th>0</th>\n",
       "      <td>749</td>\n",
       "    </tr>\n",
       "  </tbody>\n",
       "</table>\n",
       "</div>"
      ],
      "text/plain": [
       "  Rating\n",
       "0    749"
      ]
     },
     "execution_count": 127,
     "metadata": {},
     "output_type": "execute_result"
    }
   ],
   "source": [
    "df13=pd.DataFrame(Rating)\n",
    "df13=df13.rename({0:'Rating'},axis=1)\n",
    "df13"
   ]
  },
  {
   "cell_type": "code",
   "execution_count": 128,
   "metadata": {},
   "outputs": [
    {
     "data": {
      "text/html": [
       "<div>\n",
       "<style scoped>\n",
       "    .dataframe tbody tr th:only-of-type {\n",
       "        vertical-align: middle;\n",
       "    }\n",
       "\n",
       "    .dataframe tbody tr th {\n",
       "        vertical-align: top;\n",
       "    }\n",
       "\n",
       "    .dataframe thead th {\n",
       "        text-align: right;\n",
       "    }\n",
       "</style>\n",
       "<table border=\"1\" class=\"dataframe\">\n",
       "  <thead>\n",
       "    <tr style=\"text-align: right;\">\n",
       "      <th></th>\n",
       "      <th>Batsman Name</th>\n",
       "      <th>Team</th>\n",
       "      <th>Rating</th>\n",
       "    </tr>\n",
       "  </thead>\n",
       "  <tbody>\n",
       "    <tr>\n",
       "      <th>0</th>\n",
       "      <td>Meg Lanning</td>\n",
       "      <td>AUS</td>\n",
       "      <td>749</td>\n",
       "    </tr>\n",
       "  </tbody>\n",
       "</table>\n",
       "</div>"
      ],
      "text/plain": [
       "  Batsman Name                        Team Rating\n",
       "0  Meg Lanning    AUS                         749"
      ]
     },
     "execution_count": 128,
     "metadata": {},
     "output_type": "execute_result"
    }
   ],
   "source": [
    "player=pd.concat([df11,df12,df13],axis=1)\n",
    "player"
   ]
  },
  {
   "cell_type": "code",
   "execution_count": 129,
   "metadata": {},
   "outputs": [
    {
     "name": "stdout",
     "output_type": "stream",
     "text": [
      "99\n",
      "99\n",
      "99\n"
     ]
    }
   ],
   "source": [
    "names1=soup.findAll('td',attrs={'class':'table-body__cell rankings-table__name name'})\n",
    "print(len(names1))\n",
    "team1=soup.findAll('td',attrs={'class':'table-body__cell nationality-logo rankings-table__team'})\n",
    "print(len(team1))\n",
    "rating1=soup.findAll('td',attrs={'table-body__cell rating'})\n",
    "print(len(rating1))"
   ]
  },
  {
   "cell_type": "code",
   "execution_count": 131,
   "metadata": {},
   "outputs": [
    {
     "data": {
      "text/plain": [
       "['\\nStafanie Taylor\\n',\n",
       " '\\nAlyssa Healy\\n',\n",
       " '\\nSmriti Mandhana\\n',\n",
       " '\\nAmy Satterthwaite\\n',\n",
       " '\\nTammy Beaumont\\n',\n",
       " '\\nEllyse Perry\\n',\n",
       " '\\nLizelle Lee\\n',\n",
       " '\\nLaura Wolvaardt\\n',\n",
       " '\\nMithali Raj\\n',\n",
       " '\\nNatalie Sciver\\n',\n",
       " '\\nChamari Athapaththu\\n',\n",
       " '\\nRachael Haynes\\n',\n",
       " '\\nSuzie Bates\\n',\n",
       " '\\nSophie Devine\\n',\n",
       " '\\nHeather Knight\\n',\n",
       " '\\nBeth Mooney\\n',\n",
       " '\\nNahida Khan\\n',\n",
       " '\\nMignon du Preez\\n',\n",
       " '\\nHarmanpreet Kaur\\n',\n",
       " '\\nDane van Niekerk\\n',\n",
       " '\\nDeepti Sharma\\n',\n",
       " '\\nBismah Maroof\\n',\n",
       " '\\nJaveria Khan\\n',\n",
       " '\\nPoonam Raut\\n',\n",
       " '\\nMarizanne Kapp\\n',\n",
       " '\\nChloe-Lesleigh Tryon\\n',\n",
       " '\\nAmy Jones\\n',\n",
       " '\\nNicole Bolton\\n',\n",
       " '\\nKatie Perkins\\n',\n",
       " '\\nHayley Matthews\\n',\n",
       " '\\nDanielle Wyatt\\n',\n",
       " '\\nFargana Hoque\\n',\n",
       " '\\nSune Luus\\n',\n",
       " '\\nRumana Ahmed\\n',\n",
       " '\\nJemimah Rodriques\\n',\n",
       " '\\nAshleigh Gardner\\n',\n",
       " '\\nKatey Martin\\n',\n",
       " '\\nTrisha Chetty\\n',\n",
       " '\\nJess Jonassen\\n',\n",
       " '\\nShikha Pandey\\n',\n",
       " '\\nKatherine Brunt\\n',\n",
       " '\\nHarshitha Madavi\\n',\n",
       " '\\nFran Wilson\\n',\n",
       " '\\nJhulan Goswami\\n',\n",
       " '\\nRachel Priest\\n',\n",
       " '\\nMaddie Green\\n',\n",
       " '\\nShemaine Campbelle\\n',\n",
       " '\\nDilani Manodara\\n',\n",
       " '\\nNigar Sultana\\n',\n",
       " '\\nAliya Riaz\\n',\n",
       " '\\nChedean Nation\\n',\n",
       " '\\nKyshona Knight\\n',\n",
       " '\\nSidra Ameen\\n',\n",
       " '\\nNida Dar\\n',\n",
       " '\\nKycia Knight\\n',\n",
       " '\\nAndrie Steyn\\n',\n",
       " '\\nPriya Punia\\n',\n",
       " '\\nAmelia Kerr\\n',\n",
       " '\\nTaniya Bhatia\\n',\n",
       " '\\nNilakshi Silva\\n',\n",
       " '\\nSheneta Grimmond\\n',\n",
       " '\\nPoonam Yadav\\n',\n",
       " '\\nSalma Khatun\\n',\n",
       " '\\nLeigh Kasperek\\n',\n",
       " '\\nAnya Shrubsole\\n',\n",
       " '\\nNicola Carey\\n',\n",
       " '\\nUmaima Sohail\\n',\n",
       " '\\nAvanthika Mendis\\n',\n",
       " '\\nNatasha McLean\\n',\n",
       " '\\nSharmin Supta\\n',\n",
       " '\\nAnushka Sanjeewani\\n',\n",
       " '\\nKate Cross\\n',\n",
       " '\\nInoka Ranaweera\\n',\n",
       " '\\nStacy-Ann King\\n',\n",
       " '\\nRajeshwari Gayakwad\\n',\n",
       " '\\nMegan Schutt\\n',\n",
       " '\\nOshadi Ranasinghe\\n',\n",
       " '\\nLara Goodall\\n',\n",
       " '\\nHayley Jensen\\n',\n",
       " '\\nChinelle Henry\\n',\n",
       " '\\nNashra Sandhu\\n',\n",
       " '\\nShamilia Connell\\n',\n",
       " '\\nLea Tahuhu\\n',\n",
       " '\\nSanjida Islam\\n',\n",
       " '\\nSophie Ecclestone\\n',\n",
       " '\\nBernadine Bezuidenhout\\n',\n",
       " '\\nAfy Fletcher\\n',\n",
       " '\\nShabnim Ismail\\n',\n",
       " '\\nPanna Ghosh\\n',\n",
       " '\\nHolly Huddleston\\n',\n",
       " '\\nGeorgia Wareham\\n',\n",
       " '\\nHannah Rowe\\n',\n",
       " '\\nEkta Bisht\\n',\n",
       " '\\nAma Kanchana\\n',\n",
       " '\\nAnisa Mohammed\\n',\n",
       " '\\nAyabonga Khaka\\n',\n",
       " '\\nBritney Cooper\\n',\n",
       " '\\nTahlia McGrath\\n',\n",
       " '\\nSidra Nawaz\\n',\n",
       " '\\nStafanie Taylor\\n',\n",
       " '\\nAlyssa Healy\\n',\n",
       " '\\nSmriti Mandhana\\n',\n",
       " '\\nAmy Satterthwaite\\n',\n",
       " '\\nTammy Beaumont\\n',\n",
       " '\\nEllyse Perry\\n',\n",
       " '\\nLizelle Lee\\n',\n",
       " '\\nLaura Wolvaardt\\n',\n",
       " '\\nMithali Raj\\n',\n",
       " '\\nNatalie Sciver\\n',\n",
       " '\\nChamari Athapaththu\\n',\n",
       " '\\nRachael Haynes\\n',\n",
       " '\\nSuzie Bates\\n',\n",
       " '\\nSophie Devine\\n',\n",
       " '\\nHeather Knight\\n',\n",
       " '\\nBeth Mooney\\n',\n",
       " '\\nNahida Khan\\n',\n",
       " '\\nMignon du Preez\\n',\n",
       " '\\nHarmanpreet Kaur\\n',\n",
       " '\\nDane van Niekerk\\n',\n",
       " '\\nDeepti Sharma\\n',\n",
       " '\\nBismah Maroof\\n',\n",
       " '\\nJaveria Khan\\n',\n",
       " '\\nPoonam Raut\\n',\n",
       " '\\nMarizanne Kapp\\n',\n",
       " '\\nChloe-Lesleigh Tryon\\n',\n",
       " '\\nAmy Jones\\n',\n",
       " '\\nNicole Bolton\\n',\n",
       " '\\nKatie Perkins\\n',\n",
       " '\\nHayley Matthews\\n',\n",
       " '\\nDanielle Wyatt\\n',\n",
       " '\\nFargana Hoque\\n',\n",
       " '\\nSune Luus\\n',\n",
       " '\\nRumana Ahmed\\n',\n",
       " '\\nJemimah Rodriques\\n',\n",
       " '\\nAshleigh Gardner\\n',\n",
       " '\\nKatey Martin\\n',\n",
       " '\\nTrisha Chetty\\n',\n",
       " '\\nJess Jonassen\\n',\n",
       " '\\nShikha Pandey\\n',\n",
       " '\\nKatherine Brunt\\n',\n",
       " '\\nHarshitha Madavi\\n',\n",
       " '\\nFran Wilson\\n',\n",
       " '\\nJhulan Goswami\\n',\n",
       " '\\nRachel Priest\\n',\n",
       " '\\nMaddie Green\\n',\n",
       " '\\nShemaine Campbelle\\n',\n",
       " '\\nDilani Manodara\\n',\n",
       " '\\nNigar Sultana\\n',\n",
       " '\\nAliya Riaz\\n',\n",
       " '\\nChedean Nation\\n',\n",
       " '\\nKyshona Knight\\n',\n",
       " '\\nSidra Ameen\\n',\n",
       " '\\nNida Dar\\n',\n",
       " '\\nKycia Knight\\n',\n",
       " '\\nAndrie Steyn\\n',\n",
       " '\\nPriya Punia\\n',\n",
       " '\\nAmelia Kerr\\n',\n",
       " '\\nTaniya Bhatia\\n',\n",
       " '\\nNilakshi Silva\\n',\n",
       " '\\nSheneta Grimmond\\n',\n",
       " '\\nPoonam Yadav\\n',\n",
       " '\\nSalma Khatun\\n',\n",
       " '\\nLeigh Kasperek\\n',\n",
       " '\\nAnya Shrubsole\\n',\n",
       " '\\nNicola Carey\\n',\n",
       " '\\nUmaima Sohail\\n',\n",
       " '\\nAvanthika Mendis\\n',\n",
       " '\\nNatasha McLean\\n',\n",
       " '\\nSharmin Supta\\n',\n",
       " '\\nAnushka Sanjeewani\\n',\n",
       " '\\nKate Cross\\n',\n",
       " '\\nInoka Ranaweera\\n',\n",
       " '\\nStacy-Ann King\\n',\n",
       " '\\nRajeshwari Gayakwad\\n',\n",
       " '\\nMegan Schutt\\n',\n",
       " '\\nOshadi Ranasinghe\\n',\n",
       " '\\nLara Goodall\\n',\n",
       " '\\nHayley Jensen\\n',\n",
       " '\\nChinelle Henry\\n',\n",
       " '\\nNashra Sandhu\\n',\n",
       " '\\nShamilia Connell\\n',\n",
       " '\\nLea Tahuhu\\n',\n",
       " '\\nSanjida Islam\\n',\n",
       " '\\nSophie Ecclestone\\n',\n",
       " '\\nBernadine Bezuidenhout\\n',\n",
       " '\\nAfy Fletcher\\n',\n",
       " '\\nShabnim Ismail\\n',\n",
       " '\\nPanna Ghosh\\n',\n",
       " '\\nHolly Huddleston\\n',\n",
       " '\\nGeorgia Wareham\\n',\n",
       " '\\nHannah Rowe\\n',\n",
       " '\\nEkta Bisht\\n',\n",
       " '\\nAma Kanchana\\n',\n",
       " '\\nAnisa Mohammed\\n',\n",
       " '\\nAyabonga Khaka\\n',\n",
       " '\\nBritney Cooper\\n',\n",
       " '\\nTahlia McGrath\\n',\n",
       " '\\nSidra Nawaz\\n']"
      ]
     },
     "execution_count": 131,
     "metadata": {},
     "output_type": "execute_result"
    }
   ],
   "source": [
    "for i in names1:\n",
    "    Names1.append(i.text)\n",
    "Names1"
   ]
  },
  {
   "cell_type": "code",
   "execution_count": 132,
   "metadata": {},
   "outputs": [
    {
     "data": {
      "text/html": [
       "<div>\n",
       "<style scoped>\n",
       "    .dataframe tbody tr th:only-of-type {\n",
       "        vertical-align: middle;\n",
       "    }\n",
       "\n",
       "    .dataframe tbody tr th {\n",
       "        vertical-align: top;\n",
       "    }\n",
       "\n",
       "    .dataframe thead th {\n",
       "        text-align: right;\n",
       "    }\n",
       "</style>\n",
       "<table border=\"1\" class=\"dataframe\">\n",
       "  <thead>\n",
       "    <tr style=\"text-align: right;\">\n",
       "      <th></th>\n",
       "      <th>Batsman Name</th>\n",
       "    </tr>\n",
       "  </thead>\n",
       "  <tbody>\n",
       "    <tr>\n",
       "      <th>0</th>\n",
       "      <td>Stafanie Taylor</td>\n",
       "    </tr>\n",
       "    <tr>\n",
       "      <th>1</th>\n",
       "      <td>Alyssa Healy</td>\n",
       "    </tr>\n",
       "    <tr>\n",
       "      <th>2</th>\n",
       "      <td>Smriti Mandhana</td>\n",
       "    </tr>\n",
       "    <tr>\n",
       "      <th>3</th>\n",
       "      <td>Amy Satterthwaite</td>\n",
       "    </tr>\n",
       "    <tr>\n",
       "      <th>4</th>\n",
       "      <td>Tammy Beaumont</td>\n",
       "    </tr>\n",
       "    <tr>\n",
       "      <th>5</th>\n",
       "      <td>Ellyse Perry</td>\n",
       "    </tr>\n",
       "    <tr>\n",
       "      <th>6</th>\n",
       "      <td>Lizelle Lee</td>\n",
       "    </tr>\n",
       "    <tr>\n",
       "      <th>7</th>\n",
       "      <td>Laura Wolvaardt</td>\n",
       "    </tr>\n",
       "    <tr>\n",
       "      <th>8</th>\n",
       "      <td>Mithali Raj</td>\n",
       "    </tr>\n",
       "  </tbody>\n",
       "</table>\n",
       "</div>"
      ],
      "text/plain": [
       "          Batsman Name\n",
       "0     Stafanie Taylor \n",
       "1        Alyssa Healy \n",
       "2     Smriti Mandhana \n",
       "3   Amy Satterthwaite \n",
       "4      Tammy Beaumont \n",
       "5        Ellyse Perry \n",
       "6         Lizelle Lee \n",
       "7     Laura Wolvaardt \n",
       "8         Mithali Raj "
      ]
     },
     "execution_count": 132,
     "metadata": {},
     "output_type": "execute_result"
    }
   ],
   "source": [
    "df14=pd.DataFrame(Names1)\n",
    "df14[0] =df14[0].str.replace('\\n',' ')\n",
    "df14=df14.rename({0:'Batsman Name'},axis=1)\n",
    "df14=df14.iloc[0:9]\n",
    "df14"
   ]
  },
  {
   "cell_type": "code",
   "execution_count": 133,
   "metadata": {},
   "outputs": [],
   "source": [
    "for i in team1:\n",
    "    Team1.append(i.text)"
   ]
  },
  {
   "cell_type": "code",
   "execution_count": 134,
   "metadata": {},
   "outputs": [
    {
     "data": {
      "text/plain": [
       "['\\n\\nWI\\n',\n",
       " '\\n\\nAUS\\n',\n",
       " '\\n\\nIND\\n',\n",
       " '\\n\\nNZ\\n',\n",
       " '\\n\\nENG\\n',\n",
       " '\\n\\nAUS\\n',\n",
       " '\\n\\nSA\\n',\n",
       " '\\n\\nSA\\n',\n",
       " '\\n\\nIND\\n',\n",
       " '\\n\\nENG\\n',\n",
       " '\\n\\nSL\\n',\n",
       " '\\n\\nAUS\\n',\n",
       " '\\n\\nNZ\\n',\n",
       " '\\n\\nNZ\\n',\n",
       " '\\n\\nENG\\n',\n",
       " '\\n\\nAUS\\n',\n",
       " '\\n\\nPAK\\n',\n",
       " '\\n\\nSA\\n',\n",
       " '\\n\\nIND\\n',\n",
       " '\\n\\nSA\\n',\n",
       " '\\n\\nIND\\n',\n",
       " '\\n\\nPAK\\n',\n",
       " '\\n\\nPAK\\n',\n",
       " '\\n\\nIND\\n',\n",
       " '\\n\\nSA\\n',\n",
       " '\\n\\nSA\\n',\n",
       " '\\n\\nENG\\n',\n",
       " '\\n\\nAUS\\n',\n",
       " '\\n\\nNZ\\n',\n",
       " '\\n\\nWI\\n',\n",
       " '\\n\\nENG\\n',\n",
       " '\\n\\nBAN\\n',\n",
       " '\\n\\nSA\\n',\n",
       " '\\n\\nBAN\\n',\n",
       " '\\n\\nIND\\n',\n",
       " '\\n\\nAUS\\n',\n",
       " '\\n\\nNZ\\n',\n",
       " '\\n\\nSA\\n',\n",
       " '\\n\\nAUS\\n',\n",
       " '\\n\\nIND\\n',\n",
       " '\\n\\nENG\\n',\n",
       " '\\n\\nSL\\n',\n",
       " '\\n\\nENG\\n',\n",
       " '\\n\\nIND\\n',\n",
       " '\\n\\nNZ\\n',\n",
       " '\\n\\nNZ\\n',\n",
       " '\\n\\nWI\\n',\n",
       " '\\n\\nSL\\n',\n",
       " '\\n\\nBAN\\n',\n",
       " '\\n\\nPAK\\n',\n",
       " '\\n\\nWI\\n',\n",
       " '\\n\\nWI\\n',\n",
       " '\\n\\nPAK\\n',\n",
       " '\\n\\nPAK\\n',\n",
       " '\\n\\nWI\\n',\n",
       " '\\n\\nSA\\n',\n",
       " '\\n\\nIND\\n',\n",
       " '\\n\\nNZ\\n',\n",
       " '\\n\\nIND\\n',\n",
       " '\\n\\nSL\\n',\n",
       " '\\n\\nWI\\n',\n",
       " '\\n\\nIND\\n',\n",
       " '\\n\\nBAN\\n',\n",
       " '\\n\\nNZ\\n',\n",
       " '\\n\\nENG\\n',\n",
       " '\\n\\nAUS\\n',\n",
       " '\\n\\nPAK\\n',\n",
       " '\\n\\nSL\\n',\n",
       " '\\n\\nWI\\n',\n",
       " '\\n\\nBAN\\n',\n",
       " '\\n\\nSL\\n',\n",
       " '\\n\\nENG\\n',\n",
       " '\\n\\nSL\\n',\n",
       " '\\n\\nWI\\n',\n",
       " '\\n\\nIND\\n',\n",
       " '\\n\\nAUS\\n',\n",
       " '\\n\\nSL\\n',\n",
       " '\\n\\nSA\\n',\n",
       " '\\n\\nNZ\\n',\n",
       " '\\n\\nWI\\n',\n",
       " '\\n\\nPAK\\n',\n",
       " '\\n\\nWI\\n',\n",
       " '\\n\\nNZ\\n',\n",
       " '\\n\\nBAN\\n',\n",
       " '\\n\\nENG\\n',\n",
       " '\\n\\nNZ\\n',\n",
       " '\\n\\nWI\\n',\n",
       " '\\n\\nSA\\n',\n",
       " '\\n\\nBAN\\n',\n",
       " '\\n\\nNZ\\n',\n",
       " '\\n\\nAUS\\n',\n",
       " '\\n\\nNZ\\n',\n",
       " '\\n\\nIND\\n',\n",
       " '\\n\\nSL\\n',\n",
       " '\\n\\nWI\\n',\n",
       " '\\n\\nSA\\n',\n",
       " '\\n\\nWI\\n',\n",
       " '\\n\\nAUS\\n',\n",
       " '\\n\\nPAK\\n']"
      ]
     },
     "execution_count": 134,
     "metadata": {},
     "output_type": "execute_result"
    }
   ],
   "source": [
    "Team1"
   ]
  },
  {
   "cell_type": "code",
   "execution_count": 135,
   "metadata": {},
   "outputs": [
    {
     "data": {
      "text/html": [
       "<div>\n",
       "<style scoped>\n",
       "    .dataframe tbody tr th:only-of-type {\n",
       "        vertical-align: middle;\n",
       "    }\n",
       "\n",
       "    .dataframe tbody tr th {\n",
       "        vertical-align: top;\n",
       "    }\n",
       "\n",
       "    .dataframe thead th {\n",
       "        text-align: right;\n",
       "    }\n",
       "</style>\n",
       "<table border=\"1\" class=\"dataframe\">\n",
       "  <thead>\n",
       "    <tr style=\"text-align: right;\">\n",
       "      <th></th>\n",
       "      <th>Team</th>\n",
       "    </tr>\n",
       "  </thead>\n",
       "  <tbody>\n",
       "    <tr>\n",
       "      <th>0</th>\n",
       "      <td>WI</td>\n",
       "    </tr>\n",
       "    <tr>\n",
       "      <th>1</th>\n",
       "      <td>AUS</td>\n",
       "    </tr>\n",
       "    <tr>\n",
       "      <th>2</th>\n",
       "      <td>IND</td>\n",
       "    </tr>\n",
       "    <tr>\n",
       "      <th>3</th>\n",
       "      <td>NZ</td>\n",
       "    </tr>\n",
       "    <tr>\n",
       "      <th>4</th>\n",
       "      <td>ENG</td>\n",
       "    </tr>\n",
       "    <tr>\n",
       "      <th>5</th>\n",
       "      <td>AUS</td>\n",
       "    </tr>\n",
       "    <tr>\n",
       "      <th>6</th>\n",
       "      <td>SA</td>\n",
       "    </tr>\n",
       "    <tr>\n",
       "      <th>7</th>\n",
       "      <td>SA</td>\n",
       "    </tr>\n",
       "    <tr>\n",
       "      <th>8</th>\n",
       "      <td>IND</td>\n",
       "    </tr>\n",
       "  </tbody>\n",
       "</table>\n",
       "</div>"
      ],
      "text/plain": [
       "     Team\n",
       "0     WI \n",
       "1    AUS \n",
       "2    IND \n",
       "3     NZ \n",
       "4    ENG \n",
       "5    AUS \n",
       "6     SA \n",
       "7     SA \n",
       "8    IND "
      ]
     },
     "execution_count": 135,
     "metadata": {},
     "output_type": "execute_result"
    }
   ],
   "source": [
    "df15=pd.DataFrame(Team1)\n",
    "df15[0] =df15[0].str.replace('\\n',' ')\n",
    "df15=df15.rename({0:'Team'},axis=1)\n",
    "df15=df15.iloc[0:9]\n",
    "df15"
   ]
  },
  {
   "cell_type": "code",
   "execution_count": 136,
   "metadata": {},
   "outputs": [
    {
     "data": {
      "text/plain": [
       "['746',\n",
       " '741',\n",
       " '732',\n",
       " '723',\n",
       " '716',\n",
       " '691',\n",
       " '690',\n",
       " '689',\n",
       " '687',\n",
       " '670',\n",
       " '667',\n",
       " '655',\n",
       " '651',\n",
       " '649',\n",
       " '641',\n",
       " '603',\n",
       " '600',\n",
       " '597',\n",
       " '594',\n",
       " '585',\n",
       " '562',\n",
       " '553',\n",
       " '551',\n",
       " '543',\n",
       " '528',\n",
       " '514',\n",
       " '511',\n",
       " '484',\n",
       " '466',\n",
       " '461',\n",
       " '448',\n",
       " '445',\n",
       " '437',\n",
       " '437',\n",
       " '409',\n",
       " '399',\n",
       " '396',\n",
       " '385',\n",
       " '375',\n",
       " '371',\n",
       " '368',\n",
       " '353',\n",
       " '352',\n",
       " '325',\n",
       " '322',\n",
       " '320',\n",
       " '319',\n",
       " '319',\n",
       " '317',\n",
       " '299',\n",
       " '292',\n",
       " '281',\n",
       " '280',\n",
       " '280',\n",
       " '276',\n",
       " '275',\n",
       " '269',\n",
       " '269',\n",
       " '266',\n",
       " '261',\n",
       " '252',\n",
       " '248',\n",
       " '244',\n",
       " '240',\n",
       " '239',\n",
       " '236',\n",
       " '227',\n",
       " '226',\n",
       " '224',\n",
       " '221',\n",
       " '211',\n",
       " '208',\n",
       " '205',\n",
       " '201',\n",
       " '198',\n",
       " '195',\n",
       " '195',\n",
       " '191',\n",
       " '191',\n",
       " '188',\n",
       " '186',\n",
       " '186',\n",
       " '184',\n",
       " '181',\n",
       " '179',\n",
       " '177',\n",
       " '175',\n",
       " '170',\n",
       " '166',\n",
       " '164',\n",
       " '163',\n",
       " '162',\n",
       " '162',\n",
       " '161',\n",
       " '161',\n",
       " '151',\n",
       " '149',\n",
       " '145',\n",
       " '145']"
      ]
     },
     "execution_count": 136,
     "metadata": {},
     "output_type": "execute_result"
    }
   ],
   "source": [
    "for i in rating1:\n",
    "    Rating1.append(i.text)\n",
    "Rating1"
   ]
  },
  {
   "cell_type": "code",
   "execution_count": 137,
   "metadata": {},
   "outputs": [
    {
     "data": {
      "text/html": [
       "<div>\n",
       "<style scoped>\n",
       "    .dataframe tbody tr th:only-of-type {\n",
       "        vertical-align: middle;\n",
       "    }\n",
       "\n",
       "    .dataframe tbody tr th {\n",
       "        vertical-align: top;\n",
       "    }\n",
       "\n",
       "    .dataframe thead th {\n",
       "        text-align: right;\n",
       "    }\n",
       "</style>\n",
       "<table border=\"1\" class=\"dataframe\">\n",
       "  <thead>\n",
       "    <tr style=\"text-align: right;\">\n",
       "      <th></th>\n",
       "      <th>Rating</th>\n",
       "    </tr>\n",
       "  </thead>\n",
       "  <tbody>\n",
       "    <tr>\n",
       "      <th>0</th>\n",
       "      <td>746</td>\n",
       "    </tr>\n",
       "    <tr>\n",
       "      <th>1</th>\n",
       "      <td>741</td>\n",
       "    </tr>\n",
       "    <tr>\n",
       "      <th>2</th>\n",
       "      <td>732</td>\n",
       "    </tr>\n",
       "    <tr>\n",
       "      <th>3</th>\n",
       "      <td>723</td>\n",
       "    </tr>\n",
       "    <tr>\n",
       "      <th>4</th>\n",
       "      <td>716</td>\n",
       "    </tr>\n",
       "    <tr>\n",
       "      <th>5</th>\n",
       "      <td>691</td>\n",
       "    </tr>\n",
       "    <tr>\n",
       "      <th>6</th>\n",
       "      <td>690</td>\n",
       "    </tr>\n",
       "    <tr>\n",
       "      <th>7</th>\n",
       "      <td>689</td>\n",
       "    </tr>\n",
       "    <tr>\n",
       "      <th>8</th>\n",
       "      <td>687</td>\n",
       "    </tr>\n",
       "  </tbody>\n",
       "</table>\n",
       "</div>"
      ],
      "text/plain": [
       "  Rating\n",
       "0    746\n",
       "1    741\n",
       "2    732\n",
       "3    723\n",
       "4    716\n",
       "5    691\n",
       "6    690\n",
       "7    689\n",
       "8    687"
      ]
     },
     "execution_count": 137,
     "metadata": {},
     "output_type": "execute_result"
    }
   ],
   "source": [
    "df16=pd.DataFrame(Rating1)\n",
    "df16=df16.rename({0:'Rating'},axis=1)\n",
    "df16=df16.iloc[0:9]\n",
    "df16"
   ]
  },
  {
   "cell_type": "code",
   "execution_count": 138,
   "metadata": {},
   "outputs": [
    {
     "data": {
      "text/html": [
       "<div>\n",
       "<style scoped>\n",
       "    .dataframe tbody tr th:only-of-type {\n",
       "        vertical-align: middle;\n",
       "    }\n",
       "\n",
       "    .dataframe tbody tr th {\n",
       "        vertical-align: top;\n",
       "    }\n",
       "\n",
       "    .dataframe thead th {\n",
       "        text-align: right;\n",
       "    }\n",
       "</style>\n",
       "<table border=\"1\" class=\"dataframe\">\n",
       "  <thead>\n",
       "    <tr style=\"text-align: right;\">\n",
       "      <th></th>\n",
       "      <th>Batsman Name</th>\n",
       "      <th>Team</th>\n",
       "      <th>Rating</th>\n",
       "    </tr>\n",
       "  </thead>\n",
       "  <tbody>\n",
       "    <tr>\n",
       "      <th>0</th>\n",
       "      <td>Stafanie Taylor</td>\n",
       "      <td>WI</td>\n",
       "      <td>746</td>\n",
       "    </tr>\n",
       "    <tr>\n",
       "      <th>1</th>\n",
       "      <td>Alyssa Healy</td>\n",
       "      <td>AUS</td>\n",
       "      <td>741</td>\n",
       "    </tr>\n",
       "    <tr>\n",
       "      <th>2</th>\n",
       "      <td>Smriti Mandhana</td>\n",
       "      <td>IND</td>\n",
       "      <td>732</td>\n",
       "    </tr>\n",
       "    <tr>\n",
       "      <th>3</th>\n",
       "      <td>Amy Satterthwaite</td>\n",
       "      <td>NZ</td>\n",
       "      <td>723</td>\n",
       "    </tr>\n",
       "    <tr>\n",
       "      <th>4</th>\n",
       "      <td>Tammy Beaumont</td>\n",
       "      <td>ENG</td>\n",
       "      <td>716</td>\n",
       "    </tr>\n",
       "    <tr>\n",
       "      <th>5</th>\n",
       "      <td>Ellyse Perry</td>\n",
       "      <td>AUS</td>\n",
       "      <td>691</td>\n",
       "    </tr>\n",
       "    <tr>\n",
       "      <th>6</th>\n",
       "      <td>Lizelle Lee</td>\n",
       "      <td>SA</td>\n",
       "      <td>690</td>\n",
       "    </tr>\n",
       "    <tr>\n",
       "      <th>7</th>\n",
       "      <td>Laura Wolvaardt</td>\n",
       "      <td>SA</td>\n",
       "      <td>689</td>\n",
       "    </tr>\n",
       "    <tr>\n",
       "      <th>8</th>\n",
       "      <td>Mithali Raj</td>\n",
       "      <td>IND</td>\n",
       "      <td>687</td>\n",
       "    </tr>\n",
       "  </tbody>\n",
       "</table>\n",
       "</div>"
      ],
      "text/plain": [
       "          Batsman Name    Team Rating\n",
       "0     Stafanie Taylor      WI     746\n",
       "1        Alyssa Healy     AUS     741\n",
       "2     Smriti Mandhana     IND     732\n",
       "3   Amy Satterthwaite      NZ     723\n",
       "4      Tammy Beaumont     ENG     716\n",
       "5        Ellyse Perry     AUS     691\n",
       "6         Lizelle Lee      SA     690\n",
       "7     Laura Wolvaardt      SA     689\n",
       "8         Mithali Raj     IND     687"
      ]
     },
     "execution_count": 138,
     "metadata": {},
     "output_type": "execute_result"
    }
   ],
   "source": [
    "player1=pd.concat([df14,df15,df16],axis=1)\n",
    "player1"
   ]
  },
  {
   "cell_type": "code",
   "execution_count": 139,
   "metadata": {},
   "outputs": [
    {
     "data": {
      "text/html": [
       "<div>\n",
       "<style scoped>\n",
       "    .dataframe tbody tr th:only-of-type {\n",
       "        vertical-align: middle;\n",
       "    }\n",
       "\n",
       "    .dataframe tbody tr th {\n",
       "        vertical-align: top;\n",
       "    }\n",
       "\n",
       "    .dataframe thead th {\n",
       "        text-align: right;\n",
       "    }\n",
       "</style>\n",
       "<table border=\"1\" class=\"dataframe\">\n",
       "  <thead>\n",
       "    <tr style=\"text-align: right;\">\n",
       "      <th></th>\n",
       "      <th>Batsman Name</th>\n",
       "      <th>Team</th>\n",
       "      <th>Rating</th>\n",
       "    </tr>\n",
       "  </thead>\n",
       "  <tbody>\n",
       "    <tr>\n",
       "      <th>0</th>\n",
       "      <td>Meg Lanning</td>\n",
       "      <td>AUS</td>\n",
       "      <td>749</td>\n",
       "    </tr>\n",
       "    <tr>\n",
       "      <th>1</th>\n",
       "      <td>Stafanie Taylor</td>\n",
       "      <td>WI</td>\n",
       "      <td>746</td>\n",
       "    </tr>\n",
       "    <tr>\n",
       "      <th>2</th>\n",
       "      <td>Alyssa Healy</td>\n",
       "      <td>AUS</td>\n",
       "      <td>741</td>\n",
       "    </tr>\n",
       "    <tr>\n",
       "      <th>3</th>\n",
       "      <td>Smriti Mandhana</td>\n",
       "      <td>IND</td>\n",
       "      <td>732</td>\n",
       "    </tr>\n",
       "    <tr>\n",
       "      <th>4</th>\n",
       "      <td>Amy Satterthwaite</td>\n",
       "      <td>NZ</td>\n",
       "      <td>723</td>\n",
       "    </tr>\n",
       "    <tr>\n",
       "      <th>5</th>\n",
       "      <td>Tammy Beaumont</td>\n",
       "      <td>ENG</td>\n",
       "      <td>716</td>\n",
       "    </tr>\n",
       "    <tr>\n",
       "      <th>6</th>\n",
       "      <td>Ellyse Perry</td>\n",
       "      <td>AUS</td>\n",
       "      <td>691</td>\n",
       "    </tr>\n",
       "    <tr>\n",
       "      <th>7</th>\n",
       "      <td>Lizelle Lee</td>\n",
       "      <td>SA</td>\n",
       "      <td>690</td>\n",
       "    </tr>\n",
       "    <tr>\n",
       "      <th>8</th>\n",
       "      <td>Laura Wolvaardt</td>\n",
       "      <td>SA</td>\n",
       "      <td>689</td>\n",
       "    </tr>\n",
       "    <tr>\n",
       "      <th>9</th>\n",
       "      <td>Mithali Raj</td>\n",
       "      <td>IND</td>\n",
       "      <td>687</td>\n",
       "    </tr>\n",
       "  </tbody>\n",
       "</table>\n",
       "</div>"
      ],
      "text/plain": [
       "          Batsman Name                        Team Rating\n",
       "0          Meg Lanning    AUS                         749\n",
       "1     Stafanie Taylor                          WI     746\n",
       "2        Alyssa Healy                         AUS     741\n",
       "3     Smriti Mandhana                         IND     732\n",
       "4   Amy Satterthwaite                          NZ     723\n",
       "5      Tammy Beaumont                         ENG     716\n",
       "6        Ellyse Perry                         AUS     691\n",
       "7         Lizelle Lee                          SA     690\n",
       "8     Laura Wolvaardt                          SA     689\n",
       "9         Mithali Raj                         IND     687"
      ]
     },
     "execution_count": 139,
     "metadata": {},
     "output_type": "execute_result"
    }
   ],
   "source": [
    "ODI_Batsmen=pd.concat([player,player1],axis=0)\n",
    "ODI_Batsmen.index=range(10)\n",
    "ODI_Batsmen"
   ]
  },
  {
   "cell_type": "markdown",
   "metadata": {},
   "source": [
    "# Top 10 women’s ODI all-rounder along with the records of their team and rating."
   ]
  },
  {
   "cell_type": "code",
   "execution_count": 140,
   "metadata": {},
   "outputs": [],
   "source": [
    "path = r\"C:\\Users\\verma\\Desktop\\Selenium\\chromedriver.exe\""
   ]
  },
  {
   "cell_type": "code",
   "execution_count": 141,
   "metadata": {},
   "outputs": [],
   "source": [
    "driver = webdriver.Chrome(path)"
   ]
  },
  {
   "cell_type": "code",
   "execution_count": 142,
   "metadata": {},
   "outputs": [],
   "source": [
    "driver.get('https://www.icc-cricket.com/rankings/womens/player-rankings/odi/all-rounder')"
   ]
  },
  {
   "cell_type": "code",
   "execution_count": 143,
   "metadata": {},
   "outputs": [
    {
     "name": "stdout",
     "output_type": "stream",
     "text": [
      "1\n",
      "1\n",
      "1\n"
     ]
    }
   ],
   "source": [
    "content=driver.page_source\n",
    "soup=BeautifulSoup(content)\n",
    "names=soup.findAll('div',attrs={'class':'rankings-block__banner--name-large'})\n",
    "print(len(names))\n",
    "team=soup.findAll('div',attrs={'class':'rankings-block__banner--nationality'})\n",
    "print(len(team))\n",
    "rating=soup.findAll('div',attrs={'class':'rankings-block__banner--rating'})\n",
    "print(len(rating))"
   ]
  },
  {
   "cell_type": "code",
   "execution_count": 144,
   "metadata": {},
   "outputs": [],
   "source": [
    "Names=[]\n",
    "Names1=[]\n",
    "Team=[]\n",
    "Team=[]\n",
    "Rating=[]\n",
    "Rating1=[]"
   ]
  },
  {
   "cell_type": "code",
   "execution_count": 145,
   "metadata": {},
   "outputs": [
    {
     "data": {
      "text/plain": [
       "['Ellyse Perry']"
      ]
     },
     "execution_count": 145,
     "metadata": {},
     "output_type": "execute_result"
    }
   ],
   "source": [
    "for i in names:\n",
    "    Names.append(i.text)\n",
    "Names"
   ]
  },
  {
   "cell_type": "code",
   "execution_count": 146,
   "metadata": {},
   "outputs": [
    {
     "data": {
      "text/html": [
       "<div>\n",
       "<style scoped>\n",
       "    .dataframe tbody tr th:only-of-type {\n",
       "        vertical-align: middle;\n",
       "    }\n",
       "\n",
       "    .dataframe tbody tr th {\n",
       "        vertical-align: top;\n",
       "    }\n",
       "\n",
       "    .dataframe thead th {\n",
       "        text-align: right;\n",
       "    }\n",
       "</style>\n",
       "<table border=\"1\" class=\"dataframe\">\n",
       "  <thead>\n",
       "    <tr style=\"text-align: right;\">\n",
       "      <th></th>\n",
       "      <th>Player Name</th>\n",
       "    </tr>\n",
       "  </thead>\n",
       "  <tbody>\n",
       "    <tr>\n",
       "      <th>0</th>\n",
       "      <td>Ellyse Perry</td>\n",
       "    </tr>\n",
       "  </tbody>\n",
       "</table>\n",
       "</div>"
      ],
      "text/plain": [
       "    Player Name\n",
       "0  Ellyse Perry"
      ]
     },
     "execution_count": 146,
     "metadata": {},
     "output_type": "execute_result"
    }
   ],
   "source": [
    "df17=pd.DataFrame(Names)\n",
    "df17=df17.rename({0:'Player Name'},axis=1)\n",
    "df17"
   ]
  },
  {
   "cell_type": "code",
   "execution_count": 147,
   "metadata": {},
   "outputs": [
    {
     "data": {
      "text/plain": [
       "['\\n\\nAUS\\n                    ']"
      ]
     },
     "execution_count": 147,
     "metadata": {},
     "output_type": "execute_result"
    }
   ],
   "source": [
    "for i in team:\n",
    "    Team.append(i.text)\n",
    "Team"
   ]
  },
  {
   "cell_type": "code",
   "execution_count": 148,
   "metadata": {},
   "outputs": [
    {
     "data": {
      "text/html": [
       "<div>\n",
       "<style scoped>\n",
       "    .dataframe tbody tr th:only-of-type {\n",
       "        vertical-align: middle;\n",
       "    }\n",
       "\n",
       "    .dataframe tbody tr th {\n",
       "        vertical-align: top;\n",
       "    }\n",
       "\n",
       "    .dataframe thead th {\n",
       "        text-align: right;\n",
       "    }\n",
       "</style>\n",
       "<table border=\"1\" class=\"dataframe\">\n",
       "  <thead>\n",
       "    <tr style=\"text-align: right;\">\n",
       "      <th></th>\n",
       "      <th>Team</th>\n",
       "    </tr>\n",
       "  </thead>\n",
       "  <tbody>\n",
       "    <tr>\n",
       "      <th>0</th>\n",
       "      <td>AUS</td>\n",
       "    </tr>\n",
       "  </tbody>\n",
       "</table>\n",
       "</div>"
      ],
      "text/plain": [
       "                         Team\n",
       "0    AUS                     "
      ]
     },
     "execution_count": 148,
     "metadata": {},
     "output_type": "execute_result"
    }
   ],
   "source": [
    "df18=pd.DataFrame(Team)\n",
    "df18[0]=df18[0].str.replace('\\n',' ')\n",
    "df18=df18.rename({0:'Team'},axis=1)\n",
    "df18"
   ]
  },
  {
   "cell_type": "code",
   "execution_count": 149,
   "metadata": {},
   "outputs": [
    {
     "data": {
      "text/plain": [
       "['460']"
      ]
     },
     "execution_count": 149,
     "metadata": {},
     "output_type": "execute_result"
    }
   ],
   "source": [
    "for i in rating:\n",
    "    Rating.append(i.text)\n",
    "Rating"
   ]
  },
  {
   "cell_type": "code",
   "execution_count": 150,
   "metadata": {},
   "outputs": [
    {
     "data": {
      "text/html": [
       "<div>\n",
       "<style scoped>\n",
       "    .dataframe tbody tr th:only-of-type {\n",
       "        vertical-align: middle;\n",
       "    }\n",
       "\n",
       "    .dataframe tbody tr th {\n",
       "        vertical-align: top;\n",
       "    }\n",
       "\n",
       "    .dataframe thead th {\n",
       "        text-align: right;\n",
       "    }\n",
       "</style>\n",
       "<table border=\"1\" class=\"dataframe\">\n",
       "  <thead>\n",
       "    <tr style=\"text-align: right;\">\n",
       "      <th></th>\n",
       "      <th>Rating</th>\n",
       "    </tr>\n",
       "  </thead>\n",
       "  <tbody>\n",
       "    <tr>\n",
       "      <th>0</th>\n",
       "      <td>460</td>\n",
       "    </tr>\n",
       "  </tbody>\n",
       "</table>\n",
       "</div>"
      ],
      "text/plain": [
       "  Rating\n",
       "0    460"
      ]
     },
     "execution_count": 150,
     "metadata": {},
     "output_type": "execute_result"
    }
   ],
   "source": [
    "df19=pd.DataFrame(Rating)\n",
    "df19=df19.rename({0:'Rating'},axis=1)\n",
    "df19"
   ]
  },
  {
   "cell_type": "code",
   "execution_count": 151,
   "metadata": {},
   "outputs": [
    {
     "data": {
      "text/html": [
       "<div>\n",
       "<style scoped>\n",
       "    .dataframe tbody tr th:only-of-type {\n",
       "        vertical-align: middle;\n",
       "    }\n",
       "\n",
       "    .dataframe tbody tr th {\n",
       "        vertical-align: top;\n",
       "    }\n",
       "\n",
       "    .dataframe thead th {\n",
       "        text-align: right;\n",
       "    }\n",
       "</style>\n",
       "<table border=\"1\" class=\"dataframe\">\n",
       "  <thead>\n",
       "    <tr style=\"text-align: right;\">\n",
       "      <th></th>\n",
       "      <th>Player Name</th>\n",
       "      <th>Team</th>\n",
       "      <th>Rating</th>\n",
       "    </tr>\n",
       "  </thead>\n",
       "  <tbody>\n",
       "    <tr>\n",
       "      <th>0</th>\n",
       "      <td>Ellyse Perry</td>\n",
       "      <td>AUS</td>\n",
       "      <td>460</td>\n",
       "    </tr>\n",
       "  </tbody>\n",
       "</table>\n",
       "</div>"
      ],
      "text/plain": [
       "    Player Name                        Team Rating\n",
       "0  Ellyse Perry    AUS                         460"
      ]
     },
     "execution_count": 151,
     "metadata": {},
     "output_type": "execute_result"
    }
   ],
   "source": [
    "player=pd.concat([df17,df18,df19],axis=1)\n",
    "player"
   ]
  },
  {
   "cell_type": "code",
   "execution_count": 152,
   "metadata": {},
   "outputs": [
    {
     "name": "stdout",
     "output_type": "stream",
     "text": [
      "19\n",
      "19\n",
      "19\n"
     ]
    }
   ],
   "source": [
    "names1=soup.findAll('td',attrs={'class':'table-body__cell rankings-table__name name'})\n",
    "print(len(names1))\n",
    "team1=soup.findAll('td',attrs={'class':'table-body__cell nationality-logo rankings-table__team'})\n",
    "print(len(team1))\n",
    "rating1=soup.findAll('td',attrs={'class':'table-body__cell rating'})\n",
    "print(len(rating1))"
   ]
  },
  {
   "cell_type": "code",
   "execution_count": 153,
   "metadata": {},
   "outputs": [
    {
     "data": {
      "text/plain": [
       "['\\nStafanie Taylor\\n',\n",
       " '\\nMarizanne Kapp\\n',\n",
       " '\\nDeepti Sharma\\n',\n",
       " '\\nDane van Niekerk\\n',\n",
       " '\\nJess Jonassen\\n',\n",
       " '\\nSophie Devine\\n',\n",
       " '\\nNatalie Sciver\\n',\n",
       " '\\nShikha Pandey\\n',\n",
       " '\\nKatherine Brunt\\n',\n",
       " '\\nJhulan Goswami\\n',\n",
       " '\\nAshleigh Gardner\\n',\n",
       " '\\nSune Luus\\n',\n",
       " '\\nRumana Ahmed\\n',\n",
       " '\\nHeather Knight\\n',\n",
       " '\\nHayley Matthews\\n',\n",
       " '\\nPoonam Yadav\\n',\n",
       " '\\nChamari Athapaththu\\n',\n",
       " '\\nAmelia Kerr\\n',\n",
       " '\\nAnya Shrubsole\\n']"
      ]
     },
     "execution_count": 153,
     "metadata": {},
     "output_type": "execute_result"
    }
   ],
   "source": [
    "for i in names1:\n",
    "    Names1.append(i.text)\n",
    "Names1"
   ]
  },
  {
   "cell_type": "code",
   "execution_count": 154,
   "metadata": {},
   "outputs": [
    {
     "data": {
      "text/html": [
       "<div>\n",
       "<style scoped>\n",
       "    .dataframe tbody tr th:only-of-type {\n",
       "        vertical-align: middle;\n",
       "    }\n",
       "\n",
       "    .dataframe tbody tr th {\n",
       "        vertical-align: top;\n",
       "    }\n",
       "\n",
       "    .dataframe thead th {\n",
       "        text-align: right;\n",
       "    }\n",
       "</style>\n",
       "<table border=\"1\" class=\"dataframe\">\n",
       "  <thead>\n",
       "    <tr style=\"text-align: right;\">\n",
       "      <th></th>\n",
       "      <th>Player Name</th>\n",
       "    </tr>\n",
       "  </thead>\n",
       "  <tbody>\n",
       "    <tr>\n",
       "      <th>0</th>\n",
       "      <td>Stafanie Taylor</td>\n",
       "    </tr>\n",
       "    <tr>\n",
       "      <th>1</th>\n",
       "      <td>Marizanne Kapp</td>\n",
       "    </tr>\n",
       "    <tr>\n",
       "      <th>2</th>\n",
       "      <td>Deepti Sharma</td>\n",
       "    </tr>\n",
       "    <tr>\n",
       "      <th>3</th>\n",
       "      <td>Dane van Niekerk</td>\n",
       "    </tr>\n",
       "    <tr>\n",
       "      <th>4</th>\n",
       "      <td>Jess Jonassen</td>\n",
       "    </tr>\n",
       "    <tr>\n",
       "      <th>5</th>\n",
       "      <td>Sophie Devine</td>\n",
       "    </tr>\n",
       "    <tr>\n",
       "      <th>6</th>\n",
       "      <td>Natalie Sciver</td>\n",
       "    </tr>\n",
       "    <tr>\n",
       "      <th>7</th>\n",
       "      <td>Shikha Pandey</td>\n",
       "    </tr>\n",
       "    <tr>\n",
       "      <th>8</th>\n",
       "      <td>Katherine Brunt</td>\n",
       "    </tr>\n",
       "  </tbody>\n",
       "</table>\n",
       "</div>"
      ],
      "text/plain": [
       "          Player Name\n",
       "0    Stafanie Taylor \n",
       "1     Marizanne Kapp \n",
       "2      Deepti Sharma \n",
       "3   Dane van Niekerk \n",
       "4      Jess Jonassen \n",
       "5      Sophie Devine \n",
       "6     Natalie Sciver \n",
       "7      Shikha Pandey \n",
       "8    Katherine Brunt "
      ]
     },
     "execution_count": 154,
     "metadata": {},
     "output_type": "execute_result"
    }
   ],
   "source": [
    "df20=pd.DataFrame(Names1)\n",
    "df20[0]=df20[0].str.replace('\\n',' ')\n",
    "df20=df20.rename({0:'Player Name'},axis=1)\n",
    "df20=df20.iloc[0:9]\n",
    "df20"
   ]
  },
  {
   "cell_type": "code",
   "execution_count": 155,
   "metadata": {},
   "outputs": [
    {
     "data": {
      "text/plain": [
       "['\\n\\nWI\\n',\n",
       " '\\n\\nAUS\\n',\n",
       " '\\n\\nIND\\n',\n",
       " '\\n\\nNZ\\n',\n",
       " '\\n\\nENG\\n',\n",
       " '\\n\\nAUS\\n',\n",
       " '\\n\\nSA\\n',\n",
       " '\\n\\nSA\\n',\n",
       " '\\n\\nIND\\n',\n",
       " '\\n\\nENG\\n',\n",
       " '\\n\\nSL\\n',\n",
       " '\\n\\nAUS\\n',\n",
       " '\\n\\nNZ\\n',\n",
       " '\\n\\nNZ\\n',\n",
       " '\\n\\nENG\\n',\n",
       " '\\n\\nAUS\\n',\n",
       " '\\n\\nPAK\\n',\n",
       " '\\n\\nSA\\n',\n",
       " '\\n\\nIND\\n',\n",
       " '\\n\\nSA\\n',\n",
       " '\\n\\nIND\\n',\n",
       " '\\n\\nPAK\\n',\n",
       " '\\n\\nPAK\\n',\n",
       " '\\n\\nIND\\n',\n",
       " '\\n\\nSA\\n',\n",
       " '\\n\\nSA\\n',\n",
       " '\\n\\nENG\\n',\n",
       " '\\n\\nAUS\\n',\n",
       " '\\n\\nNZ\\n',\n",
       " '\\n\\nWI\\n',\n",
       " '\\n\\nENG\\n',\n",
       " '\\n\\nBAN\\n',\n",
       " '\\n\\nSA\\n',\n",
       " '\\n\\nBAN\\n',\n",
       " '\\n\\nIND\\n',\n",
       " '\\n\\nAUS\\n',\n",
       " '\\n\\nNZ\\n',\n",
       " '\\n\\nSA\\n',\n",
       " '\\n\\nAUS\\n',\n",
       " '\\n\\nIND\\n',\n",
       " '\\n\\nENG\\n',\n",
       " '\\n\\nSL\\n',\n",
       " '\\n\\nENG\\n',\n",
       " '\\n\\nIND\\n',\n",
       " '\\n\\nNZ\\n',\n",
       " '\\n\\nNZ\\n',\n",
       " '\\n\\nWI\\n',\n",
       " '\\n\\nSL\\n',\n",
       " '\\n\\nBAN\\n',\n",
       " '\\n\\nPAK\\n',\n",
       " '\\n\\nWI\\n',\n",
       " '\\n\\nWI\\n',\n",
       " '\\n\\nPAK\\n',\n",
       " '\\n\\nPAK\\n',\n",
       " '\\n\\nWI\\n',\n",
       " '\\n\\nSA\\n',\n",
       " '\\n\\nIND\\n',\n",
       " '\\n\\nNZ\\n',\n",
       " '\\n\\nIND\\n',\n",
       " '\\n\\nSL\\n',\n",
       " '\\n\\nWI\\n',\n",
       " '\\n\\nIND\\n',\n",
       " '\\n\\nBAN\\n',\n",
       " '\\n\\nNZ\\n',\n",
       " '\\n\\nENG\\n',\n",
       " '\\n\\nAUS\\n',\n",
       " '\\n\\nPAK\\n',\n",
       " '\\n\\nSL\\n',\n",
       " '\\n\\nWI\\n',\n",
       " '\\n\\nBAN\\n',\n",
       " '\\n\\nSL\\n',\n",
       " '\\n\\nENG\\n',\n",
       " '\\n\\nSL\\n',\n",
       " '\\n\\nWI\\n',\n",
       " '\\n\\nIND\\n',\n",
       " '\\n\\nAUS\\n',\n",
       " '\\n\\nSL\\n',\n",
       " '\\n\\nSA\\n',\n",
       " '\\n\\nNZ\\n',\n",
       " '\\n\\nWI\\n',\n",
       " '\\n\\nPAK\\n',\n",
       " '\\n\\nWI\\n',\n",
       " '\\n\\nNZ\\n',\n",
       " '\\n\\nBAN\\n',\n",
       " '\\n\\nENG\\n',\n",
       " '\\n\\nNZ\\n',\n",
       " '\\n\\nWI\\n',\n",
       " '\\n\\nSA\\n',\n",
       " '\\n\\nBAN\\n',\n",
       " '\\n\\nNZ\\n',\n",
       " '\\n\\nAUS\\n',\n",
       " '\\n\\nNZ\\n',\n",
       " '\\n\\nIND\\n',\n",
       " '\\n\\nSL\\n',\n",
       " '\\n\\nWI\\n',\n",
       " '\\n\\nSA\\n',\n",
       " '\\n\\nWI\\n',\n",
       " '\\n\\nAUS\\n',\n",
       " '\\n\\nPAK\\n',\n",
       " '\\n\\nWI\\n',\n",
       " '\\n\\nSA\\n',\n",
       " '\\n\\nIND\\n',\n",
       " '\\n\\nSA\\n',\n",
       " '\\n\\nAUS\\n',\n",
       " '\\n\\nNZ\\n',\n",
       " '\\n\\nENG\\n',\n",
       " '\\n\\nIND\\n',\n",
       " '\\n\\nENG\\n',\n",
       " '\\n\\nIND\\n',\n",
       " '\\n\\nAUS\\n',\n",
       " '\\n\\nSA\\n',\n",
       " '\\n\\nBAN\\n',\n",
       " '\\n\\nENG\\n',\n",
       " '\\n\\nWI\\n',\n",
       " '\\n\\nIND\\n',\n",
       " '\\n\\nSL\\n',\n",
       " '\\n\\nNZ\\n',\n",
       " '\\n\\nENG\\n']"
      ]
     },
     "execution_count": 155,
     "metadata": {},
     "output_type": "execute_result"
    }
   ],
   "source": [
    "for i in team1:\n",
    "    Team1.append(i.text)\n",
    "Team1"
   ]
  },
  {
   "cell_type": "code",
   "execution_count": 156,
   "metadata": {},
   "outputs": [
    {
     "data": {
      "text/html": [
       "<div>\n",
       "<style scoped>\n",
       "    .dataframe tbody tr th:only-of-type {\n",
       "        vertical-align: middle;\n",
       "    }\n",
       "\n",
       "    .dataframe tbody tr th {\n",
       "        vertical-align: top;\n",
       "    }\n",
       "\n",
       "    .dataframe thead th {\n",
       "        text-align: right;\n",
       "    }\n",
       "</style>\n",
       "<table border=\"1\" class=\"dataframe\">\n",
       "  <thead>\n",
       "    <tr style=\"text-align: right;\">\n",
       "      <th></th>\n",
       "      <th>Team</th>\n",
       "    </tr>\n",
       "  </thead>\n",
       "  <tbody>\n",
       "    <tr>\n",
       "      <th>0</th>\n",
       "      <td>WI</td>\n",
       "    </tr>\n",
       "    <tr>\n",
       "      <th>1</th>\n",
       "      <td>AUS</td>\n",
       "    </tr>\n",
       "    <tr>\n",
       "      <th>2</th>\n",
       "      <td>IND</td>\n",
       "    </tr>\n",
       "    <tr>\n",
       "      <th>3</th>\n",
       "      <td>NZ</td>\n",
       "    </tr>\n",
       "    <tr>\n",
       "      <th>4</th>\n",
       "      <td>ENG</td>\n",
       "    </tr>\n",
       "    <tr>\n",
       "      <th>5</th>\n",
       "      <td>AUS</td>\n",
       "    </tr>\n",
       "    <tr>\n",
       "      <th>6</th>\n",
       "      <td>SA</td>\n",
       "    </tr>\n",
       "    <tr>\n",
       "      <th>7</th>\n",
       "      <td>SA</td>\n",
       "    </tr>\n",
       "    <tr>\n",
       "      <th>8</th>\n",
       "      <td>IND</td>\n",
       "    </tr>\n",
       "  </tbody>\n",
       "</table>\n",
       "</div>"
      ],
      "text/plain": [
       "     Team\n",
       "0     WI \n",
       "1    AUS \n",
       "2    IND \n",
       "3     NZ \n",
       "4    ENG \n",
       "5    AUS \n",
       "6     SA \n",
       "7     SA \n",
       "8    IND "
      ]
     },
     "execution_count": 156,
     "metadata": {},
     "output_type": "execute_result"
    }
   ],
   "source": [
    "df21=pd.DataFrame(Team1)\n",
    "df21[0]=df21[0].str.replace('\\n',' ')\n",
    "df21=df21.rename({0:'Team'},axis=1)\n",
    "df21=df21.iloc[0:9]\n",
    "df21"
   ]
  },
  {
   "cell_type": "code",
   "execution_count": 157,
   "metadata": {},
   "outputs": [
    {
     "data": {
      "text/plain": [
       "['410',\n",
       " '389',\n",
       " '359',\n",
       " '335',\n",
       " '301',\n",
       " '289',\n",
       " '273',\n",
       " '250',\n",
       " '232',\n",
       " '224',\n",
       " '223',\n",
       " '188',\n",
       " '179',\n",
       " '178',\n",
       " '176',\n",
       " '168',\n",
       " '164',\n",
       " '158',\n",
       " '154']"
      ]
     },
     "execution_count": 157,
     "metadata": {},
     "output_type": "execute_result"
    }
   ],
   "source": [
    "for i in rating1:\n",
    "    Rating1.append(i.text)\n",
    "Rating1"
   ]
  },
  {
   "cell_type": "code",
   "execution_count": 158,
   "metadata": {},
   "outputs": [
    {
     "data": {
      "text/html": [
       "<div>\n",
       "<style scoped>\n",
       "    .dataframe tbody tr th:only-of-type {\n",
       "        vertical-align: middle;\n",
       "    }\n",
       "\n",
       "    .dataframe tbody tr th {\n",
       "        vertical-align: top;\n",
       "    }\n",
       "\n",
       "    .dataframe thead th {\n",
       "        text-align: right;\n",
       "    }\n",
       "</style>\n",
       "<table border=\"1\" class=\"dataframe\">\n",
       "  <thead>\n",
       "    <tr style=\"text-align: right;\">\n",
       "      <th></th>\n",
       "      <th>Rating</th>\n",
       "    </tr>\n",
       "  </thead>\n",
       "  <tbody>\n",
       "    <tr>\n",
       "      <th>0</th>\n",
       "      <td>410</td>\n",
       "    </tr>\n",
       "    <tr>\n",
       "      <th>1</th>\n",
       "      <td>389</td>\n",
       "    </tr>\n",
       "    <tr>\n",
       "      <th>2</th>\n",
       "      <td>359</td>\n",
       "    </tr>\n",
       "    <tr>\n",
       "      <th>3</th>\n",
       "      <td>335</td>\n",
       "    </tr>\n",
       "    <tr>\n",
       "      <th>4</th>\n",
       "      <td>301</td>\n",
       "    </tr>\n",
       "    <tr>\n",
       "      <th>5</th>\n",
       "      <td>289</td>\n",
       "    </tr>\n",
       "    <tr>\n",
       "      <th>6</th>\n",
       "      <td>273</td>\n",
       "    </tr>\n",
       "    <tr>\n",
       "      <th>7</th>\n",
       "      <td>250</td>\n",
       "    </tr>\n",
       "    <tr>\n",
       "      <th>8</th>\n",
       "      <td>232</td>\n",
       "    </tr>\n",
       "  </tbody>\n",
       "</table>\n",
       "</div>"
      ],
      "text/plain": [
       "  Rating\n",
       "0    410\n",
       "1    389\n",
       "2    359\n",
       "3    335\n",
       "4    301\n",
       "5    289\n",
       "6    273\n",
       "7    250\n",
       "8    232"
      ]
     },
     "execution_count": 158,
     "metadata": {},
     "output_type": "execute_result"
    }
   ],
   "source": [
    "df22=pd.DataFrame(Rating1)\n",
    "df22=df22.rename({0:'Rating'},axis=1)\n",
    "df22=df22.iloc[0:9]\n",
    "df22"
   ]
  },
  {
   "cell_type": "code",
   "execution_count": 159,
   "metadata": {},
   "outputs": [
    {
     "data": {
      "text/html": [
       "<div>\n",
       "<style scoped>\n",
       "    .dataframe tbody tr th:only-of-type {\n",
       "        vertical-align: middle;\n",
       "    }\n",
       "\n",
       "    .dataframe tbody tr th {\n",
       "        vertical-align: top;\n",
       "    }\n",
       "\n",
       "    .dataframe thead th {\n",
       "        text-align: right;\n",
       "    }\n",
       "</style>\n",
       "<table border=\"1\" class=\"dataframe\">\n",
       "  <thead>\n",
       "    <tr style=\"text-align: right;\">\n",
       "      <th></th>\n",
       "      <th>Player Name</th>\n",
       "      <th>Team</th>\n",
       "      <th>Rating</th>\n",
       "    </tr>\n",
       "  </thead>\n",
       "  <tbody>\n",
       "    <tr>\n",
       "      <th>0</th>\n",
       "      <td>Stafanie Taylor</td>\n",
       "      <td>WI</td>\n",
       "      <td>410</td>\n",
       "    </tr>\n",
       "    <tr>\n",
       "      <th>1</th>\n",
       "      <td>Marizanne Kapp</td>\n",
       "      <td>AUS</td>\n",
       "      <td>389</td>\n",
       "    </tr>\n",
       "    <tr>\n",
       "      <th>2</th>\n",
       "      <td>Deepti Sharma</td>\n",
       "      <td>IND</td>\n",
       "      <td>359</td>\n",
       "    </tr>\n",
       "    <tr>\n",
       "      <th>3</th>\n",
       "      <td>Dane van Niekerk</td>\n",
       "      <td>NZ</td>\n",
       "      <td>335</td>\n",
       "    </tr>\n",
       "    <tr>\n",
       "      <th>4</th>\n",
       "      <td>Jess Jonassen</td>\n",
       "      <td>ENG</td>\n",
       "      <td>301</td>\n",
       "    </tr>\n",
       "    <tr>\n",
       "      <th>5</th>\n",
       "      <td>Sophie Devine</td>\n",
       "      <td>AUS</td>\n",
       "      <td>289</td>\n",
       "    </tr>\n",
       "    <tr>\n",
       "      <th>6</th>\n",
       "      <td>Natalie Sciver</td>\n",
       "      <td>SA</td>\n",
       "      <td>273</td>\n",
       "    </tr>\n",
       "    <tr>\n",
       "      <th>7</th>\n",
       "      <td>Shikha Pandey</td>\n",
       "      <td>SA</td>\n",
       "      <td>250</td>\n",
       "    </tr>\n",
       "    <tr>\n",
       "      <th>8</th>\n",
       "      <td>Katherine Brunt</td>\n",
       "      <td>IND</td>\n",
       "      <td>232</td>\n",
       "    </tr>\n",
       "  </tbody>\n",
       "</table>\n",
       "</div>"
      ],
      "text/plain": [
       "          Player Name    Team Rating\n",
       "0    Stafanie Taylor      WI     410\n",
       "1     Marizanne Kapp     AUS     389\n",
       "2      Deepti Sharma     IND     359\n",
       "3   Dane van Niekerk      NZ     335\n",
       "4      Jess Jonassen     ENG     301\n",
       "5      Sophie Devine     AUS     289\n",
       "6     Natalie Sciver      SA     273\n",
       "7      Shikha Pandey      SA     250\n",
       "8    Katherine Brunt     IND     232"
      ]
     },
     "execution_count": 159,
     "metadata": {},
     "output_type": "execute_result"
    }
   ],
   "source": [
    "player1=pd.concat([df20,df21,df22],axis=1)\n",
    "player1"
   ]
  },
  {
   "cell_type": "code",
   "execution_count": 161,
   "metadata": {},
   "outputs": [
    {
     "data": {
      "text/html": [
       "<div>\n",
       "<style scoped>\n",
       "    .dataframe tbody tr th:only-of-type {\n",
       "        vertical-align: middle;\n",
       "    }\n",
       "\n",
       "    .dataframe tbody tr th {\n",
       "        vertical-align: top;\n",
       "    }\n",
       "\n",
       "    .dataframe thead th {\n",
       "        text-align: right;\n",
       "    }\n",
       "</style>\n",
       "<table border=\"1\" class=\"dataframe\">\n",
       "  <thead>\n",
       "    <tr style=\"text-align: right;\">\n",
       "      <th></th>\n",
       "      <th>Player Name</th>\n",
       "      <th>Team</th>\n",
       "      <th>Rating</th>\n",
       "    </tr>\n",
       "  </thead>\n",
       "  <tbody>\n",
       "    <tr>\n",
       "      <th>0</th>\n",
       "      <td>Ellyse Perry</td>\n",
       "      <td>AUS</td>\n",
       "      <td>460</td>\n",
       "    </tr>\n",
       "    <tr>\n",
       "      <th>1</th>\n",
       "      <td>Stafanie Taylor</td>\n",
       "      <td>WI</td>\n",
       "      <td>410</td>\n",
       "    </tr>\n",
       "    <tr>\n",
       "      <th>2</th>\n",
       "      <td>Marizanne Kapp</td>\n",
       "      <td>AUS</td>\n",
       "      <td>389</td>\n",
       "    </tr>\n",
       "    <tr>\n",
       "      <th>3</th>\n",
       "      <td>Deepti Sharma</td>\n",
       "      <td>IND</td>\n",
       "      <td>359</td>\n",
       "    </tr>\n",
       "    <tr>\n",
       "      <th>4</th>\n",
       "      <td>Dane van Niekerk</td>\n",
       "      <td>NZ</td>\n",
       "      <td>335</td>\n",
       "    </tr>\n",
       "    <tr>\n",
       "      <th>5</th>\n",
       "      <td>Jess Jonassen</td>\n",
       "      <td>ENG</td>\n",
       "      <td>301</td>\n",
       "    </tr>\n",
       "    <tr>\n",
       "      <th>6</th>\n",
       "      <td>Sophie Devine</td>\n",
       "      <td>AUS</td>\n",
       "      <td>289</td>\n",
       "    </tr>\n",
       "    <tr>\n",
       "      <th>7</th>\n",
       "      <td>Natalie Sciver</td>\n",
       "      <td>SA</td>\n",
       "      <td>273</td>\n",
       "    </tr>\n",
       "    <tr>\n",
       "      <th>8</th>\n",
       "      <td>Shikha Pandey</td>\n",
       "      <td>SA</td>\n",
       "      <td>250</td>\n",
       "    </tr>\n",
       "    <tr>\n",
       "      <th>9</th>\n",
       "      <td>Katherine Brunt</td>\n",
       "      <td>IND</td>\n",
       "      <td>232</td>\n",
       "    </tr>\n",
       "  </tbody>\n",
       "</table>\n",
       "</div>"
      ],
      "text/plain": [
       "          Player Name                        Team Rating\n",
       "0        Ellyse Perry    AUS                         460\n",
       "1    Stafanie Taylor                          WI     410\n",
       "2     Marizanne Kapp                         AUS     389\n",
       "3      Deepti Sharma                         IND     359\n",
       "4   Dane van Niekerk                          NZ     335\n",
       "5      Jess Jonassen                         ENG     301\n",
       "6      Sophie Devine                         AUS     289\n",
       "7     Natalie Sciver                          SA     273\n",
       "8      Shikha Pandey                          SA     250\n",
       "9    Katherine Brunt                         IND     232"
      ]
     },
     "execution_count": 161,
     "metadata": {},
     "output_type": "execute_result"
    }
   ],
   "source": [
    "All_Rounder=pd.concat([player,player1],axis=0)\n",
    "All_Rounder.index=range(10)\n",
    "All_Rounder"
   ]
  },
  {
   "cell_type": "code",
   "execution_count": null,
   "metadata": {},
   "outputs": [],
   "source": []
  }
 ],
 "metadata": {
  "kernelspec": {
   "display_name": "Python 3",
   "language": "python",
   "name": "python3"
  },
  "language_info": {
   "codemirror_mode": {
    "name": "ipython",
    "version": 3
   },
   "file_extension": ".py",
   "mimetype": "text/x-python",
   "name": "python",
   "nbconvert_exporter": "python",
   "pygments_lexer": "ipython3",
   "version": "3.8.3"
  }
 },
 "nbformat": 4,
 "nbformat_minor": 4
}
