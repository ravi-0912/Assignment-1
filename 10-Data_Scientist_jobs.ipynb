{
 "cells": [
  {
   "cell_type": "code",
   "execution_count": 1,
   "metadata": {},
   "outputs": [],
   "source": [
    "from selenium import webdriver\n",
    "from bs4 import BeautifulSoup\n",
    "import pandas as pd"
   ]
  },
  {
   "cell_type": "code",
   "execution_count": 2,
   "metadata": {},
   "outputs": [],
   "source": [
    "path = r\"C:\\Users\\verma\\Desktop\\Selenium\\chromedriver.exe\""
   ]
  },
  {
   "cell_type": "code",
   "execution_count": 3,
   "metadata": {},
   "outputs": [],
   "source": [
    "driver=webdriver.Chrome(path)"
   ]
  },
  {
   "cell_type": "code",
   "execution_count": 4,
   "metadata": {},
   "outputs": [],
   "source": [
    "driver.get('https://www.monsterindia.com/srp/results?query=Data%20Scientist&locations=New%20Delhi&searchId=b0d3e642-3fa0-4af3-bc56-8e8a9b3f0f45')"
   ]
  },
  {
   "cell_type": "code",
   "execution_count": 5,
   "metadata": {},
   "outputs": [
    {
     "name": "stdout",
     "output_type": "stream",
     "text": [
      "12\n",
      "12\n"
     ]
    }
   ],
   "source": [
    "content=driver.page_source\n",
    "soup=BeautifulSoup(content)\n",
    "position=soup.findAll('h3',attrs={'class':'medium'})\n",
    "print(len(position))\n",
    "\n",
    "company=soup.findAll('span',attrs={'class':'company-name'})\n",
    "print(len(company))\n"
   ]
  },
  {
   "cell_type": "code",
   "execution_count": 6,
   "metadata": {},
   "outputs": [],
   "source": [
    "Position=[]\n",
    "Company=[]\n"
   ]
  },
  {
   "cell_type": "code",
   "execution_count": 7,
   "metadata": {},
   "outputs": [
    {
     "data": {
      "text/plain": [
       "['Data Analyst / Fresher /  Data Scientist / Graduate Fresher  - MNC - 7303778896 | 9560245147 ',\n",
       " 'Data Analyst / Fresher /  Data Scientist / Graduate Fresher  - MNC - 7303778896 | 9560245147 ',\n",
       " 'Data Analyst – Fresher – Data Scientist – Any Graduate - Fresher  6397800351 | 9717266846 ',\n",
       " 'Data Analyst / Fresher /  Data Scientist / Graduate Fresher  - MNC - 7303778896 | 9560245147 ',\n",
       " 'Data Analyst – Fresher – Data Scientist – Graduate - Fresher  7303778896 | 9560245147 | 6397800351  ',\n",
       " 'Data Analyst – Fresher – Data Scientist – Graduate - Fresher  7303778896 | 9560245147 | 6397800351  ',\n",
       " 'DATA ANALYST – FRESHER – DATA SCIENTIST – SAS – PYTHON – TABLEAU - Fresher / Exp ',\n",
       " 'Data Scientist - 11 ',\n",
       " 'Data Scientist - 09 ',\n",
       " 'Data Scientist - 09 ',\n",
       " 'Data Scientist - 11 ',\n",
       " 'Data Scientist - Gurgaon || Experience 5 - 7 years ']"
      ]
     },
     "execution_count": 7,
     "metadata": {},
     "output_type": "execute_result"
    }
   ],
   "source": [
    "for i in position:\n",
    "    Position.append(i.text)\n",
    "Position"
   ]
  },
  {
   "cell_type": "code",
   "execution_count": 46,
   "metadata": {},
   "outputs": [
    {
     "data": {
      "text/html": [
       "<div>\n",
       "<style scoped>\n",
       "    .dataframe tbody tr th:only-of-type {\n",
       "        vertical-align: middle;\n",
       "    }\n",
       "\n",
       "    .dataframe tbody tr th {\n",
       "        vertical-align: top;\n",
       "    }\n",
       "\n",
       "    .dataframe thead th {\n",
       "        text-align: right;\n",
       "    }\n",
       "</style>\n",
       "<table border=\"1\" class=\"dataframe\">\n",
       "  <thead>\n",
       "    <tr style=\"text-align: right;\">\n",
       "      <th></th>\n",
       "      <th>Job Title</th>\n",
       "    </tr>\n",
       "  </thead>\n",
       "  <tbody>\n",
       "    <tr>\n",
       "      <th>0</th>\n",
       "      <td>Data Analyst / Fresher /  Data Scientist / Gra...</td>\n",
       "    </tr>\n",
       "    <tr>\n",
       "      <th>1</th>\n",
       "      <td>Data Analyst / Fresher /  Data Scientist / Gra...</td>\n",
       "    </tr>\n",
       "    <tr>\n",
       "      <th>2</th>\n",
       "      <td>Data Analyst – Fresher – Data Scientist – Any ...</td>\n",
       "    </tr>\n",
       "    <tr>\n",
       "      <th>3</th>\n",
       "      <td>Data Analyst / Fresher /  Data Scientist / Gra...</td>\n",
       "    </tr>\n",
       "    <tr>\n",
       "      <th>4</th>\n",
       "      <td>Data Analyst – Fresher – Data Scientist – Grad...</td>\n",
       "    </tr>\n",
       "    <tr>\n",
       "      <th>5</th>\n",
       "      <td>Data Analyst – Fresher – Data Scientist – Grad...</td>\n",
       "    </tr>\n",
       "    <tr>\n",
       "      <th>6</th>\n",
       "      <td>DATA ANALYST – FRESHER – DATA SCIENTIST – SAS ...</td>\n",
       "    </tr>\n",
       "    <tr>\n",
       "      <th>7</th>\n",
       "      <td>Data Scientist - 11</td>\n",
       "    </tr>\n",
       "    <tr>\n",
       "      <th>8</th>\n",
       "      <td>Data Scientist - 09</td>\n",
       "    </tr>\n",
       "    <tr>\n",
       "      <th>9</th>\n",
       "      <td>Data Scientist - 09</td>\n",
       "    </tr>\n",
       "    <tr>\n",
       "      <th>10</th>\n",
       "      <td>Data Scientist - 11</td>\n",
       "    </tr>\n",
       "    <tr>\n",
       "      <th>11</th>\n",
       "      <td>Data Scientist - Gurgaon || Experience 5 - 7 y...</td>\n",
       "    </tr>\n",
       "  </tbody>\n",
       "</table>\n",
       "</div>"
      ],
      "text/plain": [
       "                                            Job Title\n",
       "0   Data Analyst / Fresher /  Data Scientist / Gra...\n",
       "1   Data Analyst / Fresher /  Data Scientist / Gra...\n",
       "2   Data Analyst – Fresher – Data Scientist – Any ...\n",
       "3   Data Analyst / Fresher /  Data Scientist / Gra...\n",
       "4   Data Analyst – Fresher – Data Scientist – Grad...\n",
       "5   Data Analyst – Fresher – Data Scientist – Grad...\n",
       "6   DATA ANALYST – FRESHER – DATA SCIENTIST – SAS ...\n",
       "7                                Data Scientist - 11 \n",
       "8                                Data Scientist - 09 \n",
       "9                                Data Scientist - 09 \n",
       "10                               Data Scientist - 11 \n",
       "11  Data Scientist - Gurgaon || Experience 5 - 7 y..."
      ]
     },
     "execution_count": 46,
     "metadata": {},
     "output_type": "execute_result"
    }
   ],
   "source": [
    "df1=pd.DataFrame(Position)\n",
    "df1=df1.rename({0:'Job Title'},axis=1)\n",
    "df1"
   ]
  },
  {
   "cell_type": "code",
   "execution_count": 8,
   "metadata": {},
   "outputs": [
    {
     "data": {
      "text/plain": [
       "['Structured Learning Assistance Consultants India Private Limited',\n",
       " 'Structured Learning Assistance Consultants India Private Limited',\n",
       " 'Structured Learning Assistance Consultants India Private Limited',\n",
       " 'Structured Learning Assistance Consultants India Private Limited',\n",
       " 'Structured Learning Assistance Consultants India Private Limited',\n",
       " 'Structured Learning Assistance Consultants India Private Limited',\n",
       " 'Structured Learning Assistance Consultants India Private Limited',\n",
       " 'Accenture',\n",
       " 'Accenture',\n",
       " 'Accenture',\n",
       " 'Accenture',\n",
       " 'WNS Global Services Private Limited']"
      ]
     },
     "execution_count": 8,
     "metadata": {},
     "output_type": "execute_result"
    }
   ],
   "source": [
    "for i in company:\n",
    "    Company.append(i.text)\n",
    "Company"
   ]
  },
  {
   "cell_type": "code",
   "execution_count": 45,
   "metadata": {},
   "outputs": [
    {
     "data": {
      "text/html": [
       "<div>\n",
       "<style scoped>\n",
       "    .dataframe tbody tr th:only-of-type {\n",
       "        vertical-align: middle;\n",
       "    }\n",
       "\n",
       "    .dataframe tbody tr th {\n",
       "        vertical-align: top;\n",
       "    }\n",
       "\n",
       "    .dataframe thead th {\n",
       "        text-align: right;\n",
       "    }\n",
       "</style>\n",
       "<table border=\"1\" class=\"dataframe\">\n",
       "  <thead>\n",
       "    <tr style=\"text-align: right;\">\n",
       "      <th></th>\n",
       "      <th>Company Name</th>\n",
       "    </tr>\n",
       "  </thead>\n",
       "  <tbody>\n",
       "    <tr>\n",
       "      <th>0</th>\n",
       "      <td>Structured Learning Assistance Consultants Ind...</td>\n",
       "    </tr>\n",
       "    <tr>\n",
       "      <th>1</th>\n",
       "      <td>Structured Learning Assistance Consultants Ind...</td>\n",
       "    </tr>\n",
       "    <tr>\n",
       "      <th>2</th>\n",
       "      <td>Structured Learning Assistance Consultants Ind...</td>\n",
       "    </tr>\n",
       "    <tr>\n",
       "      <th>3</th>\n",
       "      <td>Structured Learning Assistance Consultants Ind...</td>\n",
       "    </tr>\n",
       "    <tr>\n",
       "      <th>4</th>\n",
       "      <td>Structured Learning Assistance Consultants Ind...</td>\n",
       "    </tr>\n",
       "    <tr>\n",
       "      <th>5</th>\n",
       "      <td>Structured Learning Assistance Consultants Ind...</td>\n",
       "    </tr>\n",
       "    <tr>\n",
       "      <th>6</th>\n",
       "      <td>Structured Learning Assistance Consultants Ind...</td>\n",
       "    </tr>\n",
       "    <tr>\n",
       "      <th>7</th>\n",
       "      <td>Accenture</td>\n",
       "    </tr>\n",
       "    <tr>\n",
       "      <th>8</th>\n",
       "      <td>Accenture</td>\n",
       "    </tr>\n",
       "    <tr>\n",
       "      <th>9</th>\n",
       "      <td>Accenture</td>\n",
       "    </tr>\n",
       "    <tr>\n",
       "      <th>10</th>\n",
       "      <td>Accenture</td>\n",
       "    </tr>\n",
       "    <tr>\n",
       "      <th>11</th>\n",
       "      <td>WNS Global Services Private Limited</td>\n",
       "    </tr>\n",
       "  </tbody>\n",
       "</table>\n",
       "</div>"
      ],
      "text/plain": [
       "                                         Company Name\n",
       "0   Structured Learning Assistance Consultants Ind...\n",
       "1   Structured Learning Assistance Consultants Ind...\n",
       "2   Structured Learning Assistance Consultants Ind...\n",
       "3   Structured Learning Assistance Consultants Ind...\n",
       "4   Structured Learning Assistance Consultants Ind...\n",
       "5   Structured Learning Assistance Consultants Ind...\n",
       "6   Structured Learning Assistance Consultants Ind...\n",
       "7                                           Accenture\n",
       "8                                           Accenture\n",
       "9                                           Accenture\n",
       "10                                          Accenture\n",
       "11                WNS Global Services Private Limited"
      ]
     },
     "execution_count": 45,
     "metadata": {},
     "output_type": "execute_result"
    }
   ],
   "source": [
    "df2=pd.DataFrame(Company)\n",
    "df2=df2.rename({0:'Company Name'},axis=1)\n",
    "df2"
   ]
  },
  {
   "cell_type": "code",
   "execution_count": 34,
   "metadata": {},
   "outputs": [],
   "source": [
    "z=driver.find_elements_by_xpath(\"//div[@class='col-xxs-12 col-sm-5 text-ellipsis']/span/small\")"
   ]
  },
  {
   "cell_type": "code",
   "execution_count": 35,
   "metadata": {},
   "outputs": [
    {
     "data": {
      "text/plain": [
       "[<selenium.webdriver.remote.webelement.WebElement (session=\"ba206aacb439525a7f5bf182e5a1b3e3\", element=\"e97b742f-f561-4e20-9e7d-bf08e0f86f29\")>,\n",
       " <selenium.webdriver.remote.webelement.WebElement (session=\"ba206aacb439525a7f5bf182e5a1b3e3\", element=\"44062e52-d822-4dfa-b02a-f9ba66dea5a8\")>,\n",
       " <selenium.webdriver.remote.webelement.WebElement (session=\"ba206aacb439525a7f5bf182e5a1b3e3\", element=\"b89763ed-2c77-4e1d-b54b-490fb4bd11e0\")>,\n",
       " <selenium.webdriver.remote.webelement.WebElement (session=\"ba206aacb439525a7f5bf182e5a1b3e3\", element=\"264b185a-69e8-404d-b403-130f9c728b66\")>,\n",
       " <selenium.webdriver.remote.webelement.WebElement (session=\"ba206aacb439525a7f5bf182e5a1b3e3\", element=\"c6585612-ee58-437a-97ca-42a0ef3bdbfb\")>,\n",
       " <selenium.webdriver.remote.webelement.WebElement (session=\"ba206aacb439525a7f5bf182e5a1b3e3\", element=\"46faf562-95c7-45d5-b1e4-4b95bbc70dbb\")>,\n",
       " <selenium.webdriver.remote.webelement.WebElement (session=\"ba206aacb439525a7f5bf182e5a1b3e3\", element=\"f2699035-25cd-465b-95ce-401614dc799e\")>,\n",
       " <selenium.webdriver.remote.webelement.WebElement (session=\"ba206aacb439525a7f5bf182e5a1b3e3\", element=\"13a58f50-3962-418f-9414-39aab257ad00\")>,\n",
       " <selenium.webdriver.remote.webelement.WebElement (session=\"ba206aacb439525a7f5bf182e5a1b3e3\", element=\"3bcdf162-f5cb-4582-ad49-c0441e39a8d5\")>,\n",
       " <selenium.webdriver.remote.webelement.WebElement (session=\"ba206aacb439525a7f5bf182e5a1b3e3\", element=\"36d6c512-b430-4f4e-9575-bcab1148d32d\")>,\n",
       " <selenium.webdriver.remote.webelement.WebElement (session=\"ba206aacb439525a7f5bf182e5a1b3e3\", element=\"52976eed-f919-4ad9-8907-ff2ac5eb667e\")>,\n",
       " <selenium.webdriver.remote.webelement.WebElement (session=\"ba206aacb439525a7f5bf182e5a1b3e3\", element=\"026c88b6-6bca-4acf-8a55-518e9b959545\")>]"
      ]
     },
     "execution_count": 35,
     "metadata": {},
     "output_type": "execute_result"
    }
   ],
   "source": [
    "z"
   ]
  },
  {
   "cell_type": "code",
   "execution_count": 36,
   "metadata": {},
   "outputs": [],
   "source": [
    "Location=[]"
   ]
  },
  {
   "cell_type": "code",
   "execution_count": 37,
   "metadata": {},
   "outputs": [
    {
     "data": {
      "text/plain": [
       "['Delhi, Ghaziabad',\n",
       " 'Delhi, Gurgaon / Gurugram',\n",
       " 'Delhi, Noida',\n",
       " 'Delhi, Ghaziabad',\n",
       " 'Delhi, Noida',\n",
       " 'Delhi, Gurgaon / Gurugram',\n",
       " 'Delhi, Noida',\n",
       " 'Delhi, Mumbai',\n",
       " 'Delhi, Mumbai',\n",
       " 'Delhi, Mumbai',\n",
       " 'Delhi, Mumbai',\n",
       " 'Delhi, Delhi NCR']"
      ]
     },
     "execution_count": 37,
     "metadata": {},
     "output_type": "execute_result"
    }
   ],
   "source": [
    "for i in z:\n",
    "    kR= i.text\n",
    "    Location.append(kR)\n",
    "Location"
   ]
  },
  {
   "cell_type": "code",
   "execution_count": 49,
   "metadata": {},
   "outputs": [
    {
     "data": {
      "text/html": [
       "<div>\n",
       "<style scoped>\n",
       "    .dataframe tbody tr th:only-of-type {\n",
       "        vertical-align: middle;\n",
       "    }\n",
       "\n",
       "    .dataframe tbody tr th {\n",
       "        vertical-align: top;\n",
       "    }\n",
       "\n",
       "    .dataframe thead th {\n",
       "        text-align: right;\n",
       "    }\n",
       "</style>\n",
       "<table border=\"1\" class=\"dataframe\">\n",
       "  <thead>\n",
       "    <tr style=\"text-align: right;\">\n",
       "      <th></th>\n",
       "      <th>Location</th>\n",
       "    </tr>\n",
       "  </thead>\n",
       "  <tbody>\n",
       "    <tr>\n",
       "      <th>0</th>\n",
       "      <td>Delhi, Ghaziabad</td>\n",
       "    </tr>\n",
       "    <tr>\n",
       "      <th>1</th>\n",
       "      <td>Delhi, Gurgaon / Gurugram</td>\n",
       "    </tr>\n",
       "    <tr>\n",
       "      <th>2</th>\n",
       "      <td>Delhi, Noida</td>\n",
       "    </tr>\n",
       "    <tr>\n",
       "      <th>3</th>\n",
       "      <td>Delhi, Ghaziabad</td>\n",
       "    </tr>\n",
       "    <tr>\n",
       "      <th>4</th>\n",
       "      <td>Delhi, Noida</td>\n",
       "    </tr>\n",
       "    <tr>\n",
       "      <th>5</th>\n",
       "      <td>Delhi, Gurgaon / Gurugram</td>\n",
       "    </tr>\n",
       "    <tr>\n",
       "      <th>6</th>\n",
       "      <td>Delhi, Noida</td>\n",
       "    </tr>\n",
       "    <tr>\n",
       "      <th>7</th>\n",
       "      <td>Delhi, Mumbai</td>\n",
       "    </tr>\n",
       "    <tr>\n",
       "      <th>8</th>\n",
       "      <td>Delhi, Mumbai</td>\n",
       "    </tr>\n",
       "    <tr>\n",
       "      <th>9</th>\n",
       "      <td>Delhi, Mumbai</td>\n",
       "    </tr>\n",
       "    <tr>\n",
       "      <th>10</th>\n",
       "      <td>Delhi, Mumbai</td>\n",
       "    </tr>\n",
       "    <tr>\n",
       "      <th>11</th>\n",
       "      <td>Delhi, Delhi NCR</td>\n",
       "    </tr>\n",
       "  </tbody>\n",
       "</table>\n",
       "</div>"
      ],
      "text/plain": [
       "                     Location\n",
       "0            Delhi, Ghaziabad\n",
       "1   Delhi, Gurgaon / Gurugram\n",
       "2                Delhi, Noida\n",
       "3            Delhi, Ghaziabad\n",
       "4                Delhi, Noida\n",
       "5   Delhi, Gurgaon / Gurugram\n",
       "6                Delhi, Noida\n",
       "7               Delhi, Mumbai\n",
       "8               Delhi, Mumbai\n",
       "9               Delhi, Mumbai\n",
       "10              Delhi, Mumbai\n",
       "11           Delhi, Delhi NCR"
      ]
     },
     "execution_count": 49,
     "metadata": {},
     "output_type": "execute_result"
    }
   ],
   "source": [
    "df3=pd.DataFrame(Location)\n",
    "df3=df3.rename({0:'Location'},axis=1)\n",
    "df3\n"
   ]
  },
  {
   "cell_type": "code",
   "execution_count": 50,
   "metadata": {},
   "outputs": [
    {
     "data": {
      "text/html": [
       "<div>\n",
       "<style scoped>\n",
       "    .dataframe tbody tr th:only-of-type {\n",
       "        vertical-align: middle;\n",
       "    }\n",
       "\n",
       "    .dataframe tbody tr th {\n",
       "        vertical-align: top;\n",
       "    }\n",
       "\n",
       "    .dataframe thead th {\n",
       "        text-align: right;\n",
       "    }\n",
       "</style>\n",
       "<table border=\"1\" class=\"dataframe\">\n",
       "  <thead>\n",
       "    <tr style=\"text-align: right;\">\n",
       "      <th></th>\n",
       "      <th>Job Title</th>\n",
       "      <th>Company Name</th>\n",
       "      <th>Location</th>\n",
       "    </tr>\n",
       "  </thead>\n",
       "  <tbody>\n",
       "    <tr>\n",
       "      <th>0</th>\n",
       "      <td>Data Analyst / Fresher /  Data Scientist / Gra...</td>\n",
       "      <td>Structured Learning Assistance Consultants Ind...</td>\n",
       "      <td>Delhi, Ghaziabad</td>\n",
       "    </tr>\n",
       "    <tr>\n",
       "      <th>1</th>\n",
       "      <td>Data Analyst / Fresher /  Data Scientist / Gra...</td>\n",
       "      <td>Structured Learning Assistance Consultants Ind...</td>\n",
       "      <td>Delhi, Gurgaon / Gurugram</td>\n",
       "    </tr>\n",
       "    <tr>\n",
       "      <th>2</th>\n",
       "      <td>Data Analyst – Fresher – Data Scientist – Any ...</td>\n",
       "      <td>Structured Learning Assistance Consultants Ind...</td>\n",
       "      <td>Delhi, Noida</td>\n",
       "    </tr>\n",
       "    <tr>\n",
       "      <th>3</th>\n",
       "      <td>Data Analyst / Fresher /  Data Scientist / Gra...</td>\n",
       "      <td>Structured Learning Assistance Consultants Ind...</td>\n",
       "      <td>Delhi, Ghaziabad</td>\n",
       "    </tr>\n",
       "    <tr>\n",
       "      <th>4</th>\n",
       "      <td>Data Analyst – Fresher – Data Scientist – Grad...</td>\n",
       "      <td>Structured Learning Assistance Consultants Ind...</td>\n",
       "      <td>Delhi, Noida</td>\n",
       "    </tr>\n",
       "    <tr>\n",
       "      <th>5</th>\n",
       "      <td>Data Analyst – Fresher – Data Scientist – Grad...</td>\n",
       "      <td>Structured Learning Assistance Consultants Ind...</td>\n",
       "      <td>Delhi, Gurgaon / Gurugram</td>\n",
       "    </tr>\n",
       "    <tr>\n",
       "      <th>6</th>\n",
       "      <td>DATA ANALYST – FRESHER – DATA SCIENTIST – SAS ...</td>\n",
       "      <td>Structured Learning Assistance Consultants Ind...</td>\n",
       "      <td>Delhi, Noida</td>\n",
       "    </tr>\n",
       "    <tr>\n",
       "      <th>7</th>\n",
       "      <td>Data Scientist - 11</td>\n",
       "      <td>Accenture</td>\n",
       "      <td>Delhi, Mumbai</td>\n",
       "    </tr>\n",
       "    <tr>\n",
       "      <th>8</th>\n",
       "      <td>Data Scientist - 09</td>\n",
       "      <td>Accenture</td>\n",
       "      <td>Delhi, Mumbai</td>\n",
       "    </tr>\n",
       "    <tr>\n",
       "      <th>9</th>\n",
       "      <td>Data Scientist - 09</td>\n",
       "      <td>Accenture</td>\n",
       "      <td>Delhi, Mumbai</td>\n",
       "    </tr>\n",
       "    <tr>\n",
       "      <th>10</th>\n",
       "      <td>Data Scientist - 11</td>\n",
       "      <td>Accenture</td>\n",
       "      <td>Delhi, Mumbai</td>\n",
       "    </tr>\n",
       "    <tr>\n",
       "      <th>11</th>\n",
       "      <td>Data Scientist - Gurgaon || Experience 5 - 7 y...</td>\n",
       "      <td>WNS Global Services Private Limited</td>\n",
       "      <td>Delhi, Delhi NCR</td>\n",
       "    </tr>\n",
       "  </tbody>\n",
       "</table>\n",
       "</div>"
      ],
      "text/plain": [
       "                                            Job Title  \\\n",
       "0   Data Analyst / Fresher /  Data Scientist / Gra...   \n",
       "1   Data Analyst / Fresher /  Data Scientist / Gra...   \n",
       "2   Data Analyst – Fresher – Data Scientist – Any ...   \n",
       "3   Data Analyst / Fresher /  Data Scientist / Gra...   \n",
       "4   Data Analyst – Fresher – Data Scientist – Grad...   \n",
       "5   Data Analyst – Fresher – Data Scientist – Grad...   \n",
       "6   DATA ANALYST – FRESHER – DATA SCIENTIST – SAS ...   \n",
       "7                                Data Scientist - 11    \n",
       "8                                Data Scientist - 09    \n",
       "9                                Data Scientist - 09    \n",
       "10                               Data Scientist - 11    \n",
       "11  Data Scientist - Gurgaon || Experience 5 - 7 y...   \n",
       "\n",
       "                                         Company Name  \\\n",
       "0   Structured Learning Assistance Consultants Ind...   \n",
       "1   Structured Learning Assistance Consultants Ind...   \n",
       "2   Structured Learning Assistance Consultants Ind...   \n",
       "3   Structured Learning Assistance Consultants Ind...   \n",
       "4   Structured Learning Assistance Consultants Ind...   \n",
       "5   Structured Learning Assistance Consultants Ind...   \n",
       "6   Structured Learning Assistance Consultants Ind...   \n",
       "7                                           Accenture   \n",
       "8                                           Accenture   \n",
       "9                                           Accenture   \n",
       "10                                          Accenture   \n",
       "11                WNS Global Services Private Limited   \n",
       "\n",
       "                     Location  \n",
       "0            Delhi, Ghaziabad  \n",
       "1   Delhi, Gurgaon / Gurugram  \n",
       "2                Delhi, Noida  \n",
       "3            Delhi, Ghaziabad  \n",
       "4                Delhi, Noida  \n",
       "5   Delhi, Gurgaon / Gurugram  \n",
       "6                Delhi, Noida  \n",
       "7               Delhi, Mumbai  \n",
       "8               Delhi, Mumbai  \n",
       "9               Delhi, Mumbai  \n",
       "10              Delhi, Mumbai  \n",
       "11           Delhi, Delhi NCR  "
      ]
     },
     "execution_count": 50,
     "metadata": {},
     "output_type": "execute_result"
    }
   ],
   "source": [
    "Data_Scientist=pd.concat([df1,df2,df3],axis=1)\n",
    "Data_Scientist"
   ]
  },
  {
   "cell_type": "markdown",
   "metadata": {},
   "source": [
    "# Saving Data in CSV file"
   ]
  },
  {
   "cell_type": "code",
   "execution_count": 51,
   "metadata": {},
   "outputs": [],
   "source": [
    "Data_Scientist.to_csv(\"Data_Scientist_jobs.csv\")"
   ]
  },
  {
   "cell_type": "code",
   "execution_count": null,
   "metadata": {},
   "outputs": [],
   "source": []
  }
 ],
 "metadata": {
  "kernelspec": {
   "display_name": "Python 3",
   "language": "python",
   "name": "python3"
  },
  "language_info": {
   "codemirror_mode": {
    "name": "ipython",
    "version": 3
   },
   "file_extension": ".py",
   "mimetype": "text/x-python",
   "name": "python",
   "nbconvert_exporter": "python",
   "pygments_lexer": "ipython3",
   "version": "3.8.3"
  }
 },
 "nbformat": 4,
 "nbformat_minor": 4
}
