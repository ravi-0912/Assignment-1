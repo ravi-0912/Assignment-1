{
 "cells": [
  {
   "cell_type": "code",
   "execution_count": 20,
   "metadata": {},
   "outputs": [],
   "source": [
    "from selenium import webdriver\n",
    "from bs4 import BeautifulSoup\n",
    "import pandas as pd"
   ]
  },
  {
   "cell_type": "code",
   "execution_count": 21,
   "metadata": {},
   "outputs": [],
   "source": [
    "path = r\"C:\\Users\\verma\\Desktop\\Selenium\\chromedriver.exe\""
   ]
  },
  {
   "cell_type": "code",
   "execution_count": 22,
   "metadata": {},
   "outputs": [],
   "source": [
    "driver = webdriver.Chrome(path)"
   ]
  },
  {
   "cell_type": "code",
   "execution_count": 23,
   "metadata": {},
   "outputs": [],
   "source": [
    "driver.get('https://bookpage.com/reviews')"
   ]
  },
  {
   "cell_type": "code",
   "execution_count": 24,
   "metadata": {},
   "outputs": [
    {
     "name": "stdout",
     "output_type": "stream",
     "text": [
      "10\n",
      "10\n",
      "9\n"
     ]
    }
   ],
   "source": [
    "content=driver.page_source\n",
    "soup= BeautifulSoup(content)\n",
    "book_name=soup.findAll('h4',attrs={'class':'italic'})\n",
    "print(len(book_name))\n",
    "author_name=soup.findAll('p',attrs={'class':'sans bold'})\n",
    "print(len(author_name))\n",
    "genre=soup.findAll('p',attrs={'class':'genre-links hidden-phone'})\n",
    "print(len(genre))\n"
   ]
  },
  {
   "cell_type": "code",
   "execution_count": 25,
   "metadata": {},
   "outputs": [
    {
     "data": {
      "text/plain": [
       "[<h4 class=\"italic\">\n",
       " <a href=\"/reviews/25671-elizabeth-berg-ill-be-seeing-you-nonfiction\">I'll Be Seeing You</a>\n",
       " </h4>,\n",
       " <h4 class=\"italic\">\n",
       " <a href=\"/reviews/25654-jess-walter-cold-millions-fiction\">The Cold Millions</a>\n",
       " </h4>,\n",
       " <h4 class=\"italic\">\n",
       " <a href=\"/reviews/25533-martin-amis-inside-story-fiction\">Inside Story</a>\n",
       " </h4>,\n",
       " <h4 class=\"italic\">\n",
       " <a href=\"/reviews/25683-andrzej-sapkowski-tower-fools-science-fiction-fantasy\">The Tower of Fools</a>\n",
       " </h4>,\n",
       " <h4 class=\"italic\">\n",
       " <a href=\"/reviews/25686-rebekah-weatherspoon-if-boot-fits-romance\"> <span style=\"font-style:normal;\">★ </span>If the Boot Fits</a>\n",
       " </h4>,\n",
       " <h4 class=\"italic\">\n",
       " <a href=\"/reviews/25680-stephen-spotswood-fortune-favors-dead-mystery-suspense\"> <span style=\"font-style:normal;\">★ </span>Fortune Favors the Dead</a>\n",
       " </h4>,\n",
       " <h4 class=\"italic\">\n",
       " <a href=\"/reviews/25646-jerry-pinkney-little-mermaid-childrens\"> <span style=\"font-style:normal;\">★ </span>The Little Mermaid</a>\n",
       " </h4>,\n",
       " <h4 class=\"italic\">\n",
       " <a href=\"/reviews/25676-rick-bragg-where-i-come-from\">Where I Come From</a>\n",
       " </h4>,\n",
       " <h4 class=\"italic\">\n",
       " <a href=\"/reviews/25658-robert-broder-crow-snow-childrens\">Crow &amp; Snow</a>\n",
       " </h4>,\n",
       " <h4 class=\"italic\">\n",
       " <a href=\"/reviews/25642-kelly-powell-magic-dark-strange-ya\">Magic Dark and Strange</a>\n",
       " </h4>]"
      ]
     },
     "execution_count": 25,
     "metadata": {},
     "output_type": "execute_result"
    }
   ],
   "source": [
    "book_name"
   ]
  },
  {
   "cell_type": "code",
   "execution_count": 26,
   "metadata": {},
   "outputs": [
    {
     "data": {
      "text/plain": [
       "[<p class=\"sans bold\">\n",
       " Elizabeth Berg\n",
       " </p>,\n",
       " <p class=\"sans bold\">\n",
       " Jess Walter\n",
       " </p>,\n",
       " <p class=\"sans bold\">\n",
       " Martin Amis\n",
       " </p>,\n",
       " <p class=\"sans bold\">\n",
       " Andrzej Sapkowski\n",
       " </p>,\n",
       " <p class=\"sans bold\">\n",
       " Rebekah Weatherspoon\n",
       " </p>,\n",
       " <p class=\"sans bold\">\n",
       " Stephen Spotswood\n",
       " </p>,\n",
       " <p class=\"sans bold\">\n",
       " Jerry Pinkney\n",
       " </p>,\n",
       " <p class=\"sans bold\">\n",
       " Rick Bragg\n",
       " </p>,\n",
       " <p class=\"sans bold\">\n",
       " Robert Broder, Olivier Tallec\n",
       " </p>,\n",
       " <p class=\"sans bold\">\n",
       " Kelly Powell\n",
       " </p>]"
      ]
     },
     "execution_count": 26,
     "metadata": {},
     "output_type": "execute_result"
    }
   ],
   "source": [
    "author_name"
   ]
  },
  {
   "cell_type": "code",
   "execution_count": 27,
   "metadata": {},
   "outputs": [
    {
     "data": {
      "text/plain": [
       "[<p class=\"genre-links hidden-phone\">\n",
       " <a href=\"/search?book_genre=nonfiction\">Nonfiction</a>\n",
       "  / \n",
       " <a href=\"/search?book_genre=memoir\">Memoir</a>\n",
       "  / \n",
       " <a href=\"/search?book_genre=family_relationships\">Family &amp; Relationships</a>\n",
       " </p>,\n",
       " <p class=\"genre-links hidden-phone\">\n",
       " <a href=\"/search?book_genre=fiction\">Fiction</a>\n",
       "  / \n",
       " <a href=\"/search?book_genre=historical_fiction\">Historical Fiction</a>\n",
       " </p>,\n",
       " <p class=\"genre-links hidden-phone\">\n",
       " <a href=\"/search?book_genre=fiction\">Fiction</a>\n",
       "  / \n",
       " <a href=\"/search?book_genre=literary_fiction\">Literary Fiction</a>\n",
       " </p>,\n",
       " <p class=\"genre-links hidden-phone\">\n",
       " <a href=\"/search?book_genre=science_fiction_fantasy\">Science Fiction &amp; Fantasy</a>\n",
       "  / \n",
       " <a href=\"/search?book_genre=fantasy\">Fantasy</a>\n",
       "  / \n",
       " <a href=\"/search?book_genre=historical_fantasy\">Historical Fantasy</a>\n",
       " </p>,\n",
       " <p class=\"genre-links hidden-phone\">\n",
       " <a href=\"/search?book_genre=romance\">Romance</a>\n",
       "  / \n",
       " <a href=\"/search?book_genre=contemporary_romance\">Contemporary Romance</a>\n",
       " </p>,\n",
       " <p class=\"genre-links hidden-phone\">\n",
       " <a href=\"/search?book_genre=mystery_suspense\">Mystery &amp; Suspense</a>\n",
       "  / \n",
       " <a href=\"/search?book_genre=mystery\">Mystery</a>\n",
       "  / \n",
       " <a href=\"/search?book_genre=historical_mystery\">Historical Mystery</a>\n",
       " </p>,\n",
       " <p class=\"genre-links hidden-phone\">\n",
       " <a href=\"/search?book_genre=children_s\">Children's</a>\n",
       "  / \n",
       " <a href=\"/search?book_genre=children_s_picture_book\">Children's Picture Book</a>\n",
       " </p>,\n",
       " <p class=\"genre-links hidden-phone\">\n",
       " <a href=\"/search?book_genre=children_s\">Children's</a>\n",
       "  / \n",
       " <a href=\"/search?book_genre=children_s_picture_book\">Children's Picture Book</a>\n",
       " </p>,\n",
       " <p class=\"genre-links hidden-phone\">\n",
       " <a href=\"/search?book_genre=ya_fiction\">YA Fiction</a>\n",
       "  / \n",
       " <a href=\"/search?book_genre=ya\">YA</a>\n",
       " </p>]"
      ]
     },
     "execution_count": 27,
     "metadata": {},
     "output_type": "execute_result"
    }
   ],
   "source": [
    "genre"
   ]
  },
  {
   "cell_type": "code",
   "execution_count": 28,
   "metadata": {},
   "outputs": [],
   "source": [
    "Book_Name=[]\n",
    "Author_Name=[]\n",
    "Genre=[]"
   ]
  },
  {
   "cell_type": "code",
   "execution_count": 29,
   "metadata": {},
   "outputs": [
    {
     "data": {
      "text/plain": [
       "[<a href=\"/reviews/25671-elizabeth-berg-ill-be-seeing-you-nonfiction\">I'll Be Seeing You</a>,\n",
       " <a href=\"/reviews/25654-jess-walter-cold-millions-fiction\">The Cold Millions</a>,\n",
       " <a href=\"/reviews/25533-martin-amis-inside-story-fiction\">Inside Story</a>,\n",
       " <a href=\"/reviews/25683-andrzej-sapkowski-tower-fools-science-fiction-fantasy\">The Tower of Fools</a>,\n",
       " <a href=\"/reviews/25686-rebekah-weatherspoon-if-boot-fits-romance\"> <span style=\"font-style:normal;\">★ </span>If the Boot Fits</a>,\n",
       " <a href=\"/reviews/25680-stephen-spotswood-fortune-favors-dead-mystery-suspense\"> <span style=\"font-style:normal;\">★ </span>Fortune Favors the Dead</a>,\n",
       " <a href=\"/reviews/25646-jerry-pinkney-little-mermaid-childrens\"> <span style=\"font-style:normal;\">★ </span>The Little Mermaid</a>,\n",
       " <a href=\"/reviews/25676-rick-bragg-where-i-come-from\">Where I Come From</a>,\n",
       " <a href=\"/reviews/25658-robert-broder-crow-snow-childrens\">Crow &amp; Snow</a>,\n",
       " <a href=\"/reviews/25642-kelly-powell-magic-dark-strange-ya\">Magic Dark and Strange</a>]"
      ]
     },
     "execution_count": 29,
     "metadata": {},
     "output_type": "execute_result"
    }
   ],
   "source": [
    "for i in book_name:\n",
    "     for k in i.find_all('a'):\n",
    "        Book_Name.append(k)\n",
    "Book_Name"
   ]
  },
  {
   "cell_type": "code",
   "execution_count": 30,
   "metadata": {},
   "outputs": [],
   "source": [
    "Book_name=[]"
   ]
  },
  {
   "cell_type": "code",
   "execution_count": 31,
   "metadata": {},
   "outputs": [
    {
     "data": {
      "text/plain": [
       "[\"I'll Be Seeing You\",\n",
       " 'The Cold Millions',\n",
       " 'Inside Story',\n",
       " 'The Tower of Fools',\n",
       " ' ★ If the Boot Fits',\n",
       " ' ★ Fortune Favors the Dead',\n",
       " ' ★ The Little Mermaid',\n",
       " 'Where I Come From',\n",
       " 'Crow & Snow',\n",
       " 'Magic Dark and Strange']"
      ]
     },
     "execution_count": 31,
     "metadata": {},
     "output_type": "execute_result"
    }
   ],
   "source": [
    "for i in Book_Name:\n",
    "    Book_name.append(i.text)\n",
    "Book_name"
   ]
  },
  {
   "cell_type": "code",
   "execution_count": 32,
   "metadata": {},
   "outputs": [
    {
     "data": {
      "text/html": [
       "<div>\n",
       "<style scoped>\n",
       "    .dataframe tbody tr th:only-of-type {\n",
       "        vertical-align: middle;\n",
       "    }\n",
       "\n",
       "    .dataframe tbody tr th {\n",
       "        vertical-align: top;\n",
       "    }\n",
       "\n",
       "    .dataframe thead th {\n",
       "        text-align: right;\n",
       "    }\n",
       "</style>\n",
       "<table border=\"1\" class=\"dataframe\">\n",
       "  <thead>\n",
       "    <tr style=\"text-align: right;\">\n",
       "      <th></th>\n",
       "      <th>Book Name</th>\n",
       "    </tr>\n",
       "  </thead>\n",
       "  <tbody>\n",
       "    <tr>\n",
       "      <th>0</th>\n",
       "      <td>[I'll Be Seeing You]</td>\n",
       "    </tr>\n",
       "    <tr>\n",
       "      <th>1</th>\n",
       "      <td>[The Cold Millions]</td>\n",
       "    </tr>\n",
       "    <tr>\n",
       "      <th>2</th>\n",
       "      <td>[Inside Story]</td>\n",
       "    </tr>\n",
       "    <tr>\n",
       "      <th>3</th>\n",
       "      <td>[The Tower of Fools]</td>\n",
       "    </tr>\n",
       "    <tr>\n",
       "      <th>4</th>\n",
       "      <td>[ , [★ ], If the Boot Fits]</td>\n",
       "    </tr>\n",
       "  </tbody>\n",
       "</table>\n",
       "</div>"
      ],
      "text/plain": [
       "                     Book Name\n",
       "0         [I'll Be Seeing You]\n",
       "1          [The Cold Millions]\n",
       "2               [Inside Story]\n",
       "3         [The Tower of Fools]\n",
       "4  [ , [★ ], If the Boot Fits]"
      ]
     },
     "execution_count": 32,
     "metadata": {},
     "output_type": "execute_result"
    }
   ],
   "source": [
    "df1=pd.DataFrame(Book_Name)\n",
    "df1=df1.rename({0:'Book Name'},axis=1)\n",
    "df1=df1.iloc[0:5]\n",
    "df1"
   ]
  },
  {
   "cell_type": "code",
   "execution_count": 33,
   "metadata": {},
   "outputs": [
    {
     "data": {
      "text/plain": [
       "['\\nElizabeth Berg\\n',\n",
       " '\\nJess Walter\\n',\n",
       " '\\nMartin Amis\\n',\n",
       " '\\nAndrzej Sapkowski\\n',\n",
       " '\\nRebekah Weatherspoon\\n',\n",
       " '\\nStephen Spotswood\\n',\n",
       " '\\nJerry Pinkney\\n',\n",
       " '\\nRick Bragg\\n',\n",
       " '\\nRobert Broder, Olivier Tallec\\n',\n",
       " '\\nKelly Powell\\n']"
      ]
     },
     "execution_count": 33,
     "metadata": {},
     "output_type": "execute_result"
    }
   ],
   "source": [
    "for i in author_name:\n",
    "    Author_Name.append(i.text)\n",
    "Author_Name"
   ]
  },
  {
   "cell_type": "code",
   "execution_count": 34,
   "metadata": {},
   "outputs": [
    {
     "data": {
      "text/html": [
       "<div>\n",
       "<style scoped>\n",
       "    .dataframe tbody tr th:only-of-type {\n",
       "        vertical-align: middle;\n",
       "    }\n",
       "\n",
       "    .dataframe tbody tr th {\n",
       "        vertical-align: top;\n",
       "    }\n",
       "\n",
       "    .dataframe thead th {\n",
       "        text-align: right;\n",
       "    }\n",
       "</style>\n",
       "<table border=\"1\" class=\"dataframe\">\n",
       "  <thead>\n",
       "    <tr style=\"text-align: right;\">\n",
       "      <th></th>\n",
       "      <th>Author_Name</th>\n",
       "    </tr>\n",
       "  </thead>\n",
       "  <tbody>\n",
       "    <tr>\n",
       "      <th>0</th>\n",
       "      <td>Elizabeth Berg</td>\n",
       "    </tr>\n",
       "    <tr>\n",
       "      <th>1</th>\n",
       "      <td>Jess Walter</td>\n",
       "    </tr>\n",
       "    <tr>\n",
       "      <th>2</th>\n",
       "      <td>Martin Amis</td>\n",
       "    </tr>\n",
       "    <tr>\n",
       "      <th>3</th>\n",
       "      <td>Andrzej Sapkowski</td>\n",
       "    </tr>\n",
       "    <tr>\n",
       "      <th>4</th>\n",
       "      <td>Rebekah Weatherspoon</td>\n",
       "    </tr>\n",
       "  </tbody>\n",
       "</table>\n",
       "</div>"
      ],
      "text/plain": [
       "              Author_Name\n",
       "0         Elizabeth Berg \n",
       "1            Jess Walter \n",
       "2            Martin Amis \n",
       "3      Andrzej Sapkowski \n",
       "4   Rebekah Weatherspoon "
      ]
     },
     "execution_count": 34,
     "metadata": {},
     "output_type": "execute_result"
    }
   ],
   "source": [
    "df= pd.DataFrame(Author_Name)\n",
    "df[0]=df[0].str.replace('\\n',' ')\n",
    "df=df.iloc[0:5]\n",
    "df=df.rename({0:'Author_Name'},axis=1)\n",
    "df"
   ]
  },
  {
   "cell_type": "code",
   "execution_count": 35,
   "metadata": {},
   "outputs": [
    {
     "data": {
      "text/plain": [
       "['\\nNonfiction\\n / \\nMemoir\\n / \\nFamily & Relationships\\n',\n",
       " '\\nFiction\\n / \\nHistorical Fiction\\n',\n",
       " '\\nFiction\\n / \\nLiterary Fiction\\n',\n",
       " '\\nScience Fiction & Fantasy\\n / \\nFantasy\\n / \\nHistorical Fantasy\\n',\n",
       " '\\nRomance\\n / \\nContemporary Romance\\n',\n",
       " '\\nMystery & Suspense\\n / \\nMystery\\n / \\nHistorical Mystery\\n',\n",
       " \"\\nChildren's\\n / \\nChildren's Picture Book\\n\",\n",
       " \"\\nChildren's\\n / \\nChildren's Picture Book\\n\",\n",
       " '\\nYA Fiction\\n / \\nYA\\n']"
      ]
     },
     "execution_count": 35,
     "metadata": {},
     "output_type": "execute_result"
    }
   ],
   "source": [
    "for i in genre:\n",
    "     Genre.append(i.text)\n",
    "Genre"
   ]
  },
  {
   "cell_type": "code",
   "execution_count": 36,
   "metadata": {},
   "outputs": [
    {
     "data": {
      "text/html": [
       "<div>\n",
       "<style scoped>\n",
       "    .dataframe tbody tr th:only-of-type {\n",
       "        vertical-align: middle;\n",
       "    }\n",
       "\n",
       "    .dataframe tbody tr th {\n",
       "        vertical-align: top;\n",
       "    }\n",
       "\n",
       "    .dataframe thead th {\n",
       "        text-align: right;\n",
       "    }\n",
       "</style>\n",
       "<table border=\"1\" class=\"dataframe\">\n",
       "  <thead>\n",
       "    <tr style=\"text-align: right;\">\n",
       "      <th></th>\n",
       "      <th>Genre</th>\n",
       "    </tr>\n",
       "  </thead>\n",
       "  <tbody>\n",
       "    <tr>\n",
       "      <th>0</th>\n",
       "      <td>Nonfiction  /  Memoir  /  Family &amp; Relationsh...</td>\n",
       "    </tr>\n",
       "    <tr>\n",
       "      <th>1</th>\n",
       "      <td>Fiction  /  Historical Fiction</td>\n",
       "    </tr>\n",
       "    <tr>\n",
       "      <th>2</th>\n",
       "      <td>Fiction  /  Literary Fiction</td>\n",
       "    </tr>\n",
       "    <tr>\n",
       "      <th>3</th>\n",
       "      <td>Science Fiction &amp; Fantasy  /  Fantasy  /  His...</td>\n",
       "    </tr>\n",
       "    <tr>\n",
       "      <th>4</th>\n",
       "      <td>Romance  /  Contemporary Romance</td>\n",
       "    </tr>\n",
       "  </tbody>\n",
       "</table>\n",
       "</div>"
      ],
      "text/plain": [
       "                                               Genre\n",
       "0   Nonfiction  /  Memoir  /  Family & Relationsh...\n",
       "1                    Fiction  /  Historical Fiction \n",
       "2                      Fiction  /  Literary Fiction \n",
       "3   Science Fiction & Fantasy  /  Fantasy  /  His...\n",
       "4                  Romance  /  Contemporary Romance "
      ]
     },
     "execution_count": 36,
     "metadata": {},
     "output_type": "execute_result"
    }
   ],
   "source": [
    "df2=pd.DataFrame(Genre)\n",
    "df2[0]=df2[0].str.replace('\\n',' ')\n",
    "df2=df2.rename({0:'Genre'},axis=1)\n",
    "df2=df2.iloc[0:5]\n",
    "df2"
   ]
  },
  {
   "cell_type": "code",
   "execution_count": 37,
   "metadata": {},
   "outputs": [
    {
     "data": {
      "text/html": [
       "<div>\n",
       "<style scoped>\n",
       "    .dataframe tbody tr th:only-of-type {\n",
       "        vertical-align: middle;\n",
       "    }\n",
       "\n",
       "    .dataframe tbody tr th {\n",
       "        vertical-align: top;\n",
       "    }\n",
       "\n",
       "    .dataframe thead th {\n",
       "        text-align: right;\n",
       "    }\n",
       "</style>\n",
       "<table border=\"1\" class=\"dataframe\">\n",
       "  <thead>\n",
       "    <tr style=\"text-align: right;\">\n",
       "      <th></th>\n",
       "      <th>Book Name</th>\n",
       "      <th>Author_Name</th>\n",
       "      <th>Genre</th>\n",
       "    </tr>\n",
       "  </thead>\n",
       "  <tbody>\n",
       "    <tr>\n",
       "      <th>0</th>\n",
       "      <td>[I'll Be Seeing You]</td>\n",
       "      <td>Elizabeth Berg</td>\n",
       "      <td>Nonfiction  /  Memoir  /  Family &amp; Relationsh...</td>\n",
       "    </tr>\n",
       "    <tr>\n",
       "      <th>1</th>\n",
       "      <td>[The Cold Millions]</td>\n",
       "      <td>Jess Walter</td>\n",
       "      <td>Fiction  /  Historical Fiction</td>\n",
       "    </tr>\n",
       "    <tr>\n",
       "      <th>2</th>\n",
       "      <td>[Inside Story]</td>\n",
       "      <td>Martin Amis</td>\n",
       "      <td>Fiction  /  Literary Fiction</td>\n",
       "    </tr>\n",
       "    <tr>\n",
       "      <th>3</th>\n",
       "      <td>[The Tower of Fools]</td>\n",
       "      <td>Andrzej Sapkowski</td>\n",
       "      <td>Science Fiction &amp; Fantasy  /  Fantasy  /  His...</td>\n",
       "    </tr>\n",
       "    <tr>\n",
       "      <th>4</th>\n",
       "      <td>[ , [★ ], If the Boot Fits]</td>\n",
       "      <td>Rebekah Weatherspoon</td>\n",
       "      <td>Romance  /  Contemporary Romance</td>\n",
       "    </tr>\n",
       "  </tbody>\n",
       "</table>\n",
       "</div>"
      ],
      "text/plain": [
       "                     Book Name             Author_Name  \\\n",
       "0         [I'll Be Seeing You]         Elizabeth Berg    \n",
       "1          [The Cold Millions]            Jess Walter    \n",
       "2               [Inside Story]            Martin Amis    \n",
       "3         [The Tower of Fools]      Andrzej Sapkowski    \n",
       "4  [ , [★ ], If the Boot Fits]   Rebekah Weatherspoon    \n",
       "\n",
       "                                               Genre  \n",
       "0   Nonfiction  /  Memoir  /  Family & Relationsh...  \n",
       "1                    Fiction  /  Historical Fiction   \n",
       "2                      Fiction  /  Literary Fiction   \n",
       "3   Science Fiction & Fantasy  /  Fantasy  /  His...  \n",
       "4                  Romance  /  Contemporary Romance   "
      ]
     },
     "execution_count": 37,
     "metadata": {},
     "output_type": "execute_result"
    }
   ],
   "source": [
    "Bookpage=pd.concat([df1,df,df2],axis=1)\n",
    "Bookpage"
   ]
  },
  {
   "cell_type": "code",
   "execution_count": 38,
   "metadata": {},
   "outputs": [],
   "source": [
    "driver.get('https://bookpage.com/reviews/25671-elizabeth-berg-ill-be-seeing-you-nonfiction#.X51coIgzY2w')"
   ]
  },
  {
   "cell_type": "code",
   "execution_count": 39,
   "metadata": {},
   "outputs": [],
   "source": [
    "yk=driver.find_elements_by_xpath(\"//div[@class='article-body']/p\")"
   ]
  },
  {
   "cell_type": "code",
   "execution_count": 40,
   "metadata": {},
   "outputs": [
    {
     "data": {
      "text/plain": [
       "[<selenium.webdriver.remote.webelement.WebElement (session=\"09b0ef197e30417abb276d6fad1189e4\", element=\"8c0879c9-194c-4d62-a7d7-f8cc16719105\")>,\n",
       " <selenium.webdriver.remote.webelement.WebElement (session=\"09b0ef197e30417abb276d6fad1189e4\", element=\"1fecea19-296e-4163-94ed-0802c2298480\")>,\n",
       " <selenium.webdriver.remote.webelement.WebElement (session=\"09b0ef197e30417abb276d6fad1189e4\", element=\"2aa17ec0-e782-4161-a628-c59a0b064319\")>,\n",
       " <selenium.webdriver.remote.webelement.WebElement (session=\"09b0ef197e30417abb276d6fad1189e4\", element=\"9b4cd9fa-9f64-44d6-987a-3579628ece7b\")>,\n",
       " <selenium.webdriver.remote.webelement.WebElement (session=\"09b0ef197e30417abb276d6fad1189e4\", element=\"d28e6fc2-07ae-475e-a0d9-41f981966f0d\")>,\n",
       " <selenium.webdriver.remote.webelement.WebElement (session=\"09b0ef197e30417abb276d6fad1189e4\", element=\"df0526f9-6aa2-4ef3-a7f7-46d3271a8e68\")>,\n",
       " <selenium.webdriver.remote.webelement.WebElement (session=\"09b0ef197e30417abb276d6fad1189e4\", element=\"fa789369-a8e8-4bbd-910a-e3c6d54b12d0\")>,\n",
       " <selenium.webdriver.remote.webelement.WebElement (session=\"09b0ef197e30417abb276d6fad1189e4\", element=\"dee5c3cf-69c9-4219-8f69-70babdf32ece\")>]"
      ]
     },
     "execution_count": 40,
     "metadata": {},
     "output_type": "execute_result"
    }
   ],
   "source": [
    "yk"
   ]
  },
  {
   "cell_type": "code",
   "execution_count": 41,
   "metadata": {},
   "outputs": [],
   "source": [
    "review1= []"
   ]
  },
  {
   "cell_type": "code",
   "execution_count": 43,
   "metadata": {},
   "outputs": [
    {
     "data": {
      "text/plain": [
       "['',\n",
       " '“This book is a diary of my parents’ decline.”',\n",
       " 'So opens novelist Elizabeth Berg’s new biographic memoir, I’ll Be Seeing You. Yes, her prologue speaks bluntly, but don’t be deterred. Though this book does bear witness to the inevitability of aging and loss, it is nonetheless a small gem shining with Berg’s signature largesse—generous gifts of poetic insight, close observance, vulnerability, honesty, humor and grace.',\n",
       " 'Berg’s father, a tough U.S. Army “lifer,” is in the early stages of Alzheimer’s disease, while his wife of more than 67 years tries to cope. Though he’s always been autocratic and demanding, Berg’s father unconditionally adores his wife. “She was the place where he put his tenderness,” Berg writes. Eventually, his gradual descent into dementia, along with his wife’s advancing age, force the couple to move from their longtime home into a two-bedroom apartment in an assisted living facility.',\n",
       " 'Berg and her sister try to negotiate and navigate this upheaval with their parents’ best interests at heart, but complications arise. Their father is increasingly confused and isolated, and their usually even-tempered mother becomes angry—an understandable reaction to her two-pronged grief over losing her husband to dementia and leaving a beloved home. “My mother was enraged,” Berg writes. “Her heart was breaking because her house was being taken from her, which is to say that her life was.”',\n",
       " 'From the fall of 2010 to the summer of 2011, short diary entries focus mainly on the events of Berg’s aging parents’ lives, as the author and her sister step in to be their parents’ loving—and often frustrated—family caregivers. “It’s hard to know how to rescue someone. It’s hard to know how to help them in the way they need to be helped,” she writes in one entry. Such rueful reflections are blended with an appreciation of ordinary moments, making each entry a story in miniature—cameos of the joys and pains of family life, and the challenges and rewards of caregiving for loved ones.',\n",
       " 'Readers familiar with Berg’s novels know that her stories wonderfully encompass the comforts of beauty and wry humor, but they never sugarcoat life’s hard truths. The same is true of I’ll Be Seeing You, which mines the wisdom hidden in difficult times. “Life is a minefield at any age,” Berg writes. “If we’re smart, we count our blessings between the darker surprises. When I look at my parents’ lives, I know they were lucky. And still are.”',\n",
       " '']"
      ]
     },
     "execution_count": 43,
     "metadata": {},
     "output_type": "execute_result"
    }
   ],
   "source": [
    "for i in yk:\n",
    "    kk= i.text\n",
    "    review1.append(kk)\n",
    "review1"
   ]
  },
  {
   "cell_type": "code",
   "execution_count": 44,
   "metadata": {},
   "outputs": [
    {
     "data": {
      "text/html": [
       "<div>\n",
       "<style scoped>\n",
       "    .dataframe tbody tr th:only-of-type {\n",
       "        vertical-align: middle;\n",
       "    }\n",
       "\n",
       "    .dataframe tbody tr th {\n",
       "        vertical-align: top;\n",
       "    }\n",
       "\n",
       "    .dataframe thead th {\n",
       "        text-align: right;\n",
       "    }\n",
       "</style>\n",
       "<table border=\"1\" class=\"dataframe\">\n",
       "  <thead>\n",
       "    <tr style=\"text-align: right;\">\n",
       "      <th></th>\n",
       "      <th>Review</th>\n",
       "    </tr>\n",
       "  </thead>\n",
       "  <tbody>\n",
       "    <tr>\n",
       "      <th>0</th>\n",
       "      <td></td>\n",
       "    </tr>\n",
       "    <tr>\n",
       "      <th>1</th>\n",
       "      <td>“This book is a diary of my parents’ decline.”</td>\n",
       "    </tr>\n",
       "    <tr>\n",
       "      <th>2</th>\n",
       "      <td>So opens novelist Elizabeth Berg’s new biograp...</td>\n",
       "    </tr>\n",
       "    <tr>\n",
       "      <th>3</th>\n",
       "      <td>Berg’s father, a tough U.S. Army “lifer,” is i...</td>\n",
       "    </tr>\n",
       "    <tr>\n",
       "      <th>4</th>\n",
       "      <td>Berg and her sister try to negotiate and navig...</td>\n",
       "    </tr>\n",
       "    <tr>\n",
       "      <th>5</th>\n",
       "      <td>From the fall of 2010 to the summer of 2011, s...</td>\n",
       "    </tr>\n",
       "    <tr>\n",
       "      <th>6</th>\n",
       "      <td>Readers familiar with Berg’s novels know that ...</td>\n",
       "    </tr>\n",
       "    <tr>\n",
       "      <th>7</th>\n",
       "      <td></td>\n",
       "    </tr>\n",
       "  </tbody>\n",
       "</table>\n",
       "</div>"
      ],
      "text/plain": [
       "                                              Review\n",
       "0                                                   \n",
       "1     “This book is a diary of my parents’ decline.”\n",
       "2  So opens novelist Elizabeth Berg’s new biograp...\n",
       "3  Berg’s father, a tough U.S. Army “lifer,” is i...\n",
       "4  Berg and her sister try to negotiate and navig...\n",
       "5  From the fall of 2010 to the summer of 2011, s...\n",
       "6  Readers familiar with Berg’s novels know that ...\n",
       "7                                                   "
      ]
     },
     "execution_count": 44,
     "metadata": {},
     "output_type": "execute_result"
    }
   ],
   "source": [
    "df3=pd.DataFrame(review1)\n",
    "df3=df3.rename({0:'Review'},axis=1)\n",
    "df3"
   ]
  },
  {
   "cell_type": "code",
   "execution_count": 45,
   "metadata": {},
   "outputs": [
    {
     "data": {
      "text/html": [
       "<div>\n",
       "<style scoped>\n",
       "    .dataframe tbody tr th:only-of-type {\n",
       "        vertical-align: middle;\n",
       "    }\n",
       "\n",
       "    .dataframe tbody tr th {\n",
       "        vertical-align: top;\n",
       "    }\n",
       "\n",
       "    .dataframe thead th {\n",
       "        text-align: right;\n",
       "    }\n",
       "</style>\n",
       "<table border=\"1\" class=\"dataframe\">\n",
       "  <thead>\n",
       "    <tr style=\"text-align: right;\">\n",
       "      <th></th>\n",
       "      <th>Review</th>\n",
       "    </tr>\n",
       "  </thead>\n",
       "  <tbody>\n",
       "    <tr>\n",
       "      <th>0</th>\n",
       "      <td>“This book is a diary of my parents’ decline....</td>\n",
       "    </tr>\n",
       "  </tbody>\n",
       "</table>\n",
       "</div>"
      ],
      "text/plain": [
       "                                              Review\n",
       "0   “This book is a diary of my parents’ decline...."
      ]
     },
     "execution_count": 45,
     "metadata": {},
     "output_type": "execute_result"
    }
   ],
   "source": [
    "df3['Review']=df3['Review'].str.cat(sep=' ')\n",
    "df4=df3.iloc[:1]\n",
    "df4"
   ]
  },
  {
   "cell_type": "code",
   "execution_count": 46,
   "metadata": {},
   "outputs": [],
   "source": [
    "driver.get('https://bookpage.com/reviews/25654-jess-walter-cold-millions-fiction#.X51_I4gzY2w')"
   ]
  },
  {
   "cell_type": "code",
   "execution_count": 47,
   "metadata": {},
   "outputs": [],
   "source": [
    "review2= []"
   ]
  },
  {
   "cell_type": "code",
   "execution_count": 48,
   "metadata": {},
   "outputs": [],
   "source": [
    "z=driver.find_elements_by_xpath(\"//div[@class='article-body']/p\")"
   ]
  },
  {
   "cell_type": "code",
   "execution_count": 49,
   "metadata": {},
   "outputs": [
    {
     "data": {
      "text/plain": [
       "[<selenium.webdriver.remote.webelement.WebElement (session=\"09b0ef197e30417abb276d6fad1189e4\", element=\"f19eaf62-4d8c-45ca-acf7-e1006377c11a\")>,\n",
       " <selenium.webdriver.remote.webelement.WebElement (session=\"09b0ef197e30417abb276d6fad1189e4\", element=\"115c8c67-a448-4bca-a091-d3e5ca61f438\")>,\n",
       " <selenium.webdriver.remote.webelement.WebElement (session=\"09b0ef197e30417abb276d6fad1189e4\", element=\"fd2ade0a-4a0e-4267-8bb6-e9dd80cfcb15\")>,\n",
       " <selenium.webdriver.remote.webelement.WebElement (session=\"09b0ef197e30417abb276d6fad1189e4\", element=\"4eff5d35-560d-408e-ae61-24941f4407e9\")>,\n",
       " <selenium.webdriver.remote.webelement.WebElement (session=\"09b0ef197e30417abb276d6fad1189e4\", element=\"23ca899d-17e4-48ce-9b31-fe839ee52c3a\")>,\n",
       " <selenium.webdriver.remote.webelement.WebElement (session=\"09b0ef197e30417abb276d6fad1189e4\", element=\"4ea00925-0bcb-464c-9120-6b33a03f2957\")>,\n",
       " <selenium.webdriver.remote.webelement.WebElement (session=\"09b0ef197e30417abb276d6fad1189e4\", element=\"4fcc92c5-82b0-428d-9af3-bcc4afd79cae\")>,\n",
       " <selenium.webdriver.remote.webelement.WebElement (session=\"09b0ef197e30417abb276d6fad1189e4\", element=\"15d2f9d8-fe44-4739-a4b0-d649c89ccc76\")>,\n",
       " <selenium.webdriver.remote.webelement.WebElement (session=\"09b0ef197e30417abb276d6fad1189e4\", element=\"a1871507-8b84-4622-8d43-0c631c6e0693\")>]"
      ]
     },
     "execution_count": 49,
     "metadata": {},
     "output_type": "execute_result"
    }
   ],
   "source": [
    "z"
   ]
  },
  {
   "cell_type": "code",
   "execution_count": 50,
   "metadata": {},
   "outputs": [
    {
     "data": {
      "text/plain": [
       "['',\n",
       " 'Jess Walter’s first novel in eight years arrives with the weight of high expectations. His last, Beautiful Ruins, was a surprising and well-deserved bestseller. His previous fiction—including crime novels, a 9/11 tale and short stories—were rapturously reviewed.',\n",
       " 'In The Cold Millions, Walter tries another mixed genre, the Western historical novel, and shows he is a master at investigating the “hobo” world of 1909. The star of the book is Spokane, Washington, a “boomtown that just kept booming.” It is here, amid skid row poverty and mansions of wealth, that 19-year-old rabble rouser Elizabeth Gurley Flynn intersects with two orphaned young men, Rye and Gig, who are the protagonists of the story.',\n",
       " 'The book is uneven, however, and falls short of the romanticism of Beautiful Ruins. There is fine detail on dark anarchy and dank jail cells, but unlike Walter’s funny version of Richard Burton in Ruins, Flynn is so focused (one might say didactic) as to be wooden. Her leadership of the dismal class struggle becomes repetitive. Rye and Gig are callow, and even though Gig is a book lover and Rye a striver, they don’t fully inhabit their space. Readers may be far more interested in the villain, a robber baron named Brand, and a smart circus performer named Ursula the Great. When these two are cavorting, The Cold Millions shines.',\n",
       " 'Walter has devised some fantastic set pieces, including a riot that leads to a dreadful scene of jail overcrowding. The freedom of the road, the lawlessness of the police, the spectacle of a few cynical power figures making life miserable for the huddled masses—it’s all enlivened by Walter’s vivid writing. A reader can feel the rails rattling under the trains that thunder through the mountains. A new life, the 20th century, is roaring into being. As Rye thinks to himself, “History is like a parade.” ',\n",
       " 'Forget the book’s shortcomings; it’s good to have Jess Walter back.',\n",
       " ' ',\n",
       " 'ALSO IN BOOKPAGE: Jess Walter offers a closer look at The Cold Millions, his “last-gasp Western.”',\n",
       " '']"
      ]
     },
     "execution_count": 50,
     "metadata": {},
     "output_type": "execute_result"
    }
   ],
   "source": [
    "for i in z:\n",
    "    b= i.text\n",
    "    review2.append(b)\n",
    "review2"
   ]
  },
  {
   "cell_type": "code",
   "execution_count": 51,
   "metadata": {},
   "outputs": [
    {
     "data": {
      "text/html": [
       "<div>\n",
       "<style scoped>\n",
       "    .dataframe tbody tr th:only-of-type {\n",
       "        vertical-align: middle;\n",
       "    }\n",
       "\n",
       "    .dataframe tbody tr th {\n",
       "        vertical-align: top;\n",
       "    }\n",
       "\n",
       "    .dataframe thead th {\n",
       "        text-align: right;\n",
       "    }\n",
       "</style>\n",
       "<table border=\"1\" class=\"dataframe\">\n",
       "  <thead>\n",
       "    <tr style=\"text-align: right;\">\n",
       "      <th></th>\n",
       "      <th>Review</th>\n",
       "    </tr>\n",
       "  </thead>\n",
       "  <tbody>\n",
       "    <tr>\n",
       "      <th>0</th>\n",
       "      <td></td>\n",
       "    </tr>\n",
       "    <tr>\n",
       "      <th>1</th>\n",
       "      <td>Jess Walter’s first novel in eight years arriv...</td>\n",
       "    </tr>\n",
       "    <tr>\n",
       "      <th>2</th>\n",
       "      <td>In The Cold Millions, Walter tries another mix...</td>\n",
       "    </tr>\n",
       "    <tr>\n",
       "      <th>3</th>\n",
       "      <td>The book is uneven, however, and falls short o...</td>\n",
       "    </tr>\n",
       "    <tr>\n",
       "      <th>4</th>\n",
       "      <td>Walter has devised some fantastic set pieces, ...</td>\n",
       "    </tr>\n",
       "    <tr>\n",
       "      <th>5</th>\n",
       "      <td>Forget the book’s shortcomings; it’s good to h...</td>\n",
       "    </tr>\n",
       "    <tr>\n",
       "      <th>6</th>\n",
       "      <td></td>\n",
       "    </tr>\n",
       "    <tr>\n",
       "      <th>7</th>\n",
       "      <td>ALSO IN BOOKPAGE: Jess Walter offers a closer ...</td>\n",
       "    </tr>\n",
       "    <tr>\n",
       "      <th>8</th>\n",
       "      <td></td>\n",
       "    </tr>\n",
       "  </tbody>\n",
       "</table>\n",
       "</div>"
      ],
      "text/plain": [
       "                                              Review\n",
       "0                                                   \n",
       "1  Jess Walter’s first novel in eight years arriv...\n",
       "2  In The Cold Millions, Walter tries another mix...\n",
       "3  The book is uneven, however, and falls short o...\n",
       "4  Walter has devised some fantastic set pieces, ...\n",
       "5  Forget the book’s shortcomings; it’s good to h...\n",
       "6                                                   \n",
       "7  ALSO IN BOOKPAGE: Jess Walter offers a closer ...\n",
       "8                                                   "
      ]
     },
     "execution_count": 51,
     "metadata": {},
     "output_type": "execute_result"
    }
   ],
   "source": [
    "df5=pd.DataFrame(review2)\n",
    "df5=df5.rename({0:'Review'},axis=1)\n",
    "df5"
   ]
  },
  {
   "cell_type": "code",
   "execution_count": 52,
   "metadata": {},
   "outputs": [
    {
     "data": {
      "text/html": [
       "<div>\n",
       "<style scoped>\n",
       "    .dataframe tbody tr th:only-of-type {\n",
       "        vertical-align: middle;\n",
       "    }\n",
       "\n",
       "    .dataframe tbody tr th {\n",
       "        vertical-align: top;\n",
       "    }\n",
       "\n",
       "    .dataframe thead th {\n",
       "        text-align: right;\n",
       "    }\n",
       "</style>\n",
       "<table border=\"1\" class=\"dataframe\">\n",
       "  <thead>\n",
       "    <tr style=\"text-align: right;\">\n",
       "      <th></th>\n",
       "      <th>Review</th>\n",
       "    </tr>\n",
       "  </thead>\n",
       "  <tbody>\n",
       "    <tr>\n",
       "      <th>0</th>\n",
       "      <td>Jess Walter’s first novel in eight years arri...</td>\n",
       "    </tr>\n",
       "  </tbody>\n",
       "</table>\n",
       "</div>"
      ],
      "text/plain": [
       "                                              Review\n",
       "0   Jess Walter’s first novel in eight years arri..."
      ]
     },
     "execution_count": 52,
     "metadata": {},
     "output_type": "execute_result"
    }
   ],
   "source": [
    "df5['Review']=df5['Review'].str.cat(sep=' ')\n",
    "df6=df5.iloc[:1]\n",
    "df6"
   ]
  },
  {
   "cell_type": "code",
   "execution_count": 53,
   "metadata": {},
   "outputs": [],
   "source": [
    "driver.get('https://bookpage.com/reviews/25533-martin-amis-inside-story-fiction#.X52GkogzY2w')"
   ]
  },
  {
   "cell_type": "code",
   "execution_count": 54,
   "metadata": {},
   "outputs": [],
   "source": [
    "review3= []"
   ]
  },
  {
   "cell_type": "code",
   "execution_count": 55,
   "metadata": {},
   "outputs": [],
   "source": [
    "c=driver.find_elements_by_xpath(\"//div[@class='article-body']/p\")"
   ]
  },
  {
   "cell_type": "code",
   "execution_count": 56,
   "metadata": {},
   "outputs": [
    {
     "data": {
      "text/plain": [
       "[<selenium.webdriver.remote.webelement.WebElement (session=\"09b0ef197e30417abb276d6fad1189e4\", element=\"d8199012-e7b0-42d5-82e0-2335f1ba9bf3\")>,\n",
       " <selenium.webdriver.remote.webelement.WebElement (session=\"09b0ef197e30417abb276d6fad1189e4\", element=\"6d47d45c-77ee-4d58-884c-bb9368fa107c\")>,\n",
       " <selenium.webdriver.remote.webelement.WebElement (session=\"09b0ef197e30417abb276d6fad1189e4\", element=\"500d701c-f3ba-4926-9fff-7a3fabc283fd\")>,\n",
       " <selenium.webdriver.remote.webelement.WebElement (session=\"09b0ef197e30417abb276d6fad1189e4\", element=\"0de6331e-a55c-4f57-a82f-c0dfafe3fce0\")>,\n",
       " <selenium.webdriver.remote.webelement.WebElement (session=\"09b0ef197e30417abb276d6fad1189e4\", element=\"0003de57-b805-4efa-b861-7544e3f71d48\")>,\n",
       " <selenium.webdriver.remote.webelement.WebElement (session=\"09b0ef197e30417abb276d6fad1189e4\", element=\"9ddbbe5d-1486-44a5-998e-1944bd9d0b1c\")>,\n",
       " <selenium.webdriver.remote.webelement.WebElement (session=\"09b0ef197e30417abb276d6fad1189e4\", element=\"3fb12c42-0aff-4beb-aa33-ba3332517e5f\")>]"
      ]
     },
     "execution_count": 56,
     "metadata": {},
     "output_type": "execute_result"
    }
   ],
   "source": [
    "c"
   ]
  },
  {
   "cell_type": "code",
   "execution_count": 57,
   "metadata": {},
   "outputs": [
    {
     "data": {
      "text/plain": [
       "['',\n",
       " 'Though this book is categorized as a novel, there is little that, on the surface, appears fictional in British writer Martin Amis’ capacious “novelized memoir,” Inside Story. The book, he writes in its opening pages, “is about a life, my own, so it won’t read like a novel—more like a collection of linked short stories, with essayistic detours.” These short stories might better be called “episodes” that congeal into a metanarrative that is largely about the author’s lasting friendships with three late writers whose deaths left various scars on his personal landscape: his dear friend Christopher Hitchens, his mentor Saul Bellow and his parents’ close friend, the poet Philip Larkin.',\n",
       " 'Amis’ account sprawls back and forth across decades and continents, shifting not only in time but also in tense and voice, interrupted by a sometimes overwhelming quantity of explicating footnotes. This intentional disregard for conventional storytelling further blurs the line between truth and imagination. The reader presumes that much of the content is true at heart, with specifics morphed by the passage of time and the untrustworthiness of memory. But which parts are made up?',\n",
       " 'Readers might suspect that the character of Phoebe Phelps, a quirky, often infuriating girlfriend from the 1970s who remains Amis’ obsession for his entire adult life, is based in truth, if perhaps wildly exaggerated. But was she really a former escort turned high-class madam masquerading as a financial executive? Who knows? Amis certainly isn’t saying, nor should he. The important thing is that Phoebe drops a tantalizing, if dubious, bombshell halfway through that provides the book’s most compelling plot twist.',\n",
       " 'In one of the labyrinthine footnotes late in the book, Amis says of Bellow, “All the dead were in his custody, and he couldn’t let them go.” These elegant words might be applied to the real-life Amis as well. Now 71, this once-young buck of the British literary scene cannot help but look death, mortality and the meaning of life squarely in the face. And he does so with a singular panache and much offhanded wit, forging through upheavals past and present: 9/11, the Israeli-Palestinian conflict, the Trump presidency, totalitarianism, Islamism, the sexual revolution, Alzheimer’s and cancer, among many other dark realities.',\n",
       " 'Most readers will likely deem Inside Story more memoir than novel. It is certainly a sui generis work either way. Early on I christened it a “kitchen sink” book (as in, “everything but the”) and had to laugh, about halfway in, when the fictional Amis actually “poured the [drink] down the kitchen sink.” Yet whatever its hybrid status suggests, it regally caps Amis’ estimable literary career with cheeky candor and more than a touch of razzle-dazzle.',\n",
       " '']"
      ]
     },
     "execution_count": 57,
     "metadata": {},
     "output_type": "execute_result"
    }
   ],
   "source": [
    "for i in c:\n",
    "    d= i.text\n",
    "    review3.append(d)\n",
    "review3"
   ]
  },
  {
   "cell_type": "code",
   "execution_count": 58,
   "metadata": {},
   "outputs": [
    {
     "data": {
      "text/html": [
       "<div>\n",
       "<style scoped>\n",
       "    .dataframe tbody tr th:only-of-type {\n",
       "        vertical-align: middle;\n",
       "    }\n",
       "\n",
       "    .dataframe tbody tr th {\n",
       "        vertical-align: top;\n",
       "    }\n",
       "\n",
       "    .dataframe thead th {\n",
       "        text-align: right;\n",
       "    }\n",
       "</style>\n",
       "<table border=\"1\" class=\"dataframe\">\n",
       "  <thead>\n",
       "    <tr style=\"text-align: right;\">\n",
       "      <th></th>\n",
       "      <th>Review</th>\n",
       "    </tr>\n",
       "  </thead>\n",
       "  <tbody>\n",
       "    <tr>\n",
       "      <th>0</th>\n",
       "      <td></td>\n",
       "    </tr>\n",
       "    <tr>\n",
       "      <th>1</th>\n",
       "      <td>Though this book is categorized as a novel, th...</td>\n",
       "    </tr>\n",
       "    <tr>\n",
       "      <th>2</th>\n",
       "      <td>Amis’ account sprawls back and forth across de...</td>\n",
       "    </tr>\n",
       "    <tr>\n",
       "      <th>3</th>\n",
       "      <td>Readers might suspect that the character of Ph...</td>\n",
       "    </tr>\n",
       "    <tr>\n",
       "      <th>4</th>\n",
       "      <td>In one of the labyrinthine footnotes late in t...</td>\n",
       "    </tr>\n",
       "    <tr>\n",
       "      <th>5</th>\n",
       "      <td>Most readers will likely deem Inside Story mor...</td>\n",
       "    </tr>\n",
       "    <tr>\n",
       "      <th>6</th>\n",
       "      <td></td>\n",
       "    </tr>\n",
       "  </tbody>\n",
       "</table>\n",
       "</div>"
      ],
      "text/plain": [
       "                                              Review\n",
       "0                                                   \n",
       "1  Though this book is categorized as a novel, th...\n",
       "2  Amis’ account sprawls back and forth across de...\n",
       "3  Readers might suspect that the character of Ph...\n",
       "4  In one of the labyrinthine footnotes late in t...\n",
       "5  Most readers will likely deem Inside Story mor...\n",
       "6                                                   "
      ]
     },
     "execution_count": 58,
     "metadata": {},
     "output_type": "execute_result"
    }
   ],
   "source": [
    "df7=pd.DataFrame(review3)\n",
    "df7=df7.rename({0:'Review'},axis=1)\n",
    "df7"
   ]
  },
  {
   "cell_type": "code",
   "execution_count": 59,
   "metadata": {},
   "outputs": [
    {
     "data": {
      "text/html": [
       "<div>\n",
       "<style scoped>\n",
       "    .dataframe tbody tr th:only-of-type {\n",
       "        vertical-align: middle;\n",
       "    }\n",
       "\n",
       "    .dataframe tbody tr th {\n",
       "        vertical-align: top;\n",
       "    }\n",
       "\n",
       "    .dataframe thead th {\n",
       "        text-align: right;\n",
       "    }\n",
       "</style>\n",
       "<table border=\"1\" class=\"dataframe\">\n",
       "  <thead>\n",
       "    <tr style=\"text-align: right;\">\n",
       "      <th></th>\n",
       "      <th>Review</th>\n",
       "    </tr>\n",
       "  </thead>\n",
       "  <tbody>\n",
       "    <tr>\n",
       "      <th>0</th>\n",
       "      <td>Though this book is categorized as a novel, t...</td>\n",
       "    </tr>\n",
       "  </tbody>\n",
       "</table>\n",
       "</div>"
      ],
      "text/plain": [
       "                                              Review\n",
       "0   Though this book is categorized as a novel, t..."
      ]
     },
     "execution_count": 59,
     "metadata": {},
     "output_type": "execute_result"
    }
   ],
   "source": [
    "df7['Review']=df7['Review'].str.cat(sep=' ')\n",
    "df8=df7.iloc[:1]\n",
    "df8"
   ]
  },
  {
   "cell_type": "code",
   "execution_count": 60,
   "metadata": {},
   "outputs": [],
   "source": [
    "driver.get('https://bookpage.com/reviews/25683-andrzej-sapkowski-tower-fools-science-fiction-fantasy#.X52He4gzY2w')"
   ]
  },
  {
   "cell_type": "code",
   "execution_count": 61,
   "metadata": {},
   "outputs": [],
   "source": [
    "review4= []"
   ]
  },
  {
   "cell_type": "code",
   "execution_count": 62,
   "metadata": {},
   "outputs": [
    {
     "data": {
      "text/plain": [
       "[<selenium.webdriver.remote.webelement.WebElement (session=\"09b0ef197e30417abb276d6fad1189e4\", element=\"37499b9b-f892-44cd-8b3b-bfe0650f2456\")>,\n",
       " <selenium.webdriver.remote.webelement.WebElement (session=\"09b0ef197e30417abb276d6fad1189e4\", element=\"daabc61b-01b8-4f17-b940-8600b5a32299\")>,\n",
       " <selenium.webdriver.remote.webelement.WebElement (session=\"09b0ef197e30417abb276d6fad1189e4\", element=\"fa01093d-a55d-47ae-b031-da6e3de01e06\")>,\n",
       " <selenium.webdriver.remote.webelement.WebElement (session=\"09b0ef197e30417abb276d6fad1189e4\", element=\"3061749c-9ff9-44b8-ad5f-635abf5fb671\")>,\n",
       " <selenium.webdriver.remote.webelement.WebElement (session=\"09b0ef197e30417abb276d6fad1189e4\", element=\"d89b24da-7c2c-4e4c-b782-20e6a0ddece4\")>,\n",
       " <selenium.webdriver.remote.webelement.WebElement (session=\"09b0ef197e30417abb276d6fad1189e4\", element=\"817c8800-1839-40e3-93ee-bc4122b076bf\")>,\n",
       " <selenium.webdriver.remote.webelement.WebElement (session=\"09b0ef197e30417abb276d6fad1189e4\", element=\"59c58ae4-a6a3-44e7-b8b1-f1606c4a12fb\")>]"
      ]
     },
     "execution_count": 62,
     "metadata": {},
     "output_type": "execute_result"
    }
   ],
   "source": [
    "f=driver.find_elements_by_xpath(\"//div[@class='article-body']/p\")\n",
    "f"
   ]
  },
  {
   "cell_type": "code",
   "execution_count": 63,
   "metadata": {},
   "outputs": [
    {
     "data": {
      "text/plain": [
       "['',\n",
       " 'Take a moment and consider the last time you studied medieval European history, specifically the advent of Hussite “heresy” in the wake of John Wycliffe’s translation of the Bible into the common tongue. Focus specifically on the years between 1400 and 1440, during which the first through third anti-Hussite crusades took place. If these inquiries bring specific, vivid events to mind, then The Tower of Fools by Andrzej Sapkowski will be a fitting read for an enterprising European history enthusiast such as yourself.',\n",
       " 'Set in the powder keg of 15th-century Europe, The Tower of Fools brings readers into a richly referential world of Christian history as it casually dissects the events leading to the Protestant Reformation. Often Sapkowski’s references come audaciously close breaking the fourth wall (a character quite literally references nailing theses to a wall while coincidentally owning a cat named Luther). These references are spearheaded by our protagonist, Reinmar of Bielawa, who is an infamous seducer of married women and also a doctor, a student and a mage.',\n",
       " 'While the book is strongly grounded in the real events and politics of Catholic history in Europe, Sapkowski delights in depicting a range of magical abilities and creatures in his version of medieval Europe. His characters encounter the supernatural in a fairly believable way: with heavy skepticism, then fear, then denial and then, finally, acceptance. Magic, witchcraft and magical creatures enter and exit the story with such abruptness that neither readers nor characters have time to digest the last before the second appears before them. The supernatural elements, however, are not the primary crux of the story. The Tower of Fools deploys irony with the grace of a stampeding elephant, and, as such, our story centers on the king of fools, Reinmar. Reinmar embarks on a journey in which every wise character, force of nature, twist of fate and clear sign from God attempts to dissuade him from pursuing who Reinmar believes is his one true love, Adele. Adele is, naturally, a married woman, and Reinmar meets a motley crew of miscreants during his harrowing quest for her love.',\n",
       " 'The Tower of Fools clearly sets up for a series but provides ample entertainment as a standalone story. Sapkowski’s primary draw is his ability to weave rich historical context with a complex atmosphere of magic and superstition. The central characters are merely points of view that provide the reader a detailed perspective of the world; Reinmar and company are simple characters who grow little by the end of the story. However, this simplicity services the story Sapkowski tells, providing an easy starting point for readers to navigate the complex politics and superstition of the time period. While this is certainly not a slow read, Sapkowski does dole out plot points at a methodical pace. The first 300 pages or so pass before our central triad of characters meet up, and even longer passes before the larger subplots begin to come together.',\n",
       " 'Even with a fairly extensive understanding of Catholic history, I needed to keep Google handy while reading, and at one point I looked up a map of Silesia at the narration’s not-so-subtle prompting. Sapkowski often incorporates three other languages, and occasionally up to five, in addition to English: Polish, Latin and Italian primarily, with occasional French and German. He incorporates theology from early church figures like Augustine alongside the “modern” church leaders of the early- to mid-1400s, such as Wycliffe and Jan Hus and the Roman Curia. I would strongly suggest readers take the time to look up the words and references they do not understand. If all of these languages and references scare you—good. They should. The Tower of Fools is not an easy read, but it’s quite rewarding for readers ready to take the plunge.',\n",
       " '']"
      ]
     },
     "execution_count": 63,
     "metadata": {},
     "output_type": "execute_result"
    }
   ],
   "source": [
    "for i in f:\n",
    "    ab= i.text\n",
    "    review4.append(ab)\n",
    "review4"
   ]
  },
  {
   "cell_type": "code",
   "execution_count": 64,
   "metadata": {},
   "outputs": [
    {
     "data": {
      "text/html": [
       "<div>\n",
       "<style scoped>\n",
       "    .dataframe tbody tr th:only-of-type {\n",
       "        vertical-align: middle;\n",
       "    }\n",
       "\n",
       "    .dataframe tbody tr th {\n",
       "        vertical-align: top;\n",
       "    }\n",
       "\n",
       "    .dataframe thead th {\n",
       "        text-align: right;\n",
       "    }\n",
       "</style>\n",
       "<table border=\"1\" class=\"dataframe\">\n",
       "  <thead>\n",
       "    <tr style=\"text-align: right;\">\n",
       "      <th></th>\n",
       "      <th>Review</th>\n",
       "    </tr>\n",
       "  </thead>\n",
       "  <tbody>\n",
       "    <tr>\n",
       "      <th>0</th>\n",
       "      <td></td>\n",
       "    </tr>\n",
       "    <tr>\n",
       "      <th>1</th>\n",
       "      <td>Take a moment and consider the last time you s...</td>\n",
       "    </tr>\n",
       "    <tr>\n",
       "      <th>2</th>\n",
       "      <td>Set in the powder keg of 15th-century Europe, ...</td>\n",
       "    </tr>\n",
       "    <tr>\n",
       "      <th>3</th>\n",
       "      <td>While the book is strongly grounded in the rea...</td>\n",
       "    </tr>\n",
       "    <tr>\n",
       "      <th>4</th>\n",
       "      <td>The Tower of Fools clearly sets up for a serie...</td>\n",
       "    </tr>\n",
       "    <tr>\n",
       "      <th>5</th>\n",
       "      <td>Even with a fairly extensive understanding of ...</td>\n",
       "    </tr>\n",
       "    <tr>\n",
       "      <th>6</th>\n",
       "      <td></td>\n",
       "    </tr>\n",
       "  </tbody>\n",
       "</table>\n",
       "</div>"
      ],
      "text/plain": [
       "                                              Review\n",
       "0                                                   \n",
       "1  Take a moment and consider the last time you s...\n",
       "2  Set in the powder keg of 15th-century Europe, ...\n",
       "3  While the book is strongly grounded in the rea...\n",
       "4  The Tower of Fools clearly sets up for a serie...\n",
       "5  Even with a fairly extensive understanding of ...\n",
       "6                                                   "
      ]
     },
     "execution_count": 64,
     "metadata": {},
     "output_type": "execute_result"
    }
   ],
   "source": [
    "df9=pd.DataFrame(review4)\n",
    "df9=df9.rename({0:'Review'},axis=1)\n",
    "df9"
   ]
  },
  {
   "cell_type": "code",
   "execution_count": 65,
   "metadata": {},
   "outputs": [
    {
     "data": {
      "text/html": [
       "<div>\n",
       "<style scoped>\n",
       "    .dataframe tbody tr th:only-of-type {\n",
       "        vertical-align: middle;\n",
       "    }\n",
       "\n",
       "    .dataframe tbody tr th {\n",
       "        vertical-align: top;\n",
       "    }\n",
       "\n",
       "    .dataframe thead th {\n",
       "        text-align: right;\n",
       "    }\n",
       "</style>\n",
       "<table border=\"1\" class=\"dataframe\">\n",
       "  <thead>\n",
       "    <tr style=\"text-align: right;\">\n",
       "      <th></th>\n",
       "      <th>Review</th>\n",
       "    </tr>\n",
       "  </thead>\n",
       "  <tbody>\n",
       "    <tr>\n",
       "      <th>0</th>\n",
       "      <td>Take a moment and consider the last time you ...</td>\n",
       "    </tr>\n",
       "  </tbody>\n",
       "</table>\n",
       "</div>"
      ],
      "text/plain": [
       "                                              Review\n",
       "0   Take a moment and consider the last time you ..."
      ]
     },
     "execution_count": 65,
     "metadata": {},
     "output_type": "execute_result"
    }
   ],
   "source": [
    "df9['Review']=df9['Review'].str.cat(sep=' ')\n",
    "df10=df9.iloc[:1]\n",
    "df10"
   ]
  },
  {
   "cell_type": "code",
   "execution_count": 66,
   "metadata": {},
   "outputs": [],
   "source": [
    "driver.get('https://bookpage.com/reviews/25686-rebekah-weatherspoon-if-boot-fits-romance#.X52IdYgzY2w')"
   ]
  },
  {
   "cell_type": "code",
   "execution_count": 67,
   "metadata": {},
   "outputs": [],
   "source": [
    "review5= []"
   ]
  },
  {
   "cell_type": "code",
   "execution_count": 68,
   "metadata": {},
   "outputs": [
    {
     "data": {
      "text/plain": [
       "[<selenium.webdriver.remote.webelement.WebElement (session=\"09b0ef197e30417abb276d6fad1189e4\", element=\"0e8fb14b-1e48-4a32-9ee7-3f7c0b7b6dcc\")>,\n",
       " <selenium.webdriver.remote.webelement.WebElement (session=\"09b0ef197e30417abb276d6fad1189e4\", element=\"d798193a-0e4c-4dcb-a86d-95ab1daf5f1f\")>,\n",
       " <selenium.webdriver.remote.webelement.WebElement (session=\"09b0ef197e30417abb276d6fad1189e4\", element=\"db0ece07-d054-4c29-a256-4709b609dae9\")>,\n",
       " <selenium.webdriver.remote.webelement.WebElement (session=\"09b0ef197e30417abb276d6fad1189e4\", element=\"0a10127f-9026-4cfa-9c33-86efa353e7a4\")>,\n",
       " <selenium.webdriver.remote.webelement.WebElement (session=\"09b0ef197e30417abb276d6fad1189e4\", element=\"7c925a0a-187c-462a-9524-b6bb94a1bdef\")>,\n",
       " <selenium.webdriver.remote.webelement.WebElement (session=\"09b0ef197e30417abb276d6fad1189e4\", element=\"59095d5a-51d3-4106-8b72-36a743abb9aa\")>,\n",
       " <selenium.webdriver.remote.webelement.WebElement (session=\"09b0ef197e30417abb276d6fad1189e4\", element=\"da9f16c4-7efd-4d30-ad4c-07ebca7faf59\")>,\n",
       " <selenium.webdriver.remote.webelement.WebElement (session=\"09b0ef197e30417abb276d6fad1189e4\", element=\"742bc416-35d6-4066-ab56-eb6419cb79a2\")>,\n",
       " <selenium.webdriver.remote.webelement.WebElement (session=\"09b0ef197e30417abb276d6fad1189e4\", element=\"3476ba93-551c-472f-85fd-66c7a333b03b\")>]"
      ]
     },
     "execution_count": 68,
     "metadata": {},
     "output_type": "execute_result"
    }
   ],
   "source": [
    "h=driver.find_elements_by_xpath(\"//div[@class='article-body']/p\")\n",
    "h"
   ]
  },
  {
   "cell_type": "code",
   "execution_count": 69,
   "metadata": {},
   "outputs": [
    {
     "data": {
      "text/plain": [
       "['',\n",
       " 'One of romance’s brightest stars, Rebekah Weatherspoon is known for her sweet and steamy stories. With If the Boot Fits, the second in the Cowboys of California series, she  burnishes that reputation further, delivering a thoroughly modern Cinderella story about an aspiring screenwriter hesitantly falling for a sexy, celebrity, cinnamon-roll-sweet hero with swagger.',\n",
       " 'Weatherspoon deftly translates the classic rags to riches fairy tale’s core elements into a 21st-century context. As an overworked and underappreciated assistant, Amanda McQueen is the perfect contemporary equivalent of a put-upon poor relation—an invisible underling with proximity to the glitter and glam of Hollywood, but no meaningful access. Cinderella’s stepsisters and wicked stepmother have merged into a single figure, the pampered and punitive starlet Dru Anastasia, who uses Amanda as an emotional sounding board but provides little pay and no respect in return. Sam Pleasant, a former cowboy and scion of a venerable Black Hollywood family, makes an excellent 21st-century prince, and the Vanity Fair Oscar party easily stands in for a royal ball.',\n",
       " 'While it’s great fun to see this fantasy transformed, the relationship between Amanda and Sam is the beating heart of the story, and the way their connection develops is brand new. After all, Cinderella and Prince Charming didn’t hook up after the ball. Also new is Amanda’s irreverence and incredulity the morning after, when she wakes up in a hotel room and can’t help but think, “The night before must have been a dream.” Her mind boggles as she contemplates the series of events that led from the Vanity Fair Oscar party to an A-list after-party, and, eventually, to Sam’s bed. Her conclusion: “There was no way. . . . There was absolutely no freaking way she’d run into Samuel Pleasant at both events, and surely you’d be joking if you told her that sometime in the night she and Sam had completely hit it off.”',\n",
       " 'This is Amanda’s voice throughout— lively, skeptical and incredibly relatable. Thinking this can’t happen or it’s just one night is incredibly freeing, and Amanda could use some freedom from her grind. One moment, she and Sam are having fun, with no names exchanged and no expectations. The next, he’s asking for her name in the middle of her “enthusiastic rendition of the cha-cha slide.” But she’s still skeptical, so she plays it cool and keeps it moving. “Sorry, I can’t hear you. I’m dancing,” is Amanda’s reply, and she assumes that’s that.',\n",
       " 'It’s a joy to read those initial scenes and watch Sam and Amanda’s warring instincts battle it out. Weatherspoon creates vivid, specific characters and gives them wonderful interior lives and excellent banter. Their romance begins with that one-night stand, and the initial spark grows through a shared sense of fun, common values and tastes. Sam recognizes something in Amanda, and he invites her into his home and his inner circle without hesitation.',\n",
       " 'It should be obvious that they belong together, and yet, despite the chemistry and all their commonalities, according to the conventions of Hollywood, romantic fiction and fairy tales, Sam and Amanda qualify as an “unlikely couple,” defying major societal norms. Sam comes from a wealthy family and has just won an Academy Award, whereas Amanda is “a D-list actress’s lowly assistant” who is struggling to find her footing in the entertainment industry and to just make her rent each month. And even though they’re both African American, Amanda is a beautiful, dark-skinned, plus-size Black woman. In a culture that still holds fast to narrow definitions of what constitutes beauty, this reduces her status and eligibility. To be clear, Amanda has confidence in her talent and her looks. She’s also very aware, however, and sometimes overtly reminded, that successful Black women in Hollywood don’t often look like her. The contrast to her boss, Dru, a thin, light-skinned biracial woman, is especially prominent.',\n",
       " 'It’s not often that distinctions like this are directly challenged on the page in traditionally published romance, and Weatherspoon handles it all with grace, allowing discomfiting truths and subtle social critique to emerge organically from the events of the story. Conflicts around class, color and size are just part of this romance, however. It’s really about character and family. Though If the Boot Fits places Amanda in a professional context in which she cannot fully escape toxic standards, much of the central relationship develops on Sam’s ranch, a hundred miles away from the image-obsessed center of the storm. As a result, their love story never feels didactic and the romance never gets weighed down. There’s warmth and lightness throughout this very contemporary, yet ultimately classically romantic retelling—Amanda thrives on the support from her own friends and family, and Sam’s family may be Black Hollywood royalty, but they’re also grounded, kind human beings, who embrace her and remind her of home. Readers who want romance to explore some of the real issues that women like Amanda face and see her beautifully celebrated and cherished will absolutely adore this book.',\n",
       " '']"
      ]
     },
     "execution_count": 69,
     "metadata": {},
     "output_type": "execute_result"
    }
   ],
   "source": [
    "for i in h:\n",
    "    abc= i.text\n",
    "    review5.append(abc)\n",
    "review5"
   ]
  },
  {
   "cell_type": "code",
   "execution_count": 71,
   "metadata": {},
   "outputs": [
    {
     "data": {
      "text/html": [
       "<div>\n",
       "<style scoped>\n",
       "    .dataframe tbody tr th:only-of-type {\n",
       "        vertical-align: middle;\n",
       "    }\n",
       "\n",
       "    .dataframe tbody tr th {\n",
       "        vertical-align: top;\n",
       "    }\n",
       "\n",
       "    .dataframe thead th {\n",
       "        text-align: right;\n",
       "    }\n",
       "</style>\n",
       "<table border=\"1\" class=\"dataframe\">\n",
       "  <thead>\n",
       "    <tr style=\"text-align: right;\">\n",
       "      <th></th>\n",
       "      <th>Review</th>\n",
       "    </tr>\n",
       "  </thead>\n",
       "  <tbody>\n",
       "    <tr>\n",
       "      <th>0</th>\n",
       "      <td></td>\n",
       "    </tr>\n",
       "    <tr>\n",
       "      <th>1</th>\n",
       "      <td>One of romance’s brightest stars, Rebekah Weat...</td>\n",
       "    </tr>\n",
       "    <tr>\n",
       "      <th>2</th>\n",
       "      <td>Weatherspoon deftly translates the classic rag...</td>\n",
       "    </tr>\n",
       "    <tr>\n",
       "      <th>3</th>\n",
       "      <td>While it’s great fun to see this fantasy trans...</td>\n",
       "    </tr>\n",
       "    <tr>\n",
       "      <th>4</th>\n",
       "      <td>This is Amanda’s voice throughout— lively, ske...</td>\n",
       "    </tr>\n",
       "    <tr>\n",
       "      <th>5</th>\n",
       "      <td>It’s a joy to read those initial scenes and wa...</td>\n",
       "    </tr>\n",
       "    <tr>\n",
       "      <th>6</th>\n",
       "      <td>It should be obvious that they belong together...</td>\n",
       "    </tr>\n",
       "    <tr>\n",
       "      <th>7</th>\n",
       "      <td>It’s not often that distinctions like this are...</td>\n",
       "    </tr>\n",
       "    <tr>\n",
       "      <th>8</th>\n",
       "      <td></td>\n",
       "    </tr>\n",
       "  </tbody>\n",
       "</table>\n",
       "</div>"
      ],
      "text/plain": [
       "                                              Review\n",
       "0                                                   \n",
       "1  One of romance’s brightest stars, Rebekah Weat...\n",
       "2  Weatherspoon deftly translates the classic rag...\n",
       "3  While it’s great fun to see this fantasy trans...\n",
       "4  This is Amanda’s voice throughout— lively, ske...\n",
       "5  It’s a joy to read those initial scenes and wa...\n",
       "6  It should be obvious that they belong together...\n",
       "7  It’s not often that distinctions like this are...\n",
       "8                                                   "
      ]
     },
     "execution_count": 71,
     "metadata": {},
     "output_type": "execute_result"
    }
   ],
   "source": [
    "df11=pd.DataFrame(review5)\n",
    "df11=df11.rename({0:'Review'},axis=1)\n",
    "df11"
   ]
  },
  {
   "cell_type": "code",
   "execution_count": 72,
   "metadata": {},
   "outputs": [
    {
     "data": {
      "text/html": [
       "<div>\n",
       "<style scoped>\n",
       "    .dataframe tbody tr th:only-of-type {\n",
       "        vertical-align: middle;\n",
       "    }\n",
       "\n",
       "    .dataframe tbody tr th {\n",
       "        vertical-align: top;\n",
       "    }\n",
       "\n",
       "    .dataframe thead th {\n",
       "        text-align: right;\n",
       "    }\n",
       "</style>\n",
       "<table border=\"1\" class=\"dataframe\">\n",
       "  <thead>\n",
       "    <tr style=\"text-align: right;\">\n",
       "      <th></th>\n",
       "      <th>Review</th>\n",
       "    </tr>\n",
       "  </thead>\n",
       "  <tbody>\n",
       "    <tr>\n",
       "      <th>0</th>\n",
       "      <td>One of romance’s brightest stars, Rebekah Wea...</td>\n",
       "    </tr>\n",
       "  </tbody>\n",
       "</table>\n",
       "</div>"
      ],
      "text/plain": [
       "                                              Review\n",
       "0   One of romance’s brightest stars, Rebekah Wea..."
      ]
     },
     "execution_count": 72,
     "metadata": {},
     "output_type": "execute_result"
    }
   ],
   "source": [
    "df11['Review']=df11['Review'].str.cat(sep=' ')\n",
    "df12=df11.iloc[:1]\n",
    "df12"
   ]
  },
  {
   "cell_type": "code",
   "execution_count": 74,
   "metadata": {},
   "outputs": [
    {
     "data": {
      "text/html": [
       "<div>\n",
       "<style scoped>\n",
       "    .dataframe tbody tr th:only-of-type {\n",
       "        vertical-align: middle;\n",
       "    }\n",
       "\n",
       "    .dataframe tbody tr th {\n",
       "        vertical-align: top;\n",
       "    }\n",
       "\n",
       "    .dataframe thead th {\n",
       "        text-align: right;\n",
       "    }\n",
       "</style>\n",
       "<table border=\"1\" class=\"dataframe\">\n",
       "  <thead>\n",
       "    <tr style=\"text-align: right;\">\n",
       "      <th></th>\n",
       "      <th>Review</th>\n",
       "    </tr>\n",
       "  </thead>\n",
       "  <tbody>\n",
       "    <tr>\n",
       "      <th>0</th>\n",
       "      <td>“This book is a diary of my parents’ decline....</td>\n",
       "    </tr>\n",
       "    <tr>\n",
       "      <th>1</th>\n",
       "      <td>Jess Walter’s first novel in eight years arri...</td>\n",
       "    </tr>\n",
       "    <tr>\n",
       "      <th>2</th>\n",
       "      <td>Though this book is categorized as a novel, t...</td>\n",
       "    </tr>\n",
       "    <tr>\n",
       "      <th>3</th>\n",
       "      <td>Take a moment and consider the last time you ...</td>\n",
       "    </tr>\n",
       "    <tr>\n",
       "      <th>4</th>\n",
       "      <td>One of romance’s brightest stars, Rebekah Wea...</td>\n",
       "    </tr>\n",
       "  </tbody>\n",
       "</table>\n",
       "</div>"
      ],
      "text/plain": [
       "                                              Review\n",
       "0   “This book is a diary of my parents’ decline....\n",
       "1   Jess Walter’s first novel in eight years arri...\n",
       "2   Though this book is categorized as a novel, t...\n",
       "3   Take a moment and consider the last time you ...\n",
       "4   One of romance’s brightest stars, Rebekah Wea..."
      ]
     },
     "execution_count": 74,
     "metadata": {},
     "output_type": "execute_result"
    }
   ],
   "source": [
    "df13=pd.concat([df4,df6,df8,df10,df12],axis=0)\n",
    "df13=df13.reset_index(drop=True)\n",
    "df13"
   ]
  },
  {
   "cell_type": "code",
   "execution_count": 75,
   "metadata": {},
   "outputs": [
    {
     "data": {
      "text/html": [
       "<div>\n",
       "<style scoped>\n",
       "    .dataframe tbody tr th:only-of-type {\n",
       "        vertical-align: middle;\n",
       "    }\n",
       "\n",
       "    .dataframe tbody tr th {\n",
       "        vertical-align: top;\n",
       "    }\n",
       "\n",
       "    .dataframe thead th {\n",
       "        text-align: right;\n",
       "    }\n",
       "</style>\n",
       "<table border=\"1\" class=\"dataframe\">\n",
       "  <thead>\n",
       "    <tr style=\"text-align: right;\">\n",
       "      <th></th>\n",
       "      <th>Book Name</th>\n",
       "      <th>Author_Name</th>\n",
       "      <th>Genre</th>\n",
       "      <th>Review</th>\n",
       "    </tr>\n",
       "  </thead>\n",
       "  <tbody>\n",
       "    <tr>\n",
       "      <th>0</th>\n",
       "      <td>[I'll Be Seeing You]</td>\n",
       "      <td>Elizabeth Berg</td>\n",
       "      <td>Nonfiction  /  Memoir  /  Family &amp; Relationsh...</td>\n",
       "      <td>“This book is a diary of my parents’ decline....</td>\n",
       "    </tr>\n",
       "    <tr>\n",
       "      <th>1</th>\n",
       "      <td>[The Cold Millions]</td>\n",
       "      <td>Jess Walter</td>\n",
       "      <td>Fiction  /  Historical Fiction</td>\n",
       "      <td>Jess Walter’s first novel in eight years arri...</td>\n",
       "    </tr>\n",
       "    <tr>\n",
       "      <th>2</th>\n",
       "      <td>[Inside Story]</td>\n",
       "      <td>Martin Amis</td>\n",
       "      <td>Fiction  /  Literary Fiction</td>\n",
       "      <td>Though this book is categorized as a novel, t...</td>\n",
       "    </tr>\n",
       "    <tr>\n",
       "      <th>3</th>\n",
       "      <td>[The Tower of Fools]</td>\n",
       "      <td>Andrzej Sapkowski</td>\n",
       "      <td>Science Fiction &amp; Fantasy  /  Fantasy  /  His...</td>\n",
       "      <td>Take a moment and consider the last time you ...</td>\n",
       "    </tr>\n",
       "    <tr>\n",
       "      <th>4</th>\n",
       "      <td>[ , [★ ], If the Boot Fits]</td>\n",
       "      <td>Rebekah Weatherspoon</td>\n",
       "      <td>Romance  /  Contemporary Romance</td>\n",
       "      <td>One of romance’s brightest stars, Rebekah Wea...</td>\n",
       "    </tr>\n",
       "  </tbody>\n",
       "</table>\n",
       "</div>"
      ],
      "text/plain": [
       "                     Book Name             Author_Name  \\\n",
       "0         [I'll Be Seeing You]         Elizabeth Berg    \n",
       "1          [The Cold Millions]            Jess Walter    \n",
       "2               [Inside Story]            Martin Amis    \n",
       "3         [The Tower of Fools]      Andrzej Sapkowski    \n",
       "4  [ , [★ ], If the Boot Fits]   Rebekah Weatherspoon    \n",
       "\n",
       "                                               Genre  \\\n",
       "0   Nonfiction  /  Memoir  /  Family & Relationsh...   \n",
       "1                    Fiction  /  Historical Fiction    \n",
       "2                      Fiction  /  Literary Fiction    \n",
       "3   Science Fiction & Fantasy  /  Fantasy  /  His...   \n",
       "4                  Romance  /  Contemporary Romance    \n",
       "\n",
       "                                              Review  \n",
       "0   “This book is a diary of my parents’ decline....  \n",
       "1   Jess Walter’s first novel in eight years arri...  \n",
       "2   Though this book is categorized as a novel, t...  \n",
       "3   Take a moment and consider the last time you ...  \n",
       "4   One of romance’s brightest stars, Rebekah Wea...  "
      ]
     },
     "execution_count": 75,
     "metadata": {},
     "output_type": "execute_result"
    }
   ],
   "source": [
    "Bookpage_Books=pd.concat([Bookpage,df13],axis=1)\n",
    "Bookpage_Books"
   ]
  },
  {
   "cell_type": "markdown",
   "metadata": {},
   "source": [
    "# Saving the Data into CSV file"
   ]
  },
  {
   "cell_type": "code",
   "execution_count": 76,
   "metadata": {},
   "outputs": [],
   "source": [
    "Bookpage_Books.to_csv('Bookpage_Books_Overview.csv')"
   ]
  },
  {
   "cell_type": "code",
   "execution_count": null,
   "metadata": {},
   "outputs": [],
   "source": []
  }
 ],
 "metadata": {
  "kernelspec": {
   "display_name": "Python 3",
   "language": "python",
   "name": "python3"
  },
  "language_info": {
   "codemirror_mode": {
    "name": "ipython",
    "version": 3
   },
   "file_extension": ".py",
   "mimetype": "text/x-python",
   "name": "python",
   "nbconvert_exporter": "python",
   "pygments_lexer": "ipython3",
   "version": "3.8.3"
  }
 },
 "nbformat": 4,
 "nbformat_minor": 4
}
