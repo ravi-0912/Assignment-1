{
 "cells": [
  {
   "cell_type": "code",
   "execution_count": 1,
   "metadata": {},
   "outputs": [],
   "source": [
    "from selenium import webdriver\n",
    "from bs4 import BeautifulSoup\n",
    "import pandas as pd"
   ]
  },
  {
   "cell_type": "code",
   "execution_count": 2,
   "metadata": {},
   "outputs": [],
   "source": [
    "path = r\"C:\\Users\\verma\\Desktop\\Selenium\\chromedriver.exe\""
   ]
  },
  {
   "cell_type": "code",
   "execution_count": 3,
   "metadata": {},
   "outputs": [],
   "source": [
    "driver=webdriver.Chrome(path)"
   ]
  },
  {
   "cell_type": "code",
   "execution_count": 4,
   "metadata": {},
   "outputs": [],
   "source": [
    "driver.get('https://forecast.weather.gov/MapClick.php?lat=37.777120000000025&lon=-122.41963999999996#.X5uwmIgzY2w')"
   ]
  },
  {
   "cell_type": "code",
   "execution_count": 5,
   "metadata": {},
   "outputs": [
    {
     "name": "stdout",
     "output_type": "stream",
     "text": [
      "9\n",
      "9\n",
      "4\n",
      "5\n",
      "13\n"
     ]
    }
   ],
   "source": [
    "content=driver.page_source\n",
    "soup=BeautifulSoup(content)\n",
    "period=soup.findAll('p',attrs={'class':'period-name'})\n",
    "print(len(period))\n",
    "short_desc=soup.findAll('p',attrs={'class':'short-desc'})\n",
    "print(len(short_desc))\n",
    "temp=soup.findAll('p',attrs={'class':'temp temp-low'})\n",
    "print(len(temp))\n",
    "temp1=soup.findAll('p',attrs={'class':'temp temp-high'})\n",
    "print(len(temp1))\n",
    "desc=soup.findAll('div',attrs={'class':'col-sm-10 forecast-text'})\n",
    "print(len(desc))"
   ]
  },
  {
   "cell_type": "code",
   "execution_count": 6,
   "metadata": {},
   "outputs": [
    {
     "data": {
      "text/plain": [
       "[<p class=\"period-name\">Today<br/><br/></p>,\n",
       " <p class=\"period-name\">Tonight<br/><br/></p>,\n",
       " <p class=\"period-name\">Sunday<br/><br/></p>,\n",
       " <p class=\"period-name\">Sunday<br/>Night</p>,\n",
       " <p class=\"period-name\">Monday<br/><br/></p>,\n",
       " <p class=\"period-name\">Monday<br/>Night</p>,\n",
       " <p class=\"period-name\">Tuesday<br/><br/></p>,\n",
       " <p class=\"period-name\">Tuesday<br/>Night</p>,\n",
       " <p class=\"period-name\">Wednesday<br/><br/></p>]"
      ]
     },
     "execution_count": 6,
     "metadata": {},
     "output_type": "execute_result"
    }
   ],
   "source": [
    "period"
   ]
  },
  {
   "cell_type": "code",
   "execution_count": 7,
   "metadata": {},
   "outputs": [
    {
     "data": {
      "text/plain": [
       "[<p class=\"short-desc\" style=\"height: 54px;\">Sunny</p>,\n",
       " <p class=\"short-desc\" style=\"height: 54px;\">Mostly Clear</p>,\n",
       " <p class=\"short-desc\" style=\"height: 54px;\">Sunny</p>,\n",
       " <p class=\"short-desc\" style=\"height: 54px;\">Partly Cloudy</p>,\n",
       " <p class=\"short-desc\" style=\"height: 54px;\">Sunny</p>,\n",
       " <p class=\"short-desc\" style=\"height: 54px;\">Partly Cloudy</p>,\n",
       " <p class=\"short-desc\" style=\"height: 54px;\">Mostly Sunny</p>,\n",
       " <p class=\"short-desc\" style=\"height: 54px;\">Partly Cloudy</p>,\n",
       " <p class=\"short-desc\" style=\"height: 54px;\">Mostly Sunny</p>]"
      ]
     },
     "execution_count": 7,
     "metadata": {},
     "output_type": "execute_result"
    }
   ],
   "source": [
    "short_desc"
   ]
  },
  {
   "cell_type": "code",
   "execution_count": 8,
   "metadata": {},
   "outputs": [
    {
     "data": {
      "text/plain": [
       "[<p class=\"temp temp-low\">Low: 53 °F</p>,\n",
       " <p class=\"temp temp-low\">Low: 54 °F</p>,\n",
       " <p class=\"temp temp-low\">Low: 53 °F</p>,\n",
       " <p class=\"temp temp-low\">Low: 54 °F</p>]"
      ]
     },
     "execution_count": 8,
     "metadata": {},
     "output_type": "execute_result"
    }
   ],
   "source": [
    "temp"
   ]
  },
  {
   "cell_type": "code",
   "execution_count": 9,
   "metadata": {},
   "outputs": [
    {
     "data": {
      "text/plain": [
       "[<p class=\"temp temp-high\">High: 75 °F</p>,\n",
       " <p class=\"temp temp-high\">High: 76 °F</p>,\n",
       " <p class=\"temp temp-high\">High: 77 °F</p>,\n",
       " <p class=\"temp temp-high\">High: 72 °F</p>,\n",
       " <p class=\"temp temp-high\">High: 72 °F</p>]"
      ]
     },
     "execution_count": 9,
     "metadata": {},
     "output_type": "execute_result"
    }
   ],
   "source": [
    "temp1"
   ]
  },
  {
   "cell_type": "code",
   "execution_count": 10,
   "metadata": {},
   "outputs": [
    {
     "data": {
      "text/plain": [
       "[<div class=\"col-sm-10 forecast-text\">Sunny, with a high near 75. Calm wind becoming west northwest around 6 mph in the afternoon. </div>,\n",
       " <div class=\"col-sm-10 forecast-text\">Mostly clear, with a low around 53. West wind 5 to 9 mph becoming calm  after midnight. </div>,\n",
       " <div class=\"col-sm-10 forecast-text\">Sunny, with a high near 76. Calm wind becoming northwest around 5 mph in the afternoon. </div>,\n",
       " <div class=\"col-sm-10 forecast-text\">Partly cloudy, with a low around 54. West wind 5 to 8 mph becoming calm  after midnight. </div>,\n",
       " <div class=\"col-sm-10 forecast-text\">Sunny, with a high near 77. Light northwest wind. </div>,\n",
       " <div class=\"col-sm-10 forecast-text\">Partly cloudy, with a low around 53.</div>,\n",
       " <div class=\"col-sm-10 forecast-text\">Mostly sunny, with a high near 72.</div>,\n",
       " <div class=\"col-sm-10 forecast-text\">Partly cloudy, with a low around 54.</div>,\n",
       " <div class=\"col-sm-10 forecast-text\">Mostly sunny, with a high near 72.</div>,\n",
       " <div class=\"col-sm-10 forecast-text\">Partly cloudy, with a low around 55.</div>,\n",
       " <div class=\"col-sm-10 forecast-text\">Mostly sunny, with a high near 73.</div>,\n",
       " <div class=\"col-sm-10 forecast-text\">Partly cloudy, with a low around 55.</div>,\n",
       " <div class=\"col-sm-10 forecast-text\">Mostly sunny, with a high near 68.</div>]"
      ]
     },
     "execution_count": 10,
     "metadata": {},
     "output_type": "execute_result"
    }
   ],
   "source": [
    "desc"
   ]
  },
  {
   "cell_type": "code",
   "execution_count": 11,
   "metadata": {},
   "outputs": [],
   "source": [
    "Period=[]\n",
    "Short_desc=[]\n",
    "Temp=[]\n",
    "Temp1=[]\n",
    "Desc=[]"
   ]
  },
  {
   "cell_type": "code",
   "execution_count": 12,
   "metadata": {},
   "outputs": [
    {
     "data": {
      "text/plain": [
       "['Today',\n",
       " 'Tonight',\n",
       " 'Sunday',\n",
       " 'SundayNight',\n",
       " 'Monday',\n",
       " 'MondayNight',\n",
       " 'Tuesday',\n",
       " 'TuesdayNight',\n",
       " 'Wednesday']"
      ]
     },
     "execution_count": 12,
     "metadata": {},
     "output_type": "execute_result"
    }
   ],
   "source": [
    "for i in period:\n",
    "    Period.append(i.text)\n",
    "Period"
   ]
  },
  {
   "cell_type": "code",
   "execution_count": 13,
   "metadata": {},
   "outputs": [
    {
     "data": {
      "text/html": [
       "<div>\n",
       "<style scoped>\n",
       "    .dataframe tbody tr th:only-of-type {\n",
       "        vertical-align: middle;\n",
       "    }\n",
       "\n",
       "    .dataframe tbody tr th {\n",
       "        vertical-align: top;\n",
       "    }\n",
       "\n",
       "    .dataframe thead th {\n",
       "        text-align: right;\n",
       "    }\n",
       "</style>\n",
       "<table border=\"1\" class=\"dataframe\">\n",
       "  <thead>\n",
       "    <tr style=\"text-align: right;\">\n",
       "      <th></th>\n",
       "      <th>Period</th>\n",
       "    </tr>\n",
       "  </thead>\n",
       "  <tbody>\n",
       "    <tr>\n",
       "      <th>0</th>\n",
       "      <td>Today</td>\n",
       "    </tr>\n",
       "    <tr>\n",
       "      <th>1</th>\n",
       "      <td>Tonight</td>\n",
       "    </tr>\n",
       "    <tr>\n",
       "      <th>2</th>\n",
       "      <td>Sunday</td>\n",
       "    </tr>\n",
       "    <tr>\n",
       "      <th>3</th>\n",
       "      <td>SundayNight</td>\n",
       "    </tr>\n",
       "    <tr>\n",
       "      <th>4</th>\n",
       "      <td>Monday</td>\n",
       "    </tr>\n",
       "    <tr>\n",
       "      <th>5</th>\n",
       "      <td>MondayNight</td>\n",
       "    </tr>\n",
       "    <tr>\n",
       "      <th>6</th>\n",
       "      <td>Tuesday</td>\n",
       "    </tr>\n",
       "    <tr>\n",
       "      <th>7</th>\n",
       "      <td>TuesdayNight</td>\n",
       "    </tr>\n",
       "    <tr>\n",
       "      <th>8</th>\n",
       "      <td>Wednesday</td>\n",
       "    </tr>\n",
       "  </tbody>\n",
       "</table>\n",
       "</div>"
      ],
      "text/plain": [
       "         Period\n",
       "0         Today\n",
       "1       Tonight\n",
       "2        Sunday\n",
       "3   SundayNight\n",
       "4        Monday\n",
       "5   MondayNight\n",
       "6       Tuesday\n",
       "7  TuesdayNight\n",
       "8     Wednesday"
      ]
     },
     "execution_count": 13,
     "metadata": {},
     "output_type": "execute_result"
    }
   ],
   "source": [
    "df=pd.DataFrame(Period)\n",
    "df=df.rename({0:'Period'},axis=1)\n",
    "df"
   ]
  },
  {
   "cell_type": "code",
   "execution_count": 14,
   "metadata": {},
   "outputs": [
    {
     "data": {
      "text/plain": [
       "['Sunny',\n",
       " 'Mostly Clear',\n",
       " 'Sunny',\n",
       " 'Partly Cloudy',\n",
       " 'Sunny',\n",
       " 'Partly Cloudy',\n",
       " 'Mostly Sunny',\n",
       " 'Partly Cloudy',\n",
       " 'Mostly Sunny']"
      ]
     },
     "execution_count": 14,
     "metadata": {},
     "output_type": "execute_result"
    }
   ],
   "source": [
    "for i in short_desc:\n",
    "    Short_desc.append(i.text)\n",
    "Short_desc"
   ]
  },
  {
   "cell_type": "code",
   "execution_count": 15,
   "metadata": {},
   "outputs": [
    {
     "data": {
      "text/html": [
       "<div>\n",
       "<style scoped>\n",
       "    .dataframe tbody tr th:only-of-type {\n",
       "        vertical-align: middle;\n",
       "    }\n",
       "\n",
       "    .dataframe tbody tr th {\n",
       "        vertical-align: top;\n",
       "    }\n",
       "\n",
       "    .dataframe thead th {\n",
       "        text-align: right;\n",
       "    }\n",
       "</style>\n",
       "<table border=\"1\" class=\"dataframe\">\n",
       "  <thead>\n",
       "    <tr style=\"text-align: right;\">\n",
       "      <th></th>\n",
       "      <th>Short_desc</th>\n",
       "    </tr>\n",
       "  </thead>\n",
       "  <tbody>\n",
       "    <tr>\n",
       "      <th>0</th>\n",
       "      <td>Sunny</td>\n",
       "    </tr>\n",
       "    <tr>\n",
       "      <th>1</th>\n",
       "      <td>Mostly Clear</td>\n",
       "    </tr>\n",
       "    <tr>\n",
       "      <th>2</th>\n",
       "      <td>Sunny</td>\n",
       "    </tr>\n",
       "    <tr>\n",
       "      <th>3</th>\n",
       "      <td>Partly Cloudy</td>\n",
       "    </tr>\n",
       "    <tr>\n",
       "      <th>4</th>\n",
       "      <td>Sunny</td>\n",
       "    </tr>\n",
       "    <tr>\n",
       "      <th>5</th>\n",
       "      <td>Partly Cloudy</td>\n",
       "    </tr>\n",
       "    <tr>\n",
       "      <th>6</th>\n",
       "      <td>Mostly Sunny</td>\n",
       "    </tr>\n",
       "    <tr>\n",
       "      <th>7</th>\n",
       "      <td>Partly Cloudy</td>\n",
       "    </tr>\n",
       "    <tr>\n",
       "      <th>8</th>\n",
       "      <td>Mostly Sunny</td>\n",
       "    </tr>\n",
       "  </tbody>\n",
       "</table>\n",
       "</div>"
      ],
      "text/plain": [
       "      Short_desc\n",
       "0          Sunny\n",
       "1   Mostly Clear\n",
       "2          Sunny\n",
       "3  Partly Cloudy\n",
       "4          Sunny\n",
       "5  Partly Cloudy\n",
       "6   Mostly Sunny\n",
       "7  Partly Cloudy\n",
       "8   Mostly Sunny"
      ]
     },
     "execution_count": 15,
     "metadata": {},
     "output_type": "execute_result"
    }
   ],
   "source": [
    "df1=pd.DataFrame(Short_desc)\n",
    "df1=df1.rename({0:'Short_desc'},axis=1)\n",
    "df1"
   ]
  },
  {
   "cell_type": "code",
   "execution_count": 16,
   "metadata": {},
   "outputs": [
    {
     "data": {
      "text/plain": [
       "['Low: 53 °F', 'Low: 54 °F', 'Low: 53 °F', 'Low: 54 °F']"
      ]
     },
     "execution_count": 16,
     "metadata": {},
     "output_type": "execute_result"
    }
   ],
   "source": [
    "for i in temp:\n",
    "    Temp.append(i.text)\n",
    "Temp"
   ]
  },
  {
   "cell_type": "code",
   "execution_count": 17,
   "metadata": {},
   "outputs": [
    {
     "data": {
      "text/html": [
       "<div>\n",
       "<style scoped>\n",
       "    .dataframe tbody tr th:only-of-type {\n",
       "        vertical-align: middle;\n",
       "    }\n",
       "\n",
       "    .dataframe tbody tr th {\n",
       "        vertical-align: top;\n",
       "    }\n",
       "\n",
       "    .dataframe thead th {\n",
       "        text-align: right;\n",
       "    }\n",
       "</style>\n",
       "<table border=\"1\" class=\"dataframe\">\n",
       "  <thead>\n",
       "    <tr style=\"text-align: right;\">\n",
       "      <th></th>\n",
       "      <th>0</th>\n",
       "    </tr>\n",
       "  </thead>\n",
       "  <tbody>\n",
       "    <tr>\n",
       "      <th>0</th>\n",
       "      <td>Low: 53 °F</td>\n",
       "    </tr>\n",
       "    <tr>\n",
       "      <th>1</th>\n",
       "      <td>Low: 54 °F</td>\n",
       "    </tr>\n",
       "    <tr>\n",
       "      <th>2</th>\n",
       "      <td>Low: 53 °F</td>\n",
       "    </tr>\n",
       "    <tr>\n",
       "      <th>3</th>\n",
       "      <td>Low: 54 °F</td>\n",
       "    </tr>\n",
       "  </tbody>\n",
       "</table>\n",
       "</div>"
      ],
      "text/plain": [
       "            0\n",
       "0  Low: 53 °F\n",
       "1  Low: 54 °F\n",
       "2  Low: 53 °F\n",
       "3  Low: 54 °F"
      ]
     },
     "execution_count": 17,
     "metadata": {},
     "output_type": "execute_result"
    }
   ],
   "source": [
    "df2=pd.DataFrame(Temp)\n",
    "df2"
   ]
  },
  {
   "cell_type": "code",
   "execution_count": 18,
   "metadata": {},
   "outputs": [
    {
     "data": {
      "text/plain": [
       "['High: 75 °F', 'High: 76 °F', 'High: 77 °F', 'High: 72 °F', 'High: 72 °F']"
      ]
     },
     "execution_count": 18,
     "metadata": {},
     "output_type": "execute_result"
    }
   ],
   "source": [
    "for i in temp1:\n",
    "    Temp1.append(i.text)\n",
    "Temp1"
   ]
  },
  {
   "cell_type": "code",
   "execution_count": 19,
   "metadata": {},
   "outputs": [
    {
     "data": {
      "text/html": [
       "<div>\n",
       "<style scoped>\n",
       "    .dataframe tbody tr th:only-of-type {\n",
       "        vertical-align: middle;\n",
       "    }\n",
       "\n",
       "    .dataframe tbody tr th {\n",
       "        vertical-align: top;\n",
       "    }\n",
       "\n",
       "    .dataframe thead th {\n",
       "        text-align: right;\n",
       "    }\n",
       "</style>\n",
       "<table border=\"1\" class=\"dataframe\">\n",
       "  <thead>\n",
       "    <tr style=\"text-align: right;\">\n",
       "      <th></th>\n",
       "      <th>0</th>\n",
       "    </tr>\n",
       "  </thead>\n",
       "  <tbody>\n",
       "    <tr>\n",
       "      <th>0</th>\n",
       "      <td>High: 75 °F</td>\n",
       "    </tr>\n",
       "    <tr>\n",
       "      <th>1</th>\n",
       "      <td>High: 76 °F</td>\n",
       "    </tr>\n",
       "    <tr>\n",
       "      <th>2</th>\n",
       "      <td>High: 77 °F</td>\n",
       "    </tr>\n",
       "    <tr>\n",
       "      <th>3</th>\n",
       "      <td>High: 72 °F</td>\n",
       "    </tr>\n",
       "    <tr>\n",
       "      <th>4</th>\n",
       "      <td>High: 72 °F</td>\n",
       "    </tr>\n",
       "  </tbody>\n",
       "</table>\n",
       "</div>"
      ],
      "text/plain": [
       "             0\n",
       "0  High: 75 °F\n",
       "1  High: 76 °F\n",
       "2  High: 77 °F\n",
       "3  High: 72 °F\n",
       "4  High: 72 °F"
      ]
     },
     "execution_count": 19,
     "metadata": {},
     "output_type": "execute_result"
    }
   ],
   "source": [
    "df3=pd.DataFrame(Temp1)\n",
    "df3"
   ]
  },
  {
   "cell_type": "code",
   "execution_count": 24,
   "metadata": {},
   "outputs": [
    {
     "data": {
      "text/html": [
       "<div>\n",
       "<style scoped>\n",
       "    .dataframe tbody tr th:only-of-type {\n",
       "        vertical-align: middle;\n",
       "    }\n",
       "\n",
       "    .dataframe tbody tr th {\n",
       "        vertical-align: top;\n",
       "    }\n",
       "\n",
       "    .dataframe thead th {\n",
       "        text-align: right;\n",
       "    }\n",
       "</style>\n",
       "<table border=\"1\" class=\"dataframe\">\n",
       "  <thead>\n",
       "    <tr style=\"text-align: right;\">\n",
       "      <th></th>\n",
       "      <th>Temperature</th>\n",
       "    </tr>\n",
       "  </thead>\n",
       "  <tbody>\n",
       "    <tr>\n",
       "      <th>0</th>\n",
       "      <td>Low: 53 °F</td>\n",
       "    </tr>\n",
       "    <tr>\n",
       "      <th>1</th>\n",
       "      <td>High: 75 °F</td>\n",
       "    </tr>\n",
       "    <tr>\n",
       "      <th>2</th>\n",
       "      <td>Low: 54 °F</td>\n",
       "    </tr>\n",
       "    <tr>\n",
       "      <th>3</th>\n",
       "      <td>High: 76 °F</td>\n",
       "    </tr>\n",
       "    <tr>\n",
       "      <th>4</th>\n",
       "      <td>Low: 53 °F</td>\n",
       "    </tr>\n",
       "    <tr>\n",
       "      <th>5</th>\n",
       "      <td>High: 77 °F</td>\n",
       "    </tr>\n",
       "    <tr>\n",
       "      <th>6</th>\n",
       "      <td>Low: 54 °F</td>\n",
       "    </tr>\n",
       "    <tr>\n",
       "      <th>7</th>\n",
       "      <td>High: 72 °F</td>\n",
       "    </tr>\n",
       "    <tr>\n",
       "      <th>8</th>\n",
       "      <td>High: 72 °F</td>\n",
       "    </tr>\n",
       "  </tbody>\n",
       "</table>\n",
       "</div>"
      ],
      "text/plain": [
       "   Temperature\n",
       "0   Low: 53 °F\n",
       "1  High: 75 °F\n",
       "2   Low: 54 °F\n",
       "3  High: 76 °F\n",
       "4   Low: 53 °F\n",
       "5  High: 77 °F\n",
       "6   Low: 54 °F\n",
       "7  High: 72 °F\n",
       "8  High: 72 °F"
      ]
     },
     "execution_count": 24,
     "metadata": {},
     "output_type": "execute_result"
    }
   ],
   "source": [
    "df4=pd.concat([df2,df3]).sort_index(kind='merge')\n",
    "df4=df4.reset_index(drop=True)\n",
    "df4=df4.rename({0:'Temperature'},axis=1)\n",
    "df4"
   ]
  },
  {
   "cell_type": "code",
   "execution_count": 21,
   "metadata": {},
   "outputs": [
    {
     "data": {
      "text/plain": [
       "['Sunny, with a high near 75. Calm wind becoming west northwest around 6 mph in the afternoon. ',\n",
       " 'Mostly clear, with a low around 53. West wind 5 to 9 mph becoming calm  after midnight. ',\n",
       " 'Sunny, with a high near 76. Calm wind becoming northwest around 5 mph in the afternoon. ',\n",
       " 'Partly cloudy, with a low around 54. West wind 5 to 8 mph becoming calm  after midnight. ',\n",
       " 'Sunny, with a high near 77. Light northwest wind. ',\n",
       " 'Partly cloudy, with a low around 53.',\n",
       " 'Mostly sunny, with a high near 72.',\n",
       " 'Partly cloudy, with a low around 54.',\n",
       " 'Mostly sunny, with a high near 72.',\n",
       " 'Partly cloudy, with a low around 55.',\n",
       " 'Mostly sunny, with a high near 73.',\n",
       " 'Partly cloudy, with a low around 55.',\n",
       " 'Mostly sunny, with a high near 68.']"
      ]
     },
     "execution_count": 21,
     "metadata": {},
     "output_type": "execute_result"
    }
   ],
   "source": [
    "for i in desc:\n",
    "    Desc.append(i.text)\n",
    "Desc"
   ]
  },
  {
   "cell_type": "code",
   "execution_count": 22,
   "metadata": {},
   "outputs": [
    {
     "data": {
      "text/html": [
       "<div>\n",
       "<style scoped>\n",
       "    .dataframe tbody tr th:only-of-type {\n",
       "        vertical-align: middle;\n",
       "    }\n",
       "\n",
       "    .dataframe tbody tr th {\n",
       "        vertical-align: top;\n",
       "    }\n",
       "\n",
       "    .dataframe thead th {\n",
       "        text-align: right;\n",
       "    }\n",
       "</style>\n",
       "<table border=\"1\" class=\"dataframe\">\n",
       "  <thead>\n",
       "    <tr style=\"text-align: right;\">\n",
       "      <th></th>\n",
       "      <th>Description</th>\n",
       "    </tr>\n",
       "  </thead>\n",
       "  <tbody>\n",
       "    <tr>\n",
       "      <th>0</th>\n",
       "      <td>Sunny, with a high near 75. Calm wind becoming...</td>\n",
       "    </tr>\n",
       "    <tr>\n",
       "      <th>1</th>\n",
       "      <td>Mostly clear, with a low around 53. West wind ...</td>\n",
       "    </tr>\n",
       "    <tr>\n",
       "      <th>2</th>\n",
       "      <td>Sunny, with a high near 76. Calm wind becoming...</td>\n",
       "    </tr>\n",
       "    <tr>\n",
       "      <th>3</th>\n",
       "      <td>Partly cloudy, with a low around 54. West wind...</td>\n",
       "    </tr>\n",
       "    <tr>\n",
       "      <th>4</th>\n",
       "      <td>Sunny, with a high near 77. Light northwest wi...</td>\n",
       "    </tr>\n",
       "    <tr>\n",
       "      <th>5</th>\n",
       "      <td>Partly cloudy, with a low around 53.</td>\n",
       "    </tr>\n",
       "    <tr>\n",
       "      <th>6</th>\n",
       "      <td>Mostly sunny, with a high near 72.</td>\n",
       "    </tr>\n",
       "    <tr>\n",
       "      <th>7</th>\n",
       "      <td>Partly cloudy, with a low around 54.</td>\n",
       "    </tr>\n",
       "    <tr>\n",
       "      <th>8</th>\n",
       "      <td>Mostly sunny, with a high near 72.</td>\n",
       "    </tr>\n",
       "  </tbody>\n",
       "</table>\n",
       "</div>"
      ],
      "text/plain": [
       "                                         Description\n",
       "0  Sunny, with a high near 75. Calm wind becoming...\n",
       "1  Mostly clear, with a low around 53. West wind ...\n",
       "2  Sunny, with a high near 76. Calm wind becoming...\n",
       "3  Partly cloudy, with a low around 54. West wind...\n",
       "4  Sunny, with a high near 77. Light northwest wi...\n",
       "5               Partly cloudy, with a low around 53.\n",
       "6                 Mostly sunny, with a high near 72.\n",
       "7               Partly cloudy, with a low around 54.\n",
       "8                 Mostly sunny, with a high near 72."
      ]
     },
     "execution_count": 22,
     "metadata": {},
     "output_type": "execute_result"
    }
   ],
   "source": [
    "df5=pd.DataFrame(Desc)\n",
    "df5=df5.rename({0:'Description'},axis=1)\n",
    "df5=df5.iloc[0:9]\n",
    "df5"
   ]
  },
  {
   "cell_type": "code",
   "execution_count": 25,
   "metadata": {},
   "outputs": [
    {
     "data": {
      "text/html": [
       "<div>\n",
       "<style scoped>\n",
       "    .dataframe tbody tr th:only-of-type {\n",
       "        vertical-align: middle;\n",
       "    }\n",
       "\n",
       "    .dataframe tbody tr th {\n",
       "        vertical-align: top;\n",
       "    }\n",
       "\n",
       "    .dataframe thead th {\n",
       "        text-align: right;\n",
       "    }\n",
       "</style>\n",
       "<table border=\"1\" class=\"dataframe\">\n",
       "  <thead>\n",
       "    <tr style=\"text-align: right;\">\n",
       "      <th></th>\n",
       "      <th>Period</th>\n",
       "      <th>Short_desc</th>\n",
       "      <th>Temperature</th>\n",
       "      <th>Description</th>\n",
       "    </tr>\n",
       "  </thead>\n",
       "  <tbody>\n",
       "    <tr>\n",
       "      <th>0</th>\n",
       "      <td>Today</td>\n",
       "      <td>Sunny</td>\n",
       "      <td>Low: 53 °F</td>\n",
       "      <td>Sunny, with a high near 75. Calm wind becoming...</td>\n",
       "    </tr>\n",
       "    <tr>\n",
       "      <th>1</th>\n",
       "      <td>Tonight</td>\n",
       "      <td>Mostly Clear</td>\n",
       "      <td>High: 75 °F</td>\n",
       "      <td>Mostly clear, with a low around 53. West wind ...</td>\n",
       "    </tr>\n",
       "    <tr>\n",
       "      <th>2</th>\n",
       "      <td>Sunday</td>\n",
       "      <td>Sunny</td>\n",
       "      <td>Low: 54 °F</td>\n",
       "      <td>Sunny, with a high near 76. Calm wind becoming...</td>\n",
       "    </tr>\n",
       "    <tr>\n",
       "      <th>3</th>\n",
       "      <td>SundayNight</td>\n",
       "      <td>Partly Cloudy</td>\n",
       "      <td>High: 76 °F</td>\n",
       "      <td>Partly cloudy, with a low around 54. West wind...</td>\n",
       "    </tr>\n",
       "    <tr>\n",
       "      <th>4</th>\n",
       "      <td>Monday</td>\n",
       "      <td>Sunny</td>\n",
       "      <td>Low: 53 °F</td>\n",
       "      <td>Sunny, with a high near 77. Light northwest wi...</td>\n",
       "    </tr>\n",
       "    <tr>\n",
       "      <th>5</th>\n",
       "      <td>MondayNight</td>\n",
       "      <td>Partly Cloudy</td>\n",
       "      <td>High: 77 °F</td>\n",
       "      <td>Partly cloudy, with a low around 53.</td>\n",
       "    </tr>\n",
       "    <tr>\n",
       "      <th>6</th>\n",
       "      <td>Tuesday</td>\n",
       "      <td>Mostly Sunny</td>\n",
       "      <td>Low: 54 °F</td>\n",
       "      <td>Mostly sunny, with a high near 72.</td>\n",
       "    </tr>\n",
       "    <tr>\n",
       "      <th>7</th>\n",
       "      <td>TuesdayNight</td>\n",
       "      <td>Partly Cloudy</td>\n",
       "      <td>High: 72 °F</td>\n",
       "      <td>Partly cloudy, with a low around 54.</td>\n",
       "    </tr>\n",
       "    <tr>\n",
       "      <th>8</th>\n",
       "      <td>Wednesday</td>\n",
       "      <td>Mostly Sunny</td>\n",
       "      <td>High: 72 °F</td>\n",
       "      <td>Mostly sunny, with a high near 72.</td>\n",
       "    </tr>\n",
       "  </tbody>\n",
       "</table>\n",
       "</div>"
      ],
      "text/plain": [
       "         Period     Short_desc  Temperature  \\\n",
       "0         Today          Sunny   Low: 53 °F   \n",
       "1       Tonight   Mostly Clear  High: 75 °F   \n",
       "2        Sunday          Sunny   Low: 54 °F   \n",
       "3   SundayNight  Partly Cloudy  High: 76 °F   \n",
       "4        Monday          Sunny   Low: 53 °F   \n",
       "5   MondayNight  Partly Cloudy  High: 77 °F   \n",
       "6       Tuesday   Mostly Sunny   Low: 54 °F   \n",
       "7  TuesdayNight  Partly Cloudy  High: 72 °F   \n",
       "8     Wednesday   Mostly Sunny  High: 72 °F   \n",
       "\n",
       "                                         Description  \n",
       "0  Sunny, with a high near 75. Calm wind becoming...  \n",
       "1  Mostly clear, with a low around 53. West wind ...  \n",
       "2  Sunny, with a high near 76. Calm wind becoming...  \n",
       "3  Partly cloudy, with a low around 54. West wind...  \n",
       "4  Sunny, with a high near 77. Light northwest wi...  \n",
       "5               Partly cloudy, with a low around 53.  \n",
       "6                 Mostly sunny, with a high near 72.  \n",
       "7               Partly cloudy, with a low around 54.  \n",
       "8                 Mostly sunny, with a high near 72.  "
      ]
     },
     "execution_count": 25,
     "metadata": {},
     "output_type": "execute_result"
    }
   ],
   "source": [
    "Weather_info=pd.concat([df,df1,df4,df5],axis=1)\n",
    "Weather_info"
   ]
  },
  {
   "cell_type": "markdown",
   "metadata": {},
   "source": [
    "# Saving Weather information csv file"
   ]
  },
  {
   "cell_type": "code",
   "execution_count": 26,
   "metadata": {},
   "outputs": [],
   "source": [
    "Weather_info.to_csv('Weather_information.csv')"
   ]
  },
  {
   "cell_type": "code",
   "execution_count": null,
   "metadata": {},
   "outputs": [],
   "source": []
  }
 ],
 "metadata": {
  "kernelspec": {
   "display_name": "Python 3",
   "language": "python",
   "name": "python3"
  },
  "language_info": {
   "codemirror_mode": {
    "name": "ipython",
    "version": 3
   },
   "file_extension": ".py",
   "mimetype": "text/x-python",
   "name": "python",
   "nbconvert_exporter": "python",
   "pygments_lexer": "ipython3",
   "version": "3.8.3"
  }
 },
 "nbformat": 4,
 "nbformat_minor": 4
}
